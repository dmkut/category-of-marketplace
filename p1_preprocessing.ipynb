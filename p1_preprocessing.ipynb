{
 "cells": [
  {
   "cell_type": "code",
   "execution_count": 2,
   "id": "51a62e90",
   "metadata": {},
   "outputs": [],
   "source": [
    "import pandas as pd\n",
    "import numpy as np\n",
    "import ast\n",
    "from pandas import json_normalize\n",
    "\n",
    "from tqdm.notebook import tqdm\n",
    "tqdm.pandas()\n",
    "import warnings\n",
    "warnings.filterwarnings('ignore')"
   ]
  },
  {
   "cell_type": "markdown",
   "id": "3eb7fe75",
   "metadata": {},
   "source": [
    "# Часть 1. Предобработка данных"
   ]
  },
  {
   "cell_type": "markdown",
   "id": "a323439f",
   "metadata": {},
   "source": [
    "На данном этапе наша задача изучить данные и сформировать признаки, необходимые для работы модели"
   ]
  },
  {
   "cell_type": "markdown",
   "id": "b280ed1a",
   "metadata": {},
   "source": [
    "## Подготовка данных"
   ]
  },
  {
   "cell_type": "markdown",
   "id": "61151375",
   "metadata": {},
   "source": [
    "### Загрузка даных"
   ]
  },
  {
   "cell_type": "code",
   "execution_count": 3,
   "id": "ae6090f1",
   "metadata": {},
   "outputs": [],
   "source": [
    "train = pd.read_parquet('~/kazan-exp/train.parquet')"
   ]
  },
  {
   "cell_type": "code",
   "execution_count": 4,
   "id": "2451de7e",
   "metadata": {},
   "outputs": [],
   "source": [
    "test = pd.read_parquet('~/kazan-exp/test.parquet')"
   ]
  },
  {
   "cell_type": "code",
   "execution_count": 34,
   "id": "88c31592",
   "metadata": {},
   "outputs": [],
   "source": [
    "#text_fields = pd.read_csv('~/work/text_fields.csv')"
   ]
  },
  {
   "cell_type": "code",
   "execution_count": 162,
   "id": "c8e8672e",
   "metadata": {},
   "outputs": [
    {
     "name": "stdout",
     "output_type": "stream",
     "text": [
      "<class 'pandas.core.frame.DataFrame'>\n",
      "RangeIndex: 91120 entries, 0 to 91119\n",
      "Data columns (total 13 columns):\n",
      " #   Column         Non-Null Count  Dtype  \n",
      "---  ------         --------------  -----  \n",
      " 0   product_id     91120 non-null  int64  \n",
      " 1   category_id    91120 non-null  int64  \n",
      " 2   sale           91120 non-null  bool   \n",
      " 3   shop_id        91120 non-null  int64  \n",
      " 4   shop_title     91120 non-null  object \n",
      " 5   rating         91120 non-null  float64\n",
      " 6   text_fields    91120 non-null  object \n",
      " 7   category_name  91120 non-null  object \n",
      " 8   level_1        91120 non-null  object \n",
      " 9   level_2        91120 non-null  object \n",
      " 10  level_3        91120 non-null  object \n",
      " 11  level_4        91120 non-null  object \n",
      " 12  level_5        91120 non-null  object \n",
      "dtypes: bool(1), float64(1), int64(3), object(8)\n",
      "memory usage: 8.4+ MB\n"
     ]
    }
   ],
   "source": [
    "train.info()"
   ]
  },
  {
   "cell_type": "code",
   "execution_count": 5,
   "id": "827f5b6f",
   "metadata": {},
   "outputs": [
    {
     "data": {
      "text/html": [
       "<div>\n",
       "<style scoped>\n",
       "    .dataframe tbody tr th:only-of-type {\n",
       "        vertical-align: middle;\n",
       "    }\n",
       "\n",
       "    .dataframe tbody tr th {\n",
       "        vertical-align: top;\n",
       "    }\n",
       "\n",
       "    .dataframe thead th {\n",
       "        text-align: right;\n",
       "    }\n",
       "</style>\n",
       "<table border=\"1\" class=\"dataframe\">\n",
       "  <thead>\n",
       "    <tr style=\"text-align: right;\">\n",
       "      <th></th>\n",
       "      <th>product_id</th>\n",
       "      <th>category_id</th>\n",
       "      <th>sale</th>\n",
       "      <th>shop_id</th>\n",
       "      <th>shop_title</th>\n",
       "      <th>rating</th>\n",
       "      <th>text_fields</th>\n",
       "      <th>category_name</th>\n",
       "    </tr>\n",
       "  </thead>\n",
       "  <tbody>\n",
       "    <tr>\n",
       "      <th>0</th>\n",
       "      <td>325286</td>\n",
       "      <td>12171</td>\n",
       "      <td>False</td>\n",
       "      <td>9031</td>\n",
       "      <td>Aksik</td>\n",
       "      <td>5.0</td>\n",
       "      <td>{\"title\": \"Зарядный кабель Borofone BX1 Lightn...</td>\n",
       "      <td>Все категории-&gt;Электроника-&gt;Смартфоны и телефо...</td>\n",
       "    </tr>\n",
       "    <tr>\n",
       "      <th>1</th>\n",
       "      <td>888134</td>\n",
       "      <td>14233</td>\n",
       "      <td>False</td>\n",
       "      <td>18305</td>\n",
       "      <td>Sela</td>\n",
       "      <td>5.0</td>\n",
       "      <td>{\"title\": \"Трусы Sela\", \"description\": \"Трусы-...</td>\n",
       "      <td>Все категории-&gt;Одежда-&gt;Женская одежда-&gt;Белье и...</td>\n",
       "    </tr>\n",
       "    <tr>\n",
       "      <th>3</th>\n",
       "      <td>1267173</td>\n",
       "      <td>13429</td>\n",
       "      <td>False</td>\n",
       "      <td>16357</td>\n",
       "      <td>ЮНЛАНДИЯ канцтовары</td>\n",
       "      <td>5.0</td>\n",
       "      <td>{\"title\": \"Гуашь \\\"ЮНЫЙ ВОЛШЕБНИК\\\", 12 цветов...</td>\n",
       "      <td>Все категории-&gt;Хобби и творчество-&gt;Рисование-&gt;...</td>\n",
       "    </tr>\n",
       "    <tr>\n",
       "      <th>4</th>\n",
       "      <td>1416943</td>\n",
       "      <td>2789</td>\n",
       "      <td>False</td>\n",
       "      <td>34666</td>\n",
       "      <td>вася-nicotine</td>\n",
       "      <td>4.0</td>\n",
       "      <td>{\"title\": \"Колба для кальяна Крафт (разные цве...</td>\n",
       "      <td>Все категории-&gt;Хобби и творчество-&gt;Товары для ...</td>\n",
       "    </tr>\n",
       "    <tr>\n",
       "      <th>5</th>\n",
       "      <td>1058275</td>\n",
       "      <td>12834</td>\n",
       "      <td>False</td>\n",
       "      <td>26389</td>\n",
       "      <td>Lim Market</td>\n",
       "      <td>4.6</td>\n",
       "      <td>{\"title\": \"Пижама женская, однотонная с шортам...</td>\n",
       "      <td>Все категории-&gt;Одежда-&gt;Женская одежда-&gt;Домашня...</td>\n",
       "    </tr>\n",
       "  </tbody>\n",
       "</table>\n",
       "</div>"
      ],
      "text/plain": [
       "   product_id  category_id   sale  shop_id           shop_title  rating  \\\n",
       "0      325286        12171  False     9031                Aksik     5.0   \n",
       "1      888134        14233  False    18305                 Sela     5.0   \n",
       "3     1267173        13429  False    16357  ЮНЛАНДИЯ канцтовары     5.0   \n",
       "4     1416943         2789  False    34666        вася-nicotine     4.0   \n",
       "5     1058275        12834  False    26389           Lim Market     4.6   \n",
       "\n",
       "                                         text_fields  \\\n",
       "0  {\"title\": \"Зарядный кабель Borofone BX1 Lightn...   \n",
       "1  {\"title\": \"Трусы Sela\", \"description\": \"Трусы-...   \n",
       "3  {\"title\": \"Гуашь \\\"ЮНЫЙ ВОЛШЕБНИК\\\", 12 цветов...   \n",
       "4  {\"title\": \"Колба для кальяна Крафт (разные цве...   \n",
       "5  {\"title\": \"Пижама женская, однотонная с шортам...   \n",
       "\n",
       "                                       category_name  \n",
       "0  Все категории->Электроника->Смартфоны и телефо...  \n",
       "1  Все категории->Одежда->Женская одежда->Белье и...  \n",
       "3  Все категории->Хобби и творчество->Рисование->...  \n",
       "4  Все категории->Хобби и творчество->Товары для ...  \n",
       "5  Все категории->Одежда->Женская одежда->Домашня...  "
      ]
     },
     "execution_count": 5,
     "metadata": {},
     "output_type": "execute_result"
    }
   ],
   "source": [
    "train.head()"
   ]
  },
  {
   "cell_type": "code",
   "execution_count": 6,
   "id": "b91e860d",
   "metadata": {},
   "outputs": [
    {
     "data": {
      "text/html": [
       "<div>\n",
       "<style scoped>\n",
       "    .dataframe tbody tr th:only-of-type {\n",
       "        vertical-align: middle;\n",
       "    }\n",
       "\n",
       "    .dataframe tbody tr th {\n",
       "        vertical-align: top;\n",
       "    }\n",
       "\n",
       "    .dataframe thead th {\n",
       "        text-align: right;\n",
       "    }\n",
       "</style>\n",
       "<table border=\"1\" class=\"dataframe\">\n",
       "  <thead>\n",
       "    <tr style=\"text-align: right;\">\n",
       "      <th></th>\n",
       "      <th>product_id</th>\n",
       "      <th>sale</th>\n",
       "      <th>shop_id</th>\n",
       "      <th>shop_title</th>\n",
       "      <th>rating</th>\n",
       "      <th>text_fields</th>\n",
       "    </tr>\n",
       "  </thead>\n",
       "  <tbody>\n",
       "    <tr>\n",
       "      <th>1</th>\n",
       "      <td>1997646</td>\n",
       "      <td>False</td>\n",
       "      <td>22758</td>\n",
       "      <td>Sky_Electronics</td>\n",
       "      <td>5.000000</td>\n",
       "      <td>{\"title\": \"Светодиодная лента Smart led Strip ...</td>\n",
       "    </tr>\n",
       "    <tr>\n",
       "      <th>2</th>\n",
       "      <td>927375</td>\n",
       "      <td>False</td>\n",
       "      <td>17729</td>\n",
       "      <td>Di-Di Market</td>\n",
       "      <td>4.405941</td>\n",
       "      <td>{\"title\": \"Стекло ПЛЕНКА керамик матовое Honor...</td>\n",
       "    </tr>\n",
       "    <tr>\n",
       "      <th>3</th>\n",
       "      <td>1921513</td>\n",
       "      <td>False</td>\n",
       "      <td>54327</td>\n",
       "      <td>VisionStore</td>\n",
       "      <td>4.000000</td>\n",
       "      <td>{\"title\": \"Проводные наушники с микрофоном jac...</td>\n",
       "    </tr>\n",
       "    <tr>\n",
       "      <th>4</th>\n",
       "      <td>1668662</td>\n",
       "      <td>False</td>\n",
       "      <td>15000</td>\n",
       "      <td>FORNAILS</td>\n",
       "      <td>5.000000</td>\n",
       "      <td>{\"title\": \"Декоративная табличка \\\"Правила кух...</td>\n",
       "    </tr>\n",
       "    <tr>\n",
       "      <th>5</th>\n",
       "      <td>1467778</td>\n",
       "      <td>False</td>\n",
       "      <td>39600</td>\n",
       "      <td>МОЯ КУХНЯ</td>\n",
       "      <td>5.000000</td>\n",
       "      <td>{\"title\": \"Подставка под ложку керамическая, п...</td>\n",
       "    </tr>\n",
       "  </tbody>\n",
       "</table>\n",
       "</div>"
      ],
      "text/plain": [
       "   product_id   sale  shop_id       shop_title    rating  \\\n",
       "1     1997646  False    22758  Sky_Electronics  5.000000   \n",
       "2      927375  False    17729     Di-Di Market  4.405941   \n",
       "3     1921513  False    54327      VisionStore  4.000000   \n",
       "4     1668662  False    15000         FORNAILS  5.000000   \n",
       "5     1467778  False    39600        МОЯ КУХНЯ  5.000000   \n",
       "\n",
       "                                         text_fields  \n",
       "1  {\"title\": \"Светодиодная лента Smart led Strip ...  \n",
       "2  {\"title\": \"Стекло ПЛЕНКА керамик матовое Honor...  \n",
       "3  {\"title\": \"Проводные наушники с микрофоном jac...  \n",
       "4  {\"title\": \"Декоративная табличка \\\"Правила кух...  \n",
       "5  {\"title\": \"Подставка под ложку керамическая, п...  "
      ]
     },
     "execution_count": 6,
     "metadata": {},
     "output_type": "execute_result"
    }
   ],
   "source": [
    "test.head()"
   ]
  },
  {
   "cell_type": "code",
   "execution_count": 7,
   "id": "81544344",
   "metadata": {},
   "outputs": [],
   "source": [
    "train = train.reset_index(drop=True)"
   ]
  },
  {
   "cell_type": "code",
   "execution_count": 8,
   "id": "94e2825d",
   "metadata": {},
   "outputs": [],
   "source": [
    "test = test.reset_index(drop=True)"
   ]
  },
  {
   "cell_type": "code",
   "execution_count": 9,
   "id": "23014c84",
   "metadata": {},
   "outputs": [],
   "source": [
    "#text_fields = text_fields.reset_index(drop=True)"
   ]
  },
  {
   "cell_type": "markdown",
   "id": "aaa038a5",
   "metadata": {},
   "source": [
    "Столбец text_fields представляет собой набор словарей с необходимой информацией для обработки текста."
   ]
  },
  {
   "cell_type": "markdown",
   "id": "fdd9084a",
   "metadata": {},
   "source": [
    "### Разбивка стобца с описанием товара на отдельный датафрейм"
   ]
  },
  {
   "cell_type": "markdown",
   "id": "0849309c",
   "metadata": {},
   "source": [
    "**Функция для разбивки text_fields по столбцам**"
   ]
  },
  {
   "cell_type": "markdown",
   "id": "74ea2c4b",
   "metadata": {},
   "source": [
    "Достанем из нее данные. Ресурсов компьютера не хватает для обработки всего столбца разом. Поэтому добавим параметр batch_size, в нем укажем сколько будет обработано элементов за цикл."
   ]
  },
  {
   "cell_type": "code",
   "execution_count": 10,
   "id": "97603e60",
   "metadata": {},
   "outputs": [],
   "source": [
    "# с помощью функции формируем отдельный датафрейм где раскроем данные из словаря.\n",
    "# Так даже удобнее анализировать, потом добавим их в общую таблицу\n",
    "# batch_size нужен для того, чтобы обработать всю таблицу, если это делать не по кусочкам, то скорость падает до бесконечности.\n",
    "# До этого df был глобальной переменной\n",
    "\n",
    "def df_from_series_4(series, batch_size):\n",
    "    \n",
    "    df = pd.DataFrame(columns=pd.json_normalize(ast.literal_eval(series[0]), max_level=0).columns)\n",
    "    batch_size = batch_size\n",
    "    n_samples = series.shape[0]\n",
    "    #global df\n",
    "    \n",
    "    for i in tqdm(range(0, series.shape[0], batch_size)):\n",
    "        end = min(i + batch_size, n_samples)\n",
    "        \n",
    "        for j in series[i:end]:\n",
    "            df = pd.concat([df, pd.json_normalize(ast.literal_eval(j), max_level=0)])\n",
    "    df = df.reset_index(drop=True)        \n",
    "    return df"
   ]
  },
  {
   "cell_type": "code",
   "execution_count": 11,
   "id": "02756d99",
   "metadata": {},
   "outputs": [],
   "source": [
    "# метод не оправдал ожиданий\n",
    "# df = pd.DataFrame(columns=pd.json_normalize(ast.literal_eval(train['text_fields'][0]), max_level=0).columns)"
   ]
  },
  {
   "cell_type": "markdown",
   "id": "e0d1b124",
   "metadata": {},
   "source": [
    "Применим функцию распаковки на тренировочной и тестовой выборке"
   ]
  },
  {
   "cell_type": "code",
   "execution_count": 13,
   "id": "5abf1d0b",
   "metadata": {},
   "outputs": [
    {
     "data": {
      "application/vnd.jupyter.widget-view+json": {
       "model_id": "63d4edb34efc46f98a07ac0c5df55c36",
       "version_major": 2,
       "version_minor": 0
      },
      "text/plain": [
       "  0%|          | 0/92 [00:00<?, ?it/s]"
      ]
     },
     "metadata": {},
     "output_type": "display_data"
    }
   ],
   "source": [
    "text_fields = df_from_series_4(train['text_fields'], 1000)\n",
    "#df.to_csv('text_fields.csv')"
   ]
  },
  {
   "cell_type": "code",
   "execution_count": 14,
   "id": "a0d6e997",
   "metadata": {},
   "outputs": [
    {
     "data": {
      "application/vnd.jupyter.widget-view+json": {
       "model_id": "cbe2d9b97dec445182714e092eb96831",
       "version_major": 2,
       "version_minor": 0
      },
      "text/plain": [
       "  0%|          | 0/17 [00:00<?, ?it/s]"
      ]
     },
     "metadata": {},
     "output_type": "display_data"
    }
   ],
   "source": [
    "text_fields_test = df_from_series_4(test['text_fields'], 1000)"
   ]
  },
  {
   "cell_type": "markdown",
   "id": "6505c79d",
   "metadata": {},
   "source": [
    "Сохраним таблицы"
   ]
  },
  {
   "cell_type": "code",
   "execution_count": 15,
   "id": "48c9aa44",
   "metadata": {},
   "outputs": [],
   "source": [
    "text_fields.to_csv('text_fields')"
   ]
  },
  {
   "cell_type": "code",
   "execution_count": 16,
   "id": "5981b0a4",
   "metadata": {},
   "outputs": [],
   "source": [
    "text_fields_test.to_csv('text_fields')"
   ]
  },
  {
   "cell_type": "code",
   "execution_count": 18,
   "id": "05fd9caf",
   "metadata": {},
   "outputs": [
    {
     "data": {
      "text/html": [
       "<div>\n",
       "<style scoped>\n",
       "    .dataframe tbody tr th:only-of-type {\n",
       "        vertical-align: middle;\n",
       "    }\n",
       "\n",
       "    .dataframe tbody tr th {\n",
       "        vertical-align: top;\n",
       "    }\n",
       "\n",
       "    .dataframe thead th {\n",
       "        text-align: right;\n",
       "    }\n",
       "</style>\n",
       "<table border=\"1\" class=\"dataframe\">\n",
       "  <thead>\n",
       "    <tr style=\"text-align: right;\">\n",
       "      <th></th>\n",
       "      <th>title</th>\n",
       "      <th>description</th>\n",
       "      <th>attributes</th>\n",
       "      <th>custom_characteristics</th>\n",
       "      <th>defined_characteristics</th>\n",
       "      <th>filters</th>\n",
       "    </tr>\n",
       "  </thead>\n",
       "  <tbody>\n",
       "    <tr>\n",
       "      <th>0</th>\n",
       "      <td>Светодиодная лента Smart led Strip Light, с пу...</td>\n",
       "      <td>&lt;p&gt;Светодиодная лента LED, 5 м, RGB (Цветная) ...</td>\n",
       "      <td>[Легкость управления с пульта, а так же смартф...</td>\n",
       "      <td>{}</td>\n",
       "      <td>{}</td>\n",
       "      <td>{'Тип питания': ['От сети', 'От USB'], 'В комп...</td>\n",
       "    </tr>\n",
       "    <tr>\n",
       "      <th>1</th>\n",
       "      <td>Стекло ПЛЕНКА керамик матовое Honor 50 lite 10...</td>\n",
       "      <td>&lt;p&gt;&lt;span style=\"color: rgb(63, 62, 62);\"&gt;Защит...</td>\n",
       "      <td>[Honor 50 ПЛЕНКА!!!  КРАЯ КЛЕЮТСЯ МОГУТ НЕ ПРО...</td>\n",
       "      <td>{'Модель': ['8a - Y6 2019', '9x - P Smart Z', ...</td>\n",
       "      <td>{}</td>\n",
       "      <td>{'Модель устройства': ['Honor 9X', 'Honor 20 P...</td>\n",
       "    </tr>\n",
       "    <tr>\n",
       "      <th>2</th>\n",
       "      <td>Проводные наушники с микрофоном jack 3.5, IOS,...</td>\n",
       "      <td>&lt;p&gt;Наушники проводные с микрофоном отличное ка...</td>\n",
       "      <td>[Возможность использования как гарнитуры для П...</td>\n",
       "      <td>{}</td>\n",
       "      <td>{}</td>\n",
       "      <td>{'Разъем': ['3.5 мм'], 'Конструкция наушников'...</td>\n",
       "    </tr>\n",
       "    <tr>\n",
       "      <th>3</th>\n",
       "      <td>Декоративная табличка \"Правила кухни\", подстав...</td>\n",
       "      <td>&lt;p&gt;Декоративная табличка \"Правила кухни\" созда...</td>\n",
       "      <td>[]</td>\n",
       "      <td>{}</td>\n",
       "      <td>{}</td>\n",
       "      <td>{'Бренд': ['FORNAILS']}</td>\n",
       "    </tr>\n",
       "    <tr>\n",
       "      <th>4</th>\n",
       "      <td>Подставка под ложку керамическая, подложка \"Кл...</td>\n",
       "      <td>&lt;p&gt;Подложка керамическая с рисунком в подарочн...</td>\n",
       "      <td>[Керамика., Размер: 255*90*30мм; ]</td>\n",
       "      <td>{'Модель': ['Клубника', 'Лимоны', 'Лаванда']}</td>\n",
       "      <td>{}</td>\n",
       "      <td>{'Бренд': ['Valleya', 'Valleya', 'Valleya']}</td>\n",
       "    </tr>\n",
       "  </tbody>\n",
       "</table>\n",
       "</div>"
      ],
      "text/plain": [
       "                                               title  \\\n",
       "0  Светодиодная лента Smart led Strip Light, с пу...   \n",
       "1  Стекло ПЛЕНКА керамик матовое Honor 50 lite 10...   \n",
       "2  Проводные наушники с микрофоном jack 3.5, IOS,...   \n",
       "3  Декоративная табличка \"Правила кухни\", подстав...   \n",
       "4  Подставка под ложку керамическая, подложка \"Кл...   \n",
       "\n",
       "                                         description  \\\n",
       "0  <p>Светодиодная лента LED, 5 м, RGB (Цветная) ...   \n",
       "1  <p><span style=\"color: rgb(63, 62, 62);\">Защит...   \n",
       "2  <p>Наушники проводные с микрофоном отличное ка...   \n",
       "3  <p>Декоративная табличка \"Правила кухни\" созда...   \n",
       "4  <p>Подложка керамическая с рисунком в подарочн...   \n",
       "\n",
       "                                          attributes  \\\n",
       "0  [Легкость управления с пульта, а так же смартф...   \n",
       "1  [Honor 50 ПЛЕНКА!!!  КРАЯ КЛЕЮТСЯ МОГУТ НЕ ПРО...   \n",
       "2  [Возможность использования как гарнитуры для П...   \n",
       "3                                                 []   \n",
       "4                 [Керамика., Размер: 255*90*30мм; ]   \n",
       "\n",
       "                              custom_characteristics defined_characteristics  \\\n",
       "0                                                 {}                      {}   \n",
       "1  {'Модель': ['8a - Y6 2019', '9x - P Smart Z', ...                      {}   \n",
       "2                                                 {}                      {}   \n",
       "3                                                 {}                      {}   \n",
       "4      {'Модель': ['Клубника', 'Лимоны', 'Лаванда']}                      {}   \n",
       "\n",
       "                                             filters  \n",
       "0  {'Тип питания': ['От сети', 'От USB'], 'В комп...  \n",
       "1  {'Модель устройства': ['Honor 9X', 'Honor 20 P...  \n",
       "2  {'Разъем': ['3.5 мм'], 'Конструкция наушников'...  \n",
       "3                            {'Бренд': ['FORNAILS']}  \n",
       "4       {'Бренд': ['Valleya', 'Valleya', 'Valleya']}  "
      ]
     },
     "execution_count": 18,
     "metadata": {},
     "output_type": "execute_result"
    }
   ],
   "source": [
    "text_fields_test.head()"
   ]
  },
  {
   "cell_type": "markdown",
   "id": "99fe6f45",
   "metadata": {},
   "source": [
    "Успешно"
   ]
  },
  {
   "cell_type": "markdown",
   "id": "968b7cbe",
   "metadata": {},
   "source": [
    "### Выделяем целевые признаки, которые будем предсказывать по цепочке"
   ]
  },
  {
   "cell_type": "code",
   "execution_count": 19,
   "id": "7804b9f0",
   "metadata": {},
   "outputs": [
    {
     "name": "stdout",
     "output_type": "stream",
     "text": [
      "34832    Все категории->Одежда->Мужская одежда->Толстов...\n",
      "Name: category_name, dtype: object\n"
     ]
    }
   ],
   "source": [
    "print(train[train['category_id'] == 12901]['category_name'])"
   ]
  },
  {
   "cell_type": "code",
   "execution_count": 20,
   "id": "ce5efeee",
   "metadata": {
    "scrolled": false
   },
   "outputs": [
    {
     "data": {
      "text/plain": [
       "11937    6590\n",
       "14922    3709\n",
       "13651    1463\n",
       "13143    1460\n",
       "12980    1222\n",
       "         ... \n",
       "12808       2\n",
       "12901       1\n",
       "11549       1\n",
       "11875       1\n",
       "12836       1\n",
       "Name: category_id, Length: 874, dtype: int64"
      ]
     },
     "execution_count": 20,
     "metadata": {},
     "output_type": "execute_result"
    }
   ],
   "source": [
    "train['category_id'].value_counts()"
   ]
  },
  {
   "cell_type": "markdown",
   "id": "d059c5f0",
   "metadata": {},
   "source": [
    "В целевом признаке имеются очень специфичные категории. Есть предположение, что если модель предварительно предскажет первую большую категорию category_name с высокой точностью, то за счет нового признака она будет точнее, это будем проверять дальше.\n",
    "\n",
    "Идти понарастающей и последовательно предсказать каждый уровень категории товара вплоть до итогового кажется неплохой идеей."
   ]
  },
  {
   "cell_type": "code",
   "execution_count": 21,
   "id": "af28650f",
   "metadata": {},
   "outputs": [],
   "source": [
    "# функция для применения apply\n",
    "def split(text):\n",
    "    return text.split('->')"
   ]
  },
  {
   "cell_type": "code",
   "execution_count": 22,
   "id": "206596d2",
   "metadata": {},
   "outputs": [
    {
     "data": {
      "text/plain": [
       "['Все категории',\n",
       " 'Электроника',\n",
       " 'Смартфоны и телефоны',\n",
       " 'Аксессуары и запчасти',\n",
       " 'Зарядные устройства и кабели',\n",
       " 'Кабели']"
      ]
     },
     "execution_count": 22,
     "metadata": {},
     "output_type": "execute_result"
    }
   ],
   "source": [
    "split(train['category_name'][0])"
   ]
  },
  {
   "cell_type": "code",
   "execution_count": 23,
   "id": "f0b591a3",
   "metadata": {},
   "outputs": [
    {
     "data": {
      "application/vnd.jupyter.widget-view+json": {
       "model_id": "5049dc5221964f8894c8466e50f57b54",
       "version_major": 2,
       "version_minor": 0
      },
      "text/plain": [
       "  0%|          | 0/91120 [00:00<?, ?it/s]"
      ]
     },
     "metadata": {},
     "output_type": "display_data"
    }
   ],
   "source": [
    "# сохраним виде таблицы\n",
    "levels = pd.DataFrame(train['category_name'].progress_apply(split).to_list())"
   ]
  },
  {
   "cell_type": "code",
   "execution_count": 24,
   "id": "93b30f2a",
   "metadata": {},
   "outputs": [
    {
     "data": {
      "text/html": [
       "<div>\n",
       "<style scoped>\n",
       "    .dataframe tbody tr th:only-of-type {\n",
       "        vertical-align: middle;\n",
       "    }\n",
       "\n",
       "    .dataframe tbody tr th {\n",
       "        vertical-align: top;\n",
       "    }\n",
       "\n",
       "    .dataframe thead th {\n",
       "        text-align: right;\n",
       "    }\n",
       "</style>\n",
       "<table border=\"1\" class=\"dataframe\">\n",
       "  <thead>\n",
       "    <tr style=\"text-align: right;\">\n",
       "      <th></th>\n",
       "      <th>0</th>\n",
       "      <th>1</th>\n",
       "      <th>2</th>\n",
       "      <th>3</th>\n",
       "      <th>4</th>\n",
       "      <th>5</th>\n",
       "    </tr>\n",
       "  </thead>\n",
       "  <tbody>\n",
       "    <tr>\n",
       "      <th>0</th>\n",
       "      <td>Все категории</td>\n",
       "      <td>Электроника</td>\n",
       "      <td>Смартфоны и телефоны</td>\n",
       "      <td>Аксессуары и запчасти</td>\n",
       "      <td>Зарядные устройства и кабели</td>\n",
       "      <td>Кабели</td>\n",
       "    </tr>\n",
       "    <tr>\n",
       "      <th>1</th>\n",
       "      <td>Все категории</td>\n",
       "      <td>Одежда</td>\n",
       "      <td>Женская одежда</td>\n",
       "      <td>Белье и купальники</td>\n",
       "      <td>Трусы</td>\n",
       "      <td>None</td>\n",
       "    </tr>\n",
       "    <tr>\n",
       "      <th>2</th>\n",
       "      <td>Все категории</td>\n",
       "      <td>Хобби и творчество</td>\n",
       "      <td>Рисование</td>\n",
       "      <td>Краски, пигменты</td>\n",
       "      <td>None</td>\n",
       "      <td>None</td>\n",
       "    </tr>\n",
       "    <tr>\n",
       "      <th>3</th>\n",
       "      <td>Все категории</td>\n",
       "      <td>Хобби и творчество</td>\n",
       "      <td>Товары для курения</td>\n",
       "      <td>Кальяны и аксессуары</td>\n",
       "      <td>Колбы</td>\n",
       "      <td>None</td>\n",
       "    </tr>\n",
       "    <tr>\n",
       "      <th>4</th>\n",
       "      <td>Все категории</td>\n",
       "      <td>Одежда</td>\n",
       "      <td>Женская одежда</td>\n",
       "      <td>Домашняя одежда</td>\n",
       "      <td>Пижамы</td>\n",
       "      <td>None</td>\n",
       "    </tr>\n",
       "    <tr>\n",
       "      <th>...</th>\n",
       "      <td>...</td>\n",
       "      <td>...</td>\n",
       "      <td>...</td>\n",
       "      <td>...</td>\n",
       "      <td>...</td>\n",
       "      <td>...</td>\n",
       "    </tr>\n",
       "    <tr>\n",
       "      <th>91115</th>\n",
       "      <td>Все категории</td>\n",
       "      <td>Электроника</td>\n",
       "      <td>Смартфоны и телефоны</td>\n",
       "      <td>Аксессуары и запчасти</td>\n",
       "      <td>Защитные стекла и пленки</td>\n",
       "      <td>Защитные стекла</td>\n",
       "    </tr>\n",
       "    <tr>\n",
       "      <th>91116</th>\n",
       "      <td>Все категории</td>\n",
       "      <td>Хобби и творчество</td>\n",
       "      <td>Пазлы, мозаика и фреска</td>\n",
       "      <td>Алмазные мозаики</td>\n",
       "      <td>None</td>\n",
       "      <td>None</td>\n",
       "    </tr>\n",
       "    <tr>\n",
       "      <th>91117</th>\n",
       "      <td>Все категории</td>\n",
       "      <td>Товары для дома</td>\n",
       "      <td>Товары для праздников</td>\n",
       "      <td>Открытки и конверты</td>\n",
       "      <td>Открытки</td>\n",
       "      <td>None</td>\n",
       "    </tr>\n",
       "    <tr>\n",
       "      <th>91118</th>\n",
       "      <td>Все категории</td>\n",
       "      <td>Электроника</td>\n",
       "      <td>Телевизоры и видеотехника</td>\n",
       "      <td>Оборудование для телевизоров</td>\n",
       "      <td>Пульты ДУ</td>\n",
       "      <td>None</td>\n",
       "    </tr>\n",
       "    <tr>\n",
       "      <th>91119</th>\n",
       "      <td>Все категории</td>\n",
       "      <td>Электроника</td>\n",
       "      <td>Телевизоры и видеотехника</td>\n",
       "      <td>Оборудование для телевизоров</td>\n",
       "      <td>Пульты ДУ</td>\n",
       "      <td>None</td>\n",
       "    </tr>\n",
       "  </tbody>\n",
       "</table>\n",
       "<p>91120 rows × 6 columns</p>\n",
       "</div>"
      ],
      "text/plain": [
       "                   0                   1                          2  \\\n",
       "0      Все категории         Электроника       Смартфоны и телефоны   \n",
       "1      Все категории              Одежда             Женская одежда   \n",
       "2      Все категории  Хобби и творчество                  Рисование   \n",
       "3      Все категории  Хобби и творчество         Товары для курения   \n",
       "4      Все категории              Одежда             Женская одежда   \n",
       "...              ...                 ...                        ...   \n",
       "91115  Все категории         Электроника       Смартфоны и телефоны   \n",
       "91116  Все категории  Хобби и творчество    Пазлы, мозаика и фреска   \n",
       "91117  Все категории     Товары для дома      Товары для праздников   \n",
       "91118  Все категории         Электроника  Телевизоры и видеотехника   \n",
       "91119  Все категории         Электроника  Телевизоры и видеотехника   \n",
       "\n",
       "                                  3                             4  \\\n",
       "0             Аксессуары и запчасти  Зарядные устройства и кабели   \n",
       "1                Белье и купальники                         Трусы   \n",
       "2                  Краски, пигменты                          None   \n",
       "3              Кальяны и аксессуары                         Колбы   \n",
       "4                   Домашняя одежда                        Пижамы   \n",
       "...                             ...                           ...   \n",
       "91115         Аксессуары и запчасти      Защитные стекла и пленки   \n",
       "91116              Алмазные мозаики                          None   \n",
       "91117           Открытки и конверты                      Открытки   \n",
       "91118  Оборудование для телевизоров                     Пульты ДУ   \n",
       "91119  Оборудование для телевизоров                     Пульты ДУ   \n",
       "\n",
       "                     5  \n",
       "0               Кабели  \n",
       "1                 None  \n",
       "2                 None  \n",
       "3                 None  \n",
       "4                 None  \n",
       "...                ...  \n",
       "91115  Защитные стекла  \n",
       "91116             None  \n",
       "91117             None  \n",
       "91118             None  \n",
       "91119             None  \n",
       "\n",
       "[91120 rows x 6 columns]"
      ]
     },
     "execution_count": 24,
     "metadata": {},
     "output_type": "execute_result"
    }
   ],
   "source": [
    "levels"
   ]
  },
  {
   "cell_type": "code",
   "execution_count": 26,
   "id": "edacaa3b",
   "metadata": {},
   "outputs": [
    {
     "data": {
      "text/html": [
       "<style type=\"text/css\">\n",
       "#T_4f8d3_row0_col0, #T_4f8d3_row1_col0, #T_4f8d3_row2_col0 {\n",
       "  background-color: #3b4cc0;\n",
       "  color: #f1f1f1;\n",
       "}\n",
       "#T_4f8d3_row3_col0 {\n",
       "  background-color: #3e51c5;\n",
       "  color: #f1f1f1;\n",
       "}\n",
       "#T_4f8d3_row4_col0 {\n",
       "  background-color: #8caffe;\n",
       "  color: #000000;\n",
       "}\n",
       "#T_4f8d3_row5_col0 {\n",
       "  background-color: #b40426;\n",
       "  color: #f1f1f1;\n",
       "}\n",
       "</style>\n",
       "<table id=\"T_4f8d3\">\n",
       "  <thead>\n",
       "    <tr>\n",
       "      <th class=\"blank level0\" >&nbsp;</th>\n",
       "      <th id=\"T_4f8d3_level0_col0\" class=\"col_heading level0 col0\" >percent</th>\n",
       "    </tr>\n",
       "  </thead>\n",
       "  <tbody>\n",
       "    <tr>\n",
       "      <th id=\"T_4f8d3_level0_row0\" class=\"row_heading level0 row0\" >0</th>\n",
       "      <td id=\"T_4f8d3_row0_col0\" class=\"data row0 col0\" >0.000000</td>\n",
       "    </tr>\n",
       "    <tr>\n",
       "      <th id=\"T_4f8d3_level0_row1\" class=\"row_heading level0 row1\" >1</th>\n",
       "      <td id=\"T_4f8d3_row1_col0\" class=\"data row1 col0\" >0.000000</td>\n",
       "    </tr>\n",
       "    <tr>\n",
       "      <th id=\"T_4f8d3_level0_row2\" class=\"row_heading level0 row2\" >2</th>\n",
       "      <td id=\"T_4f8d3_row2_col0\" class=\"data row2 col0\" >0.000000</td>\n",
       "    </tr>\n",
       "    <tr>\n",
       "      <th id=\"T_4f8d3_level0_row3\" class=\"row_heading level0 row3\" >3</th>\n",
       "      <td id=\"T_4f8d3_row3_col0\" class=\"data row3 col0\" >1.000000</td>\n",
       "    </tr>\n",
       "    <tr>\n",
       "      <th id=\"T_4f8d3_level0_row4\" class=\"row_heading level0 row4\" >4</th>\n",
       "      <td id=\"T_4f8d3_row4_col0\" class=\"data row4 col0\" >21.000000</td>\n",
       "    </tr>\n",
       "    <tr>\n",
       "      <th id=\"T_4f8d3_level0_row5\" class=\"row_heading level0 row5\" >5</th>\n",
       "      <td id=\"T_4f8d3_row5_col0\" class=\"data row5 col0\" >85.000000</td>\n",
       "    </tr>\n",
       "  </tbody>\n",
       "</table>\n"
      ],
      "text/plain": [
       "<pandas.io.formats.style.Styler at 0x23a47362f50>"
      ]
     },
     "execution_count": 26,
     "metadata": {},
     "output_type": "execute_result"
    }
   ],
   "source": [
    "# количество пропусков\n",
    "pd.DataFrame(round(levels.isna().mean()*100,), columns=['percent']).style.background_gradient('coolwarm')"
   ]
  },
  {
   "cell_type": "markdown",
   "id": "06a86c2b",
   "metadata": {},
   "source": [
    "Выходит, что минимальное количество уровней в категориях товара - два, третий уровень имеет 1% пропусков. Предлагаю предсказать эти категории, дополнив итоговые модели полученными фичами."
   ]
  },
  {
   "cell_type": "markdown",
   "id": "89180151",
   "metadata": {},
   "source": [
    "Изучим пропуски третьего уровня:"
   ]
  },
  {
   "cell_type": "code",
   "execution_count": 27,
   "id": "66404827",
   "metadata": {},
   "outputs": [
    {
     "data": {
      "text/html": [
       "<div>\n",
       "<style scoped>\n",
       "    .dataframe tbody tr th:only-of-type {\n",
       "        vertical-align: middle;\n",
       "    }\n",
       "\n",
       "    .dataframe tbody tr th {\n",
       "        vertical-align: top;\n",
       "    }\n",
       "\n",
       "    .dataframe thead th {\n",
       "        text-align: right;\n",
       "    }\n",
       "</style>\n",
       "<table border=\"1\" class=\"dataframe\">\n",
       "  <thead>\n",
       "    <tr style=\"text-align: right;\">\n",
       "      <th></th>\n",
       "      <th>0</th>\n",
       "      <th>1</th>\n",
       "      <th>2</th>\n",
       "      <th>3</th>\n",
       "      <th>4</th>\n",
       "      <th>5</th>\n",
       "    </tr>\n",
       "  </thead>\n",
       "  <tbody>\n",
       "    <tr>\n",
       "      <th>106</th>\n",
       "      <td>Все категории</td>\n",
       "      <td>Хобби и творчество</td>\n",
       "      <td>Стикеры</td>\n",
       "      <td>None</td>\n",
       "      <td>None</td>\n",
       "      <td>None</td>\n",
       "    </tr>\n",
       "    <tr>\n",
       "      <th>169</th>\n",
       "      <td>Все категории</td>\n",
       "      <td>Хобби и творчество</td>\n",
       "      <td>Стикеры</td>\n",
       "      <td>None</td>\n",
       "      <td>None</td>\n",
       "      <td>None</td>\n",
       "    </tr>\n",
       "    <tr>\n",
       "      <th>572</th>\n",
       "      <td>Все категории</td>\n",
       "      <td>Хобби и творчество</td>\n",
       "      <td>Стикеры</td>\n",
       "      <td>None</td>\n",
       "      <td>None</td>\n",
       "      <td>None</td>\n",
       "    </tr>\n",
       "    <tr>\n",
       "      <th>603</th>\n",
       "      <td>Все категории</td>\n",
       "      <td>Хобби и творчество</td>\n",
       "      <td>Стикеры</td>\n",
       "      <td>None</td>\n",
       "      <td>None</td>\n",
       "      <td>None</td>\n",
       "    </tr>\n",
       "    <tr>\n",
       "      <th>781</th>\n",
       "      <td>Все категории</td>\n",
       "      <td>Хобби и творчество</td>\n",
       "      <td>Стикеры</td>\n",
       "      <td>None</td>\n",
       "      <td>None</td>\n",
       "      <td>None</td>\n",
       "    </tr>\n",
       "    <tr>\n",
       "      <th>...</th>\n",
       "      <td>...</td>\n",
       "      <td>...</td>\n",
       "      <td>...</td>\n",
       "      <td>...</td>\n",
       "      <td>...</td>\n",
       "      <td>...</td>\n",
       "    </tr>\n",
       "    <tr>\n",
       "      <th>91002</th>\n",
       "      <td>Все категории</td>\n",
       "      <td>Хобби и творчество</td>\n",
       "      <td>Стикеры</td>\n",
       "      <td>None</td>\n",
       "      <td>None</td>\n",
       "      <td>None</td>\n",
       "    </tr>\n",
       "    <tr>\n",
       "      <th>91049</th>\n",
       "      <td>Все категории</td>\n",
       "      <td>Хобби и творчество</td>\n",
       "      <td>Стикеры</td>\n",
       "      <td>None</td>\n",
       "      <td>None</td>\n",
       "      <td>None</td>\n",
       "    </tr>\n",
       "    <tr>\n",
       "      <th>91068</th>\n",
       "      <td>Все категории</td>\n",
       "      <td>Хобби и творчество</td>\n",
       "      <td>Стикеры</td>\n",
       "      <td>None</td>\n",
       "      <td>None</td>\n",
       "      <td>None</td>\n",
       "    </tr>\n",
       "    <tr>\n",
       "      <th>91080</th>\n",
       "      <td>Все категории</td>\n",
       "      <td>Хобби и творчество</td>\n",
       "      <td>Стикеры</td>\n",
       "      <td>None</td>\n",
       "      <td>None</td>\n",
       "      <td>None</td>\n",
       "    </tr>\n",
       "    <tr>\n",
       "      <th>91099</th>\n",
       "      <td>Все категории</td>\n",
       "      <td>Хобби и творчество</td>\n",
       "      <td>Стикеры</td>\n",
       "      <td>None</td>\n",
       "      <td>None</td>\n",
       "      <td>None</td>\n",
       "    </tr>\n",
       "  </tbody>\n",
       "</table>\n",
       "<p>1168 rows × 6 columns</p>\n",
       "</div>"
      ],
      "text/plain": [
       "                   0                   1        2     3     4     5\n",
       "106    Все категории  Хобби и творчество  Стикеры  None  None  None\n",
       "169    Все категории  Хобби и творчество  Стикеры  None  None  None\n",
       "572    Все категории  Хобби и творчество  Стикеры  None  None  None\n",
       "603    Все категории  Хобби и творчество  Стикеры  None  None  None\n",
       "781    Все категории  Хобби и творчество  Стикеры  None  None  None\n",
       "...              ...                 ...      ...   ...   ...   ...\n",
       "91002  Все категории  Хобби и творчество  Стикеры  None  None  None\n",
       "91049  Все категории  Хобби и творчество  Стикеры  None  None  None\n",
       "91068  Все категории  Хобби и творчество  Стикеры  None  None  None\n",
       "91080  Все категории  Хобби и творчество  Стикеры  None  None  None\n",
       "91099  Все категории  Хобби и творчество  Стикеры  None  None  None\n",
       "\n",
       "[1168 rows x 6 columns]"
      ]
     },
     "execution_count": 27,
     "metadata": {},
     "output_type": "execute_result"
    }
   ],
   "source": [
    "levels[levels[3].isna()]"
   ]
  },
  {
   "cell_type": "code",
   "execution_count": 28,
   "id": "e5721be2",
   "metadata": {},
   "outputs": [
    {
     "data": {
      "text/plain": [
       "Стикеры    1168\n",
       "Name: 2, dtype: int64"
      ]
     },
     "execution_count": 28,
     "metadata": {},
     "output_type": "execute_result"
    }
   ],
   "source": [
    "levels[levels[3].isna()][2].value_counts()"
   ]
  },
  {
   "cell_type": "markdown",
   "id": "5f6e1abd",
   "metadata": {},
   "source": [
    "По итогу, стикеры выбиваются из всех категорий, как товар с наименьшим количеством уровней. Категории товаров в небольшим количеством уровней продлим до последнего."
   ]
  },
  {
   "cell_type": "code",
   "execution_count": 30,
   "id": "ec82c114",
   "metadata": {},
   "outputs": [],
   "source": [
    "for i in range(levels.shape[1]):\n",
    "    if i == 0:\n",
    "        continue\n",
    "    else:\n",
    "        levels.loc[levels[i].isna(), i] = levels.loc[levels[i].isna(), i-1]"
   ]
  },
  {
   "cell_type": "code",
   "execution_count": 31,
   "id": "d2844e1f",
   "metadata": {},
   "outputs": [],
   "source": [
    "levels.columns = ['level_0', 'level_1', 'level_2', 'level_3', 'level_4', 'level_5']"
   ]
  },
  {
   "cell_type": "code",
   "execution_count": 32,
   "id": "6c494b94",
   "metadata": {},
   "outputs": [
    {
     "data": {
      "text/html": [
       "<div>\n",
       "<style scoped>\n",
       "    .dataframe tbody tr th:only-of-type {\n",
       "        vertical-align: middle;\n",
       "    }\n",
       "\n",
       "    .dataframe tbody tr th {\n",
       "        vertical-align: top;\n",
       "    }\n",
       "\n",
       "    .dataframe thead th {\n",
       "        text-align: right;\n",
       "    }\n",
       "</style>\n",
       "<table border=\"1\" class=\"dataframe\">\n",
       "  <thead>\n",
       "    <tr style=\"text-align: right;\">\n",
       "      <th></th>\n",
       "      <th>level_0</th>\n",
       "      <th>level_1</th>\n",
       "      <th>level_2</th>\n",
       "      <th>level_3</th>\n",
       "      <th>level_4</th>\n",
       "      <th>level_5</th>\n",
       "    </tr>\n",
       "  </thead>\n",
       "  <tbody>\n",
       "    <tr>\n",
       "      <th>0</th>\n",
       "      <td>Все категории</td>\n",
       "      <td>Электроника</td>\n",
       "      <td>Смартфоны и телефоны</td>\n",
       "      <td>Аксессуары и запчасти</td>\n",
       "      <td>Зарядные устройства и кабели</td>\n",
       "      <td>Кабели</td>\n",
       "    </tr>\n",
       "    <tr>\n",
       "      <th>1</th>\n",
       "      <td>Все категории</td>\n",
       "      <td>Одежда</td>\n",
       "      <td>Женская одежда</td>\n",
       "      <td>Белье и купальники</td>\n",
       "      <td>Трусы</td>\n",
       "      <td>Трусы</td>\n",
       "    </tr>\n",
       "    <tr>\n",
       "      <th>2</th>\n",
       "      <td>Все категории</td>\n",
       "      <td>Хобби и творчество</td>\n",
       "      <td>Рисование</td>\n",
       "      <td>Краски, пигменты</td>\n",
       "      <td>Краски, пигменты</td>\n",
       "      <td>Краски, пигменты</td>\n",
       "    </tr>\n",
       "    <tr>\n",
       "      <th>3</th>\n",
       "      <td>Все категории</td>\n",
       "      <td>Хобби и творчество</td>\n",
       "      <td>Товары для курения</td>\n",
       "      <td>Кальяны и аксессуары</td>\n",
       "      <td>Колбы</td>\n",
       "      <td>Колбы</td>\n",
       "    </tr>\n",
       "    <tr>\n",
       "      <th>4</th>\n",
       "      <td>Все категории</td>\n",
       "      <td>Одежда</td>\n",
       "      <td>Женская одежда</td>\n",
       "      <td>Домашняя одежда</td>\n",
       "      <td>Пижамы</td>\n",
       "      <td>Пижамы</td>\n",
       "    </tr>\n",
       "    <tr>\n",
       "      <th>...</th>\n",
       "      <td>...</td>\n",
       "      <td>...</td>\n",
       "      <td>...</td>\n",
       "      <td>...</td>\n",
       "      <td>...</td>\n",
       "      <td>...</td>\n",
       "    </tr>\n",
       "    <tr>\n",
       "      <th>91115</th>\n",
       "      <td>Все категории</td>\n",
       "      <td>Электроника</td>\n",
       "      <td>Смартфоны и телефоны</td>\n",
       "      <td>Аксессуары и запчасти</td>\n",
       "      <td>Защитные стекла и пленки</td>\n",
       "      <td>Защитные стекла</td>\n",
       "    </tr>\n",
       "    <tr>\n",
       "      <th>91116</th>\n",
       "      <td>Все категории</td>\n",
       "      <td>Хобби и творчество</td>\n",
       "      <td>Пазлы, мозаика и фреска</td>\n",
       "      <td>Алмазные мозаики</td>\n",
       "      <td>Алмазные мозаики</td>\n",
       "      <td>Алмазные мозаики</td>\n",
       "    </tr>\n",
       "    <tr>\n",
       "      <th>91117</th>\n",
       "      <td>Все категории</td>\n",
       "      <td>Товары для дома</td>\n",
       "      <td>Товары для праздников</td>\n",
       "      <td>Открытки и конверты</td>\n",
       "      <td>Открытки</td>\n",
       "      <td>Открытки</td>\n",
       "    </tr>\n",
       "    <tr>\n",
       "      <th>91118</th>\n",
       "      <td>Все категории</td>\n",
       "      <td>Электроника</td>\n",
       "      <td>Телевизоры и видеотехника</td>\n",
       "      <td>Оборудование для телевизоров</td>\n",
       "      <td>Пульты ДУ</td>\n",
       "      <td>Пульты ДУ</td>\n",
       "    </tr>\n",
       "    <tr>\n",
       "      <th>91119</th>\n",
       "      <td>Все категории</td>\n",
       "      <td>Электроника</td>\n",
       "      <td>Телевизоры и видеотехника</td>\n",
       "      <td>Оборудование для телевизоров</td>\n",
       "      <td>Пульты ДУ</td>\n",
       "      <td>Пульты ДУ</td>\n",
       "    </tr>\n",
       "  </tbody>\n",
       "</table>\n",
       "<p>91120 rows × 6 columns</p>\n",
       "</div>"
      ],
      "text/plain": [
       "             level_0             level_1                    level_2  \\\n",
       "0      Все категории         Электроника       Смартфоны и телефоны   \n",
       "1      Все категории              Одежда             Женская одежда   \n",
       "2      Все категории  Хобби и творчество                  Рисование   \n",
       "3      Все категории  Хобби и творчество         Товары для курения   \n",
       "4      Все категории              Одежда             Женская одежда   \n",
       "...              ...                 ...                        ...   \n",
       "91115  Все категории         Электроника       Смартфоны и телефоны   \n",
       "91116  Все категории  Хобби и творчество    Пазлы, мозаика и фреска   \n",
       "91117  Все категории     Товары для дома      Товары для праздников   \n",
       "91118  Все категории         Электроника  Телевизоры и видеотехника   \n",
       "91119  Все категории         Электроника  Телевизоры и видеотехника   \n",
       "\n",
       "                            level_3                       level_4  \\\n",
       "0             Аксессуары и запчасти  Зарядные устройства и кабели   \n",
       "1                Белье и купальники                         Трусы   \n",
       "2                  Краски, пигменты              Краски, пигменты   \n",
       "3              Кальяны и аксессуары                         Колбы   \n",
       "4                   Домашняя одежда                        Пижамы   \n",
       "...                             ...                           ...   \n",
       "91115         Аксессуары и запчасти      Защитные стекла и пленки   \n",
       "91116              Алмазные мозаики              Алмазные мозаики   \n",
       "91117           Открытки и конверты                      Открытки   \n",
       "91118  Оборудование для телевизоров                     Пульты ДУ   \n",
       "91119  Оборудование для телевизоров                     Пульты ДУ   \n",
       "\n",
       "                level_5  \n",
       "0                Кабели  \n",
       "1                 Трусы  \n",
       "2      Краски, пигменты  \n",
       "3                 Колбы  \n",
       "4                Пижамы  \n",
       "...                 ...  \n",
       "91115   Защитные стекла  \n",
       "91116  Алмазные мозаики  \n",
       "91117          Открытки  \n",
       "91118         Пульты ДУ  \n",
       "91119         Пульты ДУ  \n",
       "\n",
       "[91120 rows x 6 columns]"
      ]
     },
     "execution_count": 32,
     "metadata": {},
     "output_type": "execute_result"
    }
   ],
   "source": [
    "levels"
   ]
  },
  {
   "cell_type": "code",
   "execution_count": 33,
   "id": "a0abf03f",
   "metadata": {},
   "outputs": [
    {
     "name": "stdout",
     "output_type": "stream",
     "text": [
      "уровень - level_0 - 1 категорий\n",
      "уровень - level_1 - 5 категорий\n",
      "уровень - level_2 - 45 категорий\n",
      "уровень - level_3 - 279 категорий\n",
      "уровень - level_4 - 693 категорий\n",
      "уровень - level_5 - 727 категорий\n"
     ]
    }
   ],
   "source": [
    "for i in levels:\n",
    "    print('уровень -', i , '-', levels[i].value_counts().count(), 'категорий')"
   ]
  },
  {
   "cell_type": "code",
   "execution_count": 34,
   "id": "7e42fd19",
   "metadata": {},
   "outputs": [
    {
     "data": {
      "text/plain": [
       "874"
      ]
     },
     "execution_count": 34,
     "metadata": {},
     "output_type": "execute_result"
    }
   ],
   "source": [
    "train['category_id'].value_counts().count()"
   ]
  },
  {
   "cell_type": "markdown",
   "id": "d5d7e3d3",
   "metadata": {},
   "source": [
    "Имеется несоответствие уникальных id и количества уникальных названий категорий товара с точки зрения дерева категорий KazanExpress. Вероятно, на некоторые категории приходится несколько индексов."
   ]
  },
  {
   "cell_type": "code",
   "execution_count": 35,
   "id": "9b0af50e",
   "metadata": {},
   "outputs": [],
   "source": [
    "# дроп очевидной категории\n",
    "levels = levels.drop(columns=['level_0'])"
   ]
  },
  {
   "cell_type": "code",
   "execution_count": 36,
   "id": "47d58bb8",
   "metadata": {},
   "outputs": [],
   "source": [
    "train = pd.concat([train, levels], axis=1)"
   ]
  },
  {
   "cell_type": "code",
   "execution_count": 37,
   "id": "a994263e",
   "metadata": {},
   "outputs": [
    {
     "name": "stdout",
     "output_type": "stream",
     "text": [
      "<class 'pandas.core.frame.DataFrame'>\n",
      "RangeIndex: 91120 entries, 0 to 91119\n",
      "Data columns (total 13 columns):\n",
      " #   Column         Non-Null Count  Dtype  \n",
      "---  ------         --------------  -----  \n",
      " 0   product_id     91120 non-null  int64  \n",
      " 1   category_id    91120 non-null  int64  \n",
      " 2   sale           91120 non-null  bool   \n",
      " 3   shop_id        91120 non-null  int64  \n",
      " 4   shop_title     91120 non-null  object \n",
      " 5   rating         91120 non-null  float64\n",
      " 6   text_fields    91120 non-null  object \n",
      " 7   category_name  91120 non-null  object \n",
      " 8   level_1        91120 non-null  object \n",
      " 9   level_2        91120 non-null  object \n",
      " 10  level_3        91120 non-null  object \n",
      " 11  level_4        91120 non-null  object \n",
      " 12  level_5        91120 non-null  object \n",
      "dtypes: bool(1), float64(1), int64(3), object(8)\n",
      "memory usage: 8.4+ MB\n"
     ]
    }
   ],
   "source": [
    "train.info()"
   ]
  },
  {
   "cell_type": "code",
   "execution_count": 38,
   "id": "ec833c74",
   "metadata": {},
   "outputs": [
    {
     "data": {
      "text/html": [
       "<div>\n",
       "<style scoped>\n",
       "    .dataframe tbody tr th:only-of-type {\n",
       "        vertical-align: middle;\n",
       "    }\n",
       "\n",
       "    .dataframe tbody tr th {\n",
       "        vertical-align: top;\n",
       "    }\n",
       "\n",
       "    .dataframe thead th {\n",
       "        text-align: right;\n",
       "    }\n",
       "</style>\n",
       "<table border=\"1\" class=\"dataframe\">\n",
       "  <thead>\n",
       "    <tr style=\"text-align: right;\">\n",
       "      <th></th>\n",
       "      <th>product_id</th>\n",
       "      <th>category_id</th>\n",
       "      <th>sale</th>\n",
       "      <th>shop_id</th>\n",
       "      <th>shop_title</th>\n",
       "      <th>rating</th>\n",
       "      <th>text_fields</th>\n",
       "      <th>category_name</th>\n",
       "      <th>level_1</th>\n",
       "      <th>level_2</th>\n",
       "      <th>level_3</th>\n",
       "      <th>level_4</th>\n",
       "      <th>level_5</th>\n",
       "    </tr>\n",
       "  </thead>\n",
       "  <tbody>\n",
       "    <tr>\n",
       "      <th>0</th>\n",
       "      <td>325286</td>\n",
       "      <td>12171</td>\n",
       "      <td>False</td>\n",
       "      <td>9031</td>\n",
       "      <td>Aksik</td>\n",
       "      <td>5.0</td>\n",
       "      <td>{\"title\": \"Зарядный кабель Borofone BX1 Lightn...</td>\n",
       "      <td>Все категории-&gt;Электроника-&gt;Смартфоны и телефо...</td>\n",
       "      <td>Электроника</td>\n",
       "      <td>Смартфоны и телефоны</td>\n",
       "      <td>Аксессуары и запчасти</td>\n",
       "      <td>Зарядные устройства и кабели</td>\n",
       "      <td>Кабели</td>\n",
       "    </tr>\n",
       "    <tr>\n",
       "      <th>1</th>\n",
       "      <td>888134</td>\n",
       "      <td>14233</td>\n",
       "      <td>False</td>\n",
       "      <td>18305</td>\n",
       "      <td>Sela</td>\n",
       "      <td>5.0</td>\n",
       "      <td>{\"title\": \"Трусы Sela\", \"description\": \"Трусы-...</td>\n",
       "      <td>Все категории-&gt;Одежда-&gt;Женская одежда-&gt;Белье и...</td>\n",
       "      <td>Одежда</td>\n",
       "      <td>Женская одежда</td>\n",
       "      <td>Белье и купальники</td>\n",
       "      <td>Трусы</td>\n",
       "      <td>Трусы</td>\n",
       "    </tr>\n",
       "    <tr>\n",
       "      <th>2</th>\n",
       "      <td>1267173</td>\n",
       "      <td>13429</td>\n",
       "      <td>False</td>\n",
       "      <td>16357</td>\n",
       "      <td>ЮНЛАНДИЯ канцтовары</td>\n",
       "      <td>5.0</td>\n",
       "      <td>{\"title\": \"Гуашь \\\"ЮНЫЙ ВОЛШЕБНИК\\\", 12 цветов...</td>\n",
       "      <td>Все категории-&gt;Хобби и творчество-&gt;Рисование-&gt;...</td>\n",
       "      <td>Хобби и творчество</td>\n",
       "      <td>Рисование</td>\n",
       "      <td>Краски, пигменты</td>\n",
       "      <td>Краски, пигменты</td>\n",
       "      <td>Краски, пигменты</td>\n",
       "    </tr>\n",
       "    <tr>\n",
       "      <th>3</th>\n",
       "      <td>1416943</td>\n",
       "      <td>2789</td>\n",
       "      <td>False</td>\n",
       "      <td>34666</td>\n",
       "      <td>вася-nicotine</td>\n",
       "      <td>4.0</td>\n",
       "      <td>{\"title\": \"Колба для кальяна Крафт (разные цве...</td>\n",
       "      <td>Все категории-&gt;Хобби и творчество-&gt;Товары для ...</td>\n",
       "      <td>Хобби и творчество</td>\n",
       "      <td>Товары для курения</td>\n",
       "      <td>Кальяны и аксессуары</td>\n",
       "      <td>Колбы</td>\n",
       "      <td>Колбы</td>\n",
       "    </tr>\n",
       "    <tr>\n",
       "      <th>4</th>\n",
       "      <td>1058275</td>\n",
       "      <td>12834</td>\n",
       "      <td>False</td>\n",
       "      <td>26389</td>\n",
       "      <td>Lim Market</td>\n",
       "      <td>4.6</td>\n",
       "      <td>{\"title\": \"Пижама женская, однотонная с шортам...</td>\n",
       "      <td>Все категории-&gt;Одежда-&gt;Женская одежда-&gt;Домашня...</td>\n",
       "      <td>Одежда</td>\n",
       "      <td>Женская одежда</td>\n",
       "      <td>Домашняя одежда</td>\n",
       "      <td>Пижамы</td>\n",
       "      <td>Пижамы</td>\n",
       "    </tr>\n",
       "  </tbody>\n",
       "</table>\n",
       "</div>"
      ],
      "text/plain": [
       "   product_id  category_id   sale  shop_id           shop_title  rating  \\\n",
       "0      325286        12171  False     9031                Aksik     5.0   \n",
       "1      888134        14233  False    18305                 Sela     5.0   \n",
       "2     1267173        13429  False    16357  ЮНЛАНДИЯ канцтовары     5.0   \n",
       "3     1416943         2789  False    34666        вася-nicotine     4.0   \n",
       "4     1058275        12834  False    26389           Lim Market     4.6   \n",
       "\n",
       "                                         text_fields  \\\n",
       "0  {\"title\": \"Зарядный кабель Borofone BX1 Lightn...   \n",
       "1  {\"title\": \"Трусы Sela\", \"description\": \"Трусы-...   \n",
       "2  {\"title\": \"Гуашь \\\"ЮНЫЙ ВОЛШЕБНИК\\\", 12 цветов...   \n",
       "3  {\"title\": \"Колба для кальяна Крафт (разные цве...   \n",
       "4  {\"title\": \"Пижама женская, однотонная с шортам...   \n",
       "\n",
       "                                       category_name             level_1  \\\n",
       "0  Все категории->Электроника->Смартфоны и телефо...         Электроника   \n",
       "1  Все категории->Одежда->Женская одежда->Белье и...              Одежда   \n",
       "2  Все категории->Хобби и творчество->Рисование->...  Хобби и творчество   \n",
       "3  Все категории->Хобби и творчество->Товары для ...  Хобби и творчество   \n",
       "4  Все категории->Одежда->Женская одежда->Домашня...              Одежда   \n",
       "\n",
       "                level_2                level_3                       level_4  \\\n",
       "0  Смартфоны и телефоны  Аксессуары и запчасти  Зарядные устройства и кабели   \n",
       "1        Женская одежда     Белье и купальники                         Трусы   \n",
       "2             Рисование       Краски, пигменты              Краски, пигменты   \n",
       "3    Товары для курения   Кальяны и аксессуары                         Колбы   \n",
       "4        Женская одежда        Домашняя одежда                        Пижамы   \n",
       "\n",
       "            level_5  \n",
       "0            Кабели  \n",
       "1             Трусы  \n",
       "2  Краски, пигменты  \n",
       "3             Колбы  \n",
       "4            Пижамы  "
      ]
     },
     "execution_count": 38,
     "metadata": {},
     "output_type": "execute_result"
    }
   ],
   "source": [
    "train.head()"
   ]
  },
  {
   "cell_type": "markdown",
   "id": "0552d90d",
   "metadata": {},
   "source": [
    "Проверим как распределены индексы между категориями"
   ]
  },
  {
   "cell_type": "code",
   "execution_count": 39,
   "id": "5874c0b1",
   "metadata": {},
   "outputs": [],
   "source": [
    "cat_pt = train.pivot_table(index=['level_5'], values=['category_id'], aggfunc=lambda x: x.value_counts().count())"
   ]
  },
  {
   "cell_type": "code",
   "execution_count": 40,
   "id": "f2e89ec7",
   "metadata": {},
   "outputs": [
    {
     "data": {
      "text/html": [
       "<div>\n",
       "<style scoped>\n",
       "    .dataframe tbody tr th:only-of-type {\n",
       "        vertical-align: middle;\n",
       "    }\n",
       "\n",
       "    .dataframe tbody tr th {\n",
       "        vertical-align: top;\n",
       "    }\n",
       "\n",
       "    .dataframe thead th {\n",
       "        text-align: right;\n",
       "    }\n",
       "</style>\n",
       "<table border=\"1\" class=\"dataframe\">\n",
       "  <thead>\n",
       "    <tr style=\"text-align: right;\">\n",
       "      <th></th>\n",
       "      <th>category_id</th>\n",
       "    </tr>\n",
       "    <tr>\n",
       "      <th>level_5</th>\n",
       "      <th></th>\n",
       "    </tr>\n",
       "  </thead>\n",
       "  <tbody>\n",
       "    <tr>\n",
       "      <th>Комплекты</th>\n",
       "      <td>6</td>\n",
       "    </tr>\n",
       "    <tr>\n",
       "      <th>Аксессуары</th>\n",
       "      <td>5</td>\n",
       "    </tr>\n",
       "    <tr>\n",
       "      <th>Жилеты</th>\n",
       "      <td>5</td>\n",
       "    </tr>\n",
       "    <tr>\n",
       "      <th>Сапоги</th>\n",
       "      <td>4</td>\n",
       "    </tr>\n",
       "    <tr>\n",
       "      <th>Худи</th>\n",
       "      <td>4</td>\n",
       "    </tr>\n",
       "    <tr>\n",
       "      <th>...</th>\n",
       "      <td>...</td>\n",
       "    </tr>\n",
       "    <tr>\n",
       "      <th>Комбинезоны</th>\n",
       "      <td>2</td>\n",
       "    </tr>\n",
       "    <tr>\n",
       "      <th>Блузки</th>\n",
       "      <td>2</td>\n",
       "    </tr>\n",
       "    <tr>\n",
       "      <th>Комбинезоны и брюки утепленные</th>\n",
       "      <td>2</td>\n",
       "    </tr>\n",
       "    <tr>\n",
       "      <th>Кабели</th>\n",
       "      <td>2</td>\n",
       "    </tr>\n",
       "    <tr>\n",
       "      <th>Юбки</th>\n",
       "      <td>2</td>\n",
       "    </tr>\n",
       "  </tbody>\n",
       "</table>\n",
       "<p>72 rows × 1 columns</p>\n",
       "</div>"
      ],
      "text/plain": [
       "                                category_id\n",
       "level_5                                    \n",
       "Комплекты                                 6\n",
       "Аксессуары                                5\n",
       "Жилеты                                    5\n",
       "Сапоги                                    4\n",
       "Худи                                      4\n",
       "...                                     ...\n",
       "Комбинезоны                               2\n",
       "Блузки                                    2\n",
       "Комбинезоны и брюки утепленные            2\n",
       "Кабели                                    2\n",
       "Юбки                                      2\n",
       "\n",
       "[72 rows x 1 columns]"
      ]
     },
     "execution_count": 40,
     "metadata": {},
     "output_type": "execute_result"
    }
   ],
   "source": [
    "cat_pt.sort_values(by=['category_id'], ascending=False)[cat_pt['category_id'] > 1]"
   ]
  },
  {
   "cell_type": "code",
   "execution_count": 41,
   "id": "5c1e52d8",
   "metadata": {},
   "outputs": [
    {
     "data": {
      "text/plain": [
       "874"
      ]
     },
     "execution_count": 41,
     "metadata": {},
     "output_type": "execute_result"
    }
   ],
   "source": [
    "cat_pt.category_id.sum()"
   ]
  },
  {
   "cell_type": "markdown",
   "id": "940019b7",
   "metadata": {},
   "source": [
    "Сводная таблица подтверждает предположение, что одна и та же категория товара может находиться в разных тематических блоках, в связи с чем условные \"аксессуары\" могут иметь несколько разных id. Расмотрим их на примере трех топовых по количеству id категорий."
   ]
  },
  {
   "cell_type": "code",
   "execution_count": 42,
   "id": "b8018731",
   "metadata": {},
   "outputs": [],
   "source": [
    "cat_pt = train.pivot_table(index=['level_1','level_2','level_3','level_4','level_5'],\n",
    "                           values=['category_id'], aggfunc=lambda x: x.value_counts().count())"
   ]
  },
  {
   "cell_type": "code",
   "execution_count": 43,
   "id": "91d53a26",
   "metadata": {},
   "outputs": [
    {
     "data": {
      "text/html": [
       "<div>\n",
       "<style scoped>\n",
       "    .dataframe tbody tr th:only-of-type {\n",
       "        vertical-align: middle;\n",
       "    }\n",
       "\n",
       "    .dataframe tbody tr th {\n",
       "        vertical-align: top;\n",
       "    }\n",
       "\n",
       "    .dataframe thead th {\n",
       "        text-align: right;\n",
       "    }\n",
       "</style>\n",
       "<table border=\"1\" class=\"dataframe\">\n",
       "  <thead>\n",
       "    <tr style=\"text-align: right;\">\n",
       "      <th></th>\n",
       "      <th></th>\n",
       "      <th></th>\n",
       "      <th></th>\n",
       "      <th></th>\n",
       "      <th>category_id</th>\n",
       "    </tr>\n",
       "    <tr>\n",
       "      <th>level_1</th>\n",
       "      <th>level_2</th>\n",
       "      <th>level_3</th>\n",
       "      <th>level_4</th>\n",
       "      <th>level_5</th>\n",
       "      <th></th>\n",
       "    </tr>\n",
       "  </thead>\n",
       "  <tbody>\n",
       "    <tr>\n",
       "      <th>Одежда</th>\n",
       "      <th>Женская одежда</th>\n",
       "      <th>Белье и купальники</th>\n",
       "      <th>Бюстгальтеры и аксессуары</th>\n",
       "      <th>Аксессуары</th>\n",
       "      <td>1</td>\n",
       "    </tr>\n",
       "    <tr>\n",
       "      <th rowspan=\"2\" valign=\"top\">Товары для дома</th>\n",
       "      <th>Текстиль</th>\n",
       "      <th>Шторы и карнизы</th>\n",
       "      <th>Аксессуары</th>\n",
       "      <th>Аксессуары</th>\n",
       "      <td>1</td>\n",
       "    </tr>\n",
       "    <tr>\n",
       "      <th>Товары для праздников</th>\n",
       "      <th>Оформление праздника</th>\n",
       "      <th>Воздушные шары и аксессуары</th>\n",
       "      <th>Аксессуары</th>\n",
       "      <td>1</td>\n",
       "    </tr>\n",
       "    <tr>\n",
       "      <th rowspan=\"2\" valign=\"top\">Хобби и творчество</th>\n",
       "      <th>Музыкальные инструменты</th>\n",
       "      <th>Аксессуары</th>\n",
       "      <th>Аксессуары</th>\n",
       "      <th>Аксессуары</th>\n",
       "      <td>1</td>\n",
       "    </tr>\n",
       "    <tr>\n",
       "      <th>Настольные и карточные игры</th>\n",
       "      <th>Аксессуары</th>\n",
       "      <th>Аксессуары</th>\n",
       "      <th>Аксессуары</th>\n",
       "      <td>1</td>\n",
       "    </tr>\n",
       "    <tr>\n",
       "      <th rowspan=\"11\" valign=\"top\">Одежда</th>\n",
       "      <th>Детская одежда</th>\n",
       "      <th>Одежда для мальчиков</th>\n",
       "      <th>Джемперы, свитеры и кардиганы</th>\n",
       "      <th>Жилеты</th>\n",
       "      <td>1</td>\n",
       "    </tr>\n",
       "    <tr>\n",
       "      <th rowspan=\"3\" valign=\"top\">Женская одежда</th>\n",
       "      <th>Верхняя одежда</th>\n",
       "      <th>Жилеты</th>\n",
       "      <th>Жилеты</th>\n",
       "      <td>1</td>\n",
       "    </tr>\n",
       "    <tr>\n",
       "      <th>Джемперы, свитеры и кардиганы</th>\n",
       "      <th>Жилеты</th>\n",
       "      <th>Жилеты</th>\n",
       "      <td>1</td>\n",
       "    </tr>\n",
       "    <tr>\n",
       "      <th>Жакеты и жилеты</th>\n",
       "      <th>Жилеты</th>\n",
       "      <th>Жилеты</th>\n",
       "      <td>1</td>\n",
       "    </tr>\n",
       "    <tr>\n",
       "      <th>Мужская одежда</th>\n",
       "      <th>Верхняя одежда</th>\n",
       "      <th>Жилеты</th>\n",
       "      <th>Жилеты</th>\n",
       "      <td>1</td>\n",
       "    </tr>\n",
       "    <tr>\n",
       "      <th rowspan=\"3\" valign=\"top\">Детская одежда</th>\n",
       "      <th>Одежда для девочек</th>\n",
       "      <th>Костюмы и пиджаки</th>\n",
       "      <th>Комплекты</th>\n",
       "      <td>1</td>\n",
       "    </tr>\n",
       "    <tr>\n",
       "      <th rowspan=\"2\" valign=\"top\">Одежда для мальчиков</th>\n",
       "      <th>Белье и пляжная одежда</th>\n",
       "      <th>Комплекты</th>\n",
       "      <td>1</td>\n",
       "    </tr>\n",
       "    <tr>\n",
       "      <th>Костюмы и пиджаки</th>\n",
       "      <th>Комплекты</th>\n",
       "      <td>1</td>\n",
       "    </tr>\n",
       "    <tr>\n",
       "      <th rowspan=\"2\" valign=\"top\">Женская одежда</th>\n",
       "      <th>Домашняя одежда</th>\n",
       "      <th>Комплекты</th>\n",
       "      <th>Комплекты</th>\n",
       "      <td>1</td>\n",
       "    </tr>\n",
       "    <tr>\n",
       "      <th>Костюмы и комплекты</th>\n",
       "      <th>Комплекты</th>\n",
       "      <th>Комплекты</th>\n",
       "      <td>1</td>\n",
       "    </tr>\n",
       "    <tr>\n",
       "      <th>Мужская одежда</th>\n",
       "      <th>Костюмы и комплекты</th>\n",
       "      <th>Комплекты</th>\n",
       "      <th>Комплекты</th>\n",
       "      <td>1</td>\n",
       "    </tr>\n",
       "  </tbody>\n",
       "</table>\n",
       "</div>"
      ],
      "text/plain": [
       "                                                                                                                       category_id\n",
       "level_1            level_2                     level_3                       level_4                       level_5                \n",
       "Одежда             Женская одежда              Белье и купальники            Бюстгальтеры и аксессуары     Аксессуары            1\n",
       "Товары для дома    Текстиль                    Шторы и карнизы               Аксессуары                    Аксессуары            1\n",
       "                   Товары для праздников       Оформление праздника          Воздушные шары и аксессуары   Аксессуары            1\n",
       "Хобби и творчество Музыкальные инструменты     Аксессуары                    Аксессуары                    Аксессуары            1\n",
       "                   Настольные и карточные игры Аксессуары                    Аксессуары                    Аксессуары            1\n",
       "Одежда             Детская одежда              Одежда для мальчиков          Джемперы, свитеры и кардиганы Жилеты                1\n",
       "                   Женская одежда              Верхняя одежда                Жилеты                        Жилеты                1\n",
       "                                               Джемперы, свитеры и кардиганы Жилеты                        Жилеты                1\n",
       "                                               Жакеты и жилеты               Жилеты                        Жилеты                1\n",
       "                   Мужская одежда              Верхняя одежда                Жилеты                        Жилеты                1\n",
       "                   Детская одежда              Одежда для девочек            Костюмы и пиджаки             Комплекты             1\n",
       "                                               Одежда для мальчиков          Белье и пляжная одежда        Комплекты             1\n",
       "                                                                             Костюмы и пиджаки             Комплекты             1\n",
       "                   Женская одежда              Домашняя одежда               Комплекты                     Комплекты             1\n",
       "                                               Костюмы и комплекты           Комплекты                     Комплекты             1\n",
       "                   Мужская одежда              Костюмы и комплекты           Комплекты                     Комплекты             1"
      ]
     },
     "execution_count": 43,
     "metadata": {},
     "output_type": "execute_result"
    }
   ],
   "source": [
    "cat_pt[np.in1d(cat_pt.index.get_level_values(4),\n",
    "            ['Аксессуары', 'Комплекты', 'Жилеты'])].sort_values(by=['level_5'])"
   ]
  },
  {
   "cell_type": "markdown",
   "id": "c6aa3ef8",
   "metadata": {},
   "source": [
    "Учитывая разнообразие схожих категорий, метод с дополнением признакового пространства путем предсказания более общих категорий товаров кажется наиболее целесообразным."
   ]
  },
  {
   "cell_type": "markdown",
   "id": "ca9ac114",
   "metadata": {},
   "source": [
    "Далее необходимо перевести категории в числовой формат.\n",
    "Предсказать их последовательно, основываясь на мешке слов.\n",
    "Определить глубину предсказания на основании точности моделей."
   ]
  },
  {
   "cell_type": "markdown",
   "id": "85ed9fba",
   "metadata": {},
   "source": [
    "### Лемматизация"
   ]
  },
  {
   "cell_type": "code",
   "execution_count": 44,
   "id": "cd875ca6",
   "metadata": {},
   "outputs": [
    {
     "data": {
      "text/html": [
       "<div>\n",
       "<style scoped>\n",
       "    .dataframe tbody tr th:only-of-type {\n",
       "        vertical-align: middle;\n",
       "    }\n",
       "\n",
       "    .dataframe tbody tr th {\n",
       "        vertical-align: top;\n",
       "    }\n",
       "\n",
       "    .dataframe thead th {\n",
       "        text-align: right;\n",
       "    }\n",
       "</style>\n",
       "<table border=\"1\" class=\"dataframe\">\n",
       "  <thead>\n",
       "    <tr style=\"text-align: right;\">\n",
       "      <th></th>\n",
       "      <th>title</th>\n",
       "      <th>description</th>\n",
       "      <th>attributes</th>\n",
       "      <th>custom_characteristics</th>\n",
       "      <th>defined_characteristics</th>\n",
       "      <th>filters</th>\n",
       "    </tr>\n",
       "  </thead>\n",
       "  <tbody>\n",
       "    <tr>\n",
       "      <th>0</th>\n",
       "      <td>Зарядный кабель Borofone BX1 Lightning для айф...</td>\n",
       "      <td>&lt;p&gt;&lt;span style=\"background-color: transparent;...</td>\n",
       "      <td>[Длина: 1м, Разъем: Lightning, Подерживает быс...</td>\n",
       "      <td>{}</td>\n",
       "      <td>{'Цвет': ['Черный', 'Белый']}</td>\n",
       "      <td>{'Цвет': ['Белый', 'Черный']}</td>\n",
       "    </tr>\n",
       "    <tr>\n",
       "      <th>1</th>\n",
       "      <td>Трусы Sela</td>\n",
       "      <td>Трусы-слипы из эластичного бесшовного трикотаж...</td>\n",
       "      <td>[]</td>\n",
       "      <td>{}</td>\n",
       "      <td>{'Размер одежды': ['S']}</td>\n",
       "      <td>{'Бренд': ['Sela'], 'Размер одежды': ['S']}</td>\n",
       "    </tr>\n",
       "    <tr>\n",
       "      <th>2</th>\n",
       "      <td>Гуашь \"ЮНЫЙ ВОЛШЕБНИК\", 12 цветов по 35 мл, БО...</td>\n",
       "      <td>&lt;p&gt;Гуашь высшего качества ЮНЛАНДИЯ поможет соз...</td>\n",
       "      <td>[]</td>\n",
       "      <td>{}</td>\n",
       "      <td>{}</td>\n",
       "      <td>{'Бренд': ['Юнландия']}</td>\n",
       "    </tr>\n",
       "    <tr>\n",
       "      <th>3</th>\n",
       "      <td>Колба для кальяна Крафт (разные цвета)</td>\n",
       "      <td>&lt;p&gt;&lt;span style=\"color: rgb(149, 151, 153);\"&gt;Ун...</td>\n",
       "      <td>[Материал: стекло, Внутренний диаметр: 45 мм ,...</td>\n",
       "      <td>{}</td>\n",
       "      <td>{'Цвет': ['Хром', 'Розовый', 'Желтый', 'Прозра...</td>\n",
       "      <td>{'Цвет': ['Прозрачный', 'Желтый', 'Синий', 'Ро...</td>\n",
       "    </tr>\n",
       "    <tr>\n",
       "      <th>4</th>\n",
       "      <td>Пижама женская, однотонная с шортами</td>\n",
       "      <td>&lt;p&gt;Лёгкая ткань! Комфортная посадка! Идеальная...</td>\n",
       "      <td>[]</td>\n",
       "      <td>{}</td>\n",
       "      <td>{'Размер одежды': ['XXXL', 'L', 'XXL', 'XL'], ...</td>\n",
       "      <td>{'Цвет': ['Белый', 'Белый', 'Белый', 'Белый'],...</td>\n",
       "    </tr>\n",
       "  </tbody>\n",
       "</table>\n",
       "</div>"
      ],
      "text/plain": [
       "                                               title  \\\n",
       "0  Зарядный кабель Borofone BX1 Lightning для айф...   \n",
       "1                                         Трусы Sela   \n",
       "2  Гуашь \"ЮНЫЙ ВОЛШЕБНИК\", 12 цветов по 35 мл, БО...   \n",
       "3             Колба для кальяна Крафт (разные цвета)   \n",
       "4               Пижама женская, однотонная с шортами   \n",
       "\n",
       "                                         description  \\\n",
       "0  <p><span style=\"background-color: transparent;...   \n",
       "1  Трусы-слипы из эластичного бесшовного трикотаж...   \n",
       "2  <p>Гуашь высшего качества ЮНЛАНДИЯ поможет соз...   \n",
       "3  <p><span style=\"color: rgb(149, 151, 153);\">Ун...   \n",
       "4  <p>Лёгкая ткань! Комфортная посадка! Идеальная...   \n",
       "\n",
       "                                          attributes custom_characteristics  \\\n",
       "0  [Длина: 1м, Разъем: Lightning, Подерживает быс...                     {}   \n",
       "1                                                 []                     {}   \n",
       "2                                                 []                     {}   \n",
       "3  [Материал: стекло, Внутренний диаметр: 45 мм ,...                     {}   \n",
       "4                                                 []                     {}   \n",
       "\n",
       "                             defined_characteristics  \\\n",
       "0                      {'Цвет': ['Черный', 'Белый']}   \n",
       "1                           {'Размер одежды': ['S']}   \n",
       "2                                                 {}   \n",
       "3  {'Цвет': ['Хром', 'Розовый', 'Желтый', 'Прозра...   \n",
       "4  {'Размер одежды': ['XXXL', 'L', 'XXL', 'XL'], ...   \n",
       "\n",
       "                                             filters  \n",
       "0                      {'Цвет': ['Белый', 'Черный']}  \n",
       "1        {'Бренд': ['Sela'], 'Размер одежды': ['S']}  \n",
       "2                            {'Бренд': ['Юнландия']}  \n",
       "3  {'Цвет': ['Прозрачный', 'Желтый', 'Синий', 'Ро...  \n",
       "4  {'Цвет': ['Белый', 'Белый', 'Белый', 'Белый'],...  "
      ]
     },
     "execution_count": 44,
     "metadata": {},
     "output_type": "execute_result"
    }
   ],
   "source": [
    "text_fields.head()"
   ]
  },
  {
   "cell_type": "code",
   "execution_count": 45,
   "id": "925f906b",
   "metadata": {},
   "outputs": [
    {
     "name": "stdout",
     "output_type": "stream",
     "text": [
      "<class 'pandas.core.frame.DataFrame'>\n",
      "RangeIndex: 91120 entries, 0 to 91119\n",
      "Data columns (total 6 columns):\n",
      " #   Column                   Non-Null Count  Dtype \n",
      "---  ------                   --------------  ----- \n",
      " 0   title                    91120 non-null  object\n",
      " 1   description              91120 non-null  object\n",
      " 2   attributes               91120 non-null  object\n",
      " 3   custom_characteristics   91120 non-null  object\n",
      " 4   defined_characteristics  91120 non-null  object\n",
      " 5   filters                  91120 non-null  object\n",
      "dtypes: object(6)\n",
      "memory usage: 4.2+ MB\n"
     ]
    }
   ],
   "source": [
    "text_fields.info()"
   ]
  },
  {
   "cell_type": "markdown",
   "id": "91053b57",
   "metadata": {},
   "source": [
    "В качестве набора признаков будем использовать информацию о названии товара."
   ]
  },
  {
   "cell_type": "code",
   "execution_count": 46,
   "id": "09d7fa8b",
   "metadata": {},
   "outputs": [],
   "source": [
    "#tfhead = text_fields.head(1000)"
   ]
  },
  {
   "cell_type": "code",
   "execution_count": 47,
   "id": "be73dde8",
   "metadata": {},
   "outputs": [],
   "source": [
    "#tfhead"
   ]
  },
  {
   "cell_type": "markdown",
   "id": "3e9dea85",
   "metadata": {},
   "source": [
    "Сформируем таблицу признаков. В дальнейшем мы исследуем два пути. Первый - предскажем сразу конечную категорию товара, второй - попробуем предсказать всё дерево."
   ]
  },
  {
   "cell_type": "code",
   "execution_count": 48,
   "id": "fc7dbd7e",
   "metadata": {},
   "outputs": [],
   "source": [
    "X = text_fields['title']\n",
    "#+ ' ' + tfhead['description'] # Описание запутывает модель"
   ]
  },
  {
   "cell_type": "code",
   "execution_count": 49,
   "id": "e2006c1e",
   "metadata": {},
   "outputs": [],
   "source": [
    "X = pd.DataFrame(X)"
   ]
  },
  {
   "cell_type": "code",
   "execution_count": 51,
   "id": "2525e326",
   "metadata": {},
   "outputs": [],
   "source": [
    "X[['level_1','level_2','level_3','level_4','level_5']] =  train[['level_1','level_2','level_3','level_4','level_5']]\n",
    "#about.columns = ['about', 'target']"
   ]
  },
  {
   "cell_type": "code",
   "execution_count": 52,
   "id": "66e656ef",
   "metadata": {},
   "outputs": [
    {
     "data": {
      "text/html": [
       "<div>\n",
       "<style scoped>\n",
       "    .dataframe tbody tr th:only-of-type {\n",
       "        vertical-align: middle;\n",
       "    }\n",
       "\n",
       "    .dataframe tbody tr th {\n",
       "        vertical-align: top;\n",
       "    }\n",
       "\n",
       "    .dataframe thead th {\n",
       "        text-align: right;\n",
       "    }\n",
       "</style>\n",
       "<table border=\"1\" class=\"dataframe\">\n",
       "  <thead>\n",
       "    <tr style=\"text-align: right;\">\n",
       "      <th></th>\n",
       "      <th>title</th>\n",
       "      <th>level_1</th>\n",
       "      <th>level_2</th>\n",
       "      <th>level_3</th>\n",
       "      <th>level_4</th>\n",
       "      <th>level_5</th>\n",
       "    </tr>\n",
       "  </thead>\n",
       "  <tbody>\n",
       "    <tr>\n",
       "      <th>0</th>\n",
       "      <td>Зарядный кабель Borofone BX1 Lightning для айф...</td>\n",
       "      <td>Электроника</td>\n",
       "      <td>Смартфоны и телефоны</td>\n",
       "      <td>Аксессуары и запчасти</td>\n",
       "      <td>Зарядные устройства и кабели</td>\n",
       "      <td>Кабели</td>\n",
       "    </tr>\n",
       "    <tr>\n",
       "      <th>1</th>\n",
       "      <td>Трусы Sela</td>\n",
       "      <td>Одежда</td>\n",
       "      <td>Женская одежда</td>\n",
       "      <td>Белье и купальники</td>\n",
       "      <td>Трусы</td>\n",
       "      <td>Трусы</td>\n",
       "    </tr>\n",
       "    <tr>\n",
       "      <th>2</th>\n",
       "      <td>Гуашь \"ЮНЫЙ ВОЛШЕБНИК\", 12 цветов по 35 мл, БО...</td>\n",
       "      <td>Хобби и творчество</td>\n",
       "      <td>Рисование</td>\n",
       "      <td>Краски, пигменты</td>\n",
       "      <td>Краски, пигменты</td>\n",
       "      <td>Краски, пигменты</td>\n",
       "    </tr>\n",
       "    <tr>\n",
       "      <th>3</th>\n",
       "      <td>Колба для кальяна Крафт (разные цвета)</td>\n",
       "      <td>Хобби и творчество</td>\n",
       "      <td>Товары для курения</td>\n",
       "      <td>Кальяны и аксессуары</td>\n",
       "      <td>Колбы</td>\n",
       "      <td>Колбы</td>\n",
       "    </tr>\n",
       "    <tr>\n",
       "      <th>4</th>\n",
       "      <td>Пижама женская, однотонная с шортами</td>\n",
       "      <td>Одежда</td>\n",
       "      <td>Женская одежда</td>\n",
       "      <td>Домашняя одежда</td>\n",
       "      <td>Пижамы</td>\n",
       "      <td>Пижамы</td>\n",
       "    </tr>\n",
       "    <tr>\n",
       "      <th>...</th>\n",
       "      <td>...</td>\n",
       "      <td>...</td>\n",
       "      <td>...</td>\n",
       "      <td>...</td>\n",
       "      <td>...</td>\n",
       "      <td>...</td>\n",
       "    </tr>\n",
       "    <tr>\n",
       "      <th>91115</th>\n",
       "      <td>Прочное стекло 2D на Samsung Galaxy J5 Prime</td>\n",
       "      <td>Электроника</td>\n",
       "      <td>Смартфоны и телефоны</td>\n",
       "      <td>Аксессуары и запчасти</td>\n",
       "      <td>Защитные стекла и пленки</td>\n",
       "      <td>Защитные стекла</td>\n",
       "    </tr>\n",
       "    <tr>\n",
       "      <th>91116</th>\n",
       "      <td>Алмазная мозаика \"Ромашки\" 40*50см на подрамнике</td>\n",
       "      <td>Хобби и творчество</td>\n",
       "      <td>Пазлы, мозаика и фреска</td>\n",
       "      <td>Алмазные мозаики</td>\n",
       "      <td>Алмазные мозаики</td>\n",
       "      <td>Алмазные мозаики</td>\n",
       "    </tr>\n",
       "    <tr>\n",
       "      <th>91117</th>\n",
       "      <td>Открытка \"Вместе навсегда\" в крафтовом конверт...</td>\n",
       "      <td>Товары для дома</td>\n",
       "      <td>Товары для праздников</td>\n",
       "      <td>Открытки и конверты</td>\n",
       "      <td>Открытки</td>\n",
       "      <td>Открытки</td>\n",
       "    </tr>\n",
       "    <tr>\n",
       "      <th>91118</th>\n",
       "      <td>Пульт K10B-C1 для Rolsen</td>\n",
       "      <td>Электроника</td>\n",
       "      <td>Телевизоры и видеотехника</td>\n",
       "      <td>Оборудование для телевизоров</td>\n",
       "      <td>Пульты ДУ</td>\n",
       "      <td>Пульты ДУ</td>\n",
       "    </tr>\n",
       "    <tr>\n",
       "      <th>91119</th>\n",
       "      <td>Пульт DS300A/DC300A/DN300 для цифровой пристав...</td>\n",
       "      <td>Электроника</td>\n",
       "      <td>Телевизоры и видеотехника</td>\n",
       "      <td>Оборудование для телевизоров</td>\n",
       "      <td>Пульты ДУ</td>\n",
       "      <td>Пульты ДУ</td>\n",
       "    </tr>\n",
       "  </tbody>\n",
       "</table>\n",
       "<p>91120 rows × 6 columns</p>\n",
       "</div>"
      ],
      "text/plain": [
       "                                                   title             level_1  \\\n",
       "0      Зарядный кабель Borofone BX1 Lightning для айф...         Электроника   \n",
       "1                                             Трусы Sela              Одежда   \n",
       "2      Гуашь \"ЮНЫЙ ВОЛШЕБНИК\", 12 цветов по 35 мл, БО...  Хобби и творчество   \n",
       "3                 Колба для кальяна Крафт (разные цвета)  Хобби и творчество   \n",
       "4                   Пижама женская, однотонная с шортами              Одежда   \n",
       "...                                                  ...                 ...   \n",
       "91115       Прочное стекло 2D на Samsung Galaxy J5 Prime         Электроника   \n",
       "91116   Алмазная мозаика \"Ромашки\" 40*50см на подрамнике  Хобби и творчество   \n",
       "91117  Открытка \"Вместе навсегда\" в крафтовом конверт...     Товары для дома   \n",
       "91118                           Пульт K10B-C1 для Rolsen         Электроника   \n",
       "91119  Пульт DS300A/DC300A/DN300 для цифровой пристав...         Электроника   \n",
       "\n",
       "                         level_2                       level_3  \\\n",
       "0           Смартфоны и телефоны         Аксессуары и запчасти   \n",
       "1                 Женская одежда            Белье и купальники   \n",
       "2                      Рисование              Краски, пигменты   \n",
       "3             Товары для курения          Кальяны и аксессуары   \n",
       "4                 Женская одежда               Домашняя одежда   \n",
       "...                          ...                           ...   \n",
       "91115       Смартфоны и телефоны         Аксессуары и запчасти   \n",
       "91116    Пазлы, мозаика и фреска              Алмазные мозаики   \n",
       "91117      Товары для праздников           Открытки и конверты   \n",
       "91118  Телевизоры и видеотехника  Оборудование для телевизоров   \n",
       "91119  Телевизоры и видеотехника  Оборудование для телевизоров   \n",
       "\n",
       "                            level_4           level_5  \n",
       "0      Зарядные устройства и кабели            Кабели  \n",
       "1                             Трусы             Трусы  \n",
       "2                  Краски, пигменты  Краски, пигменты  \n",
       "3                             Колбы             Колбы  \n",
       "4                            Пижамы            Пижамы  \n",
       "...                             ...               ...  \n",
       "91115      Защитные стекла и пленки   Защитные стекла  \n",
       "91116              Алмазные мозаики  Алмазные мозаики  \n",
       "91117                      Открытки          Открытки  \n",
       "91118                     Пульты ДУ         Пульты ДУ  \n",
       "91119                     Пульты ДУ         Пульты ДУ  \n",
       "\n",
       "[91120 rows x 6 columns]"
      ]
     },
     "execution_count": 52,
     "metadata": {},
     "output_type": "execute_result"
    }
   ],
   "source": [
    "X"
   ]
  },
  {
   "cell_type": "code",
   "execution_count": 55,
   "id": "7a4b1380",
   "metadata": {},
   "outputs": [],
   "source": [
    "X_test = pd.DataFrame(text_fields_test['title'])"
   ]
  },
  {
   "cell_type": "markdown",
   "id": "9606a035",
   "metadata": {},
   "source": [
    "### **Чистка от мусора и дубликатов.**"
   ]
  },
  {
   "cell_type": "markdown",
   "id": "289868b5",
   "metadata": {},
   "source": [
    "Для собственного удобства импортирую нужные библиотеки в этом разделе"
   ]
  },
  {
   "cell_type": "code",
   "execution_count": 56,
   "id": "c64c2b62",
   "metadata": {},
   "outputs": [],
   "source": [
    "import pandas as pd\n",
    "from pymystem3 import Mystem \n",
    "import re \n",
    "m = Mystem() # класс Mystem для лемматизации"
   ]
  },
  {
   "cell_type": "code",
   "execution_count": 95,
   "id": "60d15c5d",
   "metadata": {},
   "outputs": [],
   "source": [
    "corpus = list(X['title'])\n",
    "\n",
    "corpus_2 = list(X_test['title']) # второй раз производим манипуляцию на тестовой выборке"
   ]
  },
  {
   "cell_type": "code",
   "execution_count": 96,
   "id": "1307ea7b",
   "metadata": {},
   "outputs": [],
   "source": [
    "def lemmatize(text):\n",
    "    m = Mystem()\n",
    "    lemm_list = m.lemmatize(text)\n",
    "    lemm_text = \"\".join(lemm_list)\n",
    "        \n",
    "    return lemm_text"
   ]
  },
  {
   "cell_type": "code",
   "execution_count": 117,
   "id": "a8a7af40",
   "metadata": {},
   "outputs": [
    {
     "name": "stdout",
     "output_type": "stream",
     "text": [
      "Исходный текст: Проводные наушники с микрофоном jack 3.5, IOS, Android\n",
      "Очищенный и лемматизированный текст: проводной наушник с микрофон\n",
      "\n"
     ]
    }
   ],
   "source": [
    "def clear_text(text):\n",
    "    text = re.sub(r'[^а-яА-ЯёЁ]', ' ', text)\n",
    "    return \" \".join(text.split())\n",
    "\n",
    "print(\"Исходный текст:\", corpus_2[2])\n",
    "print(\"Очищенный и лемматизированный текст:\", lemmatize(clear_text(corpus_2[2])))"
   ]
  },
  {
   "cell_type": "markdown",
   "id": "b317c6ca",
   "metadata": {},
   "source": [
    "Функции работают, однако проблема в том, что в списке могут быть названия товаров на английском: бренды, названия устройств и тд. Поэтому перепишем функцию очистки "
   ]
  },
  {
   "cell_type": "code",
   "execution_count": 122,
   "id": "0107a2e2",
   "metadata": {},
   "outputs": [
    {
     "name": "stdout",
     "output_type": "stream",
     "text": [
      "Исходный текст: Проводные наушники с микрофоном jack 3.5, IOS, Android\n",
      "Очищенный и лемматизированный текст: проводной наушник микрофон jack android\n",
      "\n"
     ]
    }
   ],
   "source": [
    "# удаляет цифры, знаки и выравнивает размер текта\n",
    "def clear_text(text):\n",
    "    text = re.sub(r'[^а-яА-ЯёЁa-zA-Z]', ' ', text)\n",
    "    text = ' '.join(word for word in text.split() if len(word)>3)\n",
    "    return \" \".join(text.split()).lower()\n",
    "\n",
    "print(\"Исходный текст:\", corpus_2[2])\n",
    "print(\"Очищенный и лемматизированный текст:\", lemmatize(clear_text(corpus_2[2])))"
   ]
  },
  {
   "cell_type": "markdown",
   "id": "85982d4a",
   "metadata": {},
   "source": [
    "Функция работает, теперь в названии большую часть составляет полезная информация"
   ]
  },
  {
   "cell_type": "code",
   "execution_count": 45,
   "id": "ce814a24",
   "metadata": {},
   "outputs": [],
   "source": [
    "# # Очитска текста от лишних прилагательных\n",
    "# def clear_text_2(text):\n",
    "#     text = re.sub(r'(\\b\\w{1,}\\Bой|\\b\\w{1,}\\Bий|\\b\\w{1,}\\Bый|\\b\\w{1,}\\Bого|\\b\\w{1,}\\Bего| \\\n",
    "#     \\b\\w{1,}\\Bому|\\b\\w{1,}\\Bему|\\b\\w{1,}\\Bим|\\b\\w{1,}\\Bым|\\b\\w{1,}\\Bом|\\b\\w{1,}\\Bое|\\b\\w{1,}\\Bее|\\b\\w{1,}\\Bое|\\b\\w{1,}\\Bее| \\\n",
    "#     \\b\\w{1,}\\Bая|\\b\\w{1,}\\Bяя|\\b\\w{1,}\\Bую|\\b\\w{1,}\\Bюю|\\b\\w{1,}\\Bие|\\b\\w{1,}\\Bые|\\b\\w{1,}\\Bих|\\b\\w{1,}\\Bых|\\b\\w{1,} \\\n",
    "#     \\b\\w{1,}\\Bими|\\b\\w{1,}\\Bыми|\\b\\w{1,2}\\b)', ' ', text)\n",
    "    \n",
    "#     return \" \".join(text.split())"
   ]
  },
  {
   "cell_type": "markdown",
   "id": "84de62be",
   "metadata": {},
   "source": [
    "Имеются незапущенные ячейки кода, так как проект был приведен в порядок после формирования нужных таблиц"
   ]
  },
  {
   "cell_type": "code",
   "execution_count": 166,
   "id": "5406ceb9",
   "metadata": {},
   "outputs": [
    {
     "data": {
      "application/vnd.jupyter.widget-view+json": {
       "model_id": "dbc17477edd7412aa7ee9d9169ec54f7",
       "version_major": 2,
       "version_minor": 0
      },
      "text/plain": [
       "  0%|          | 0/91120 [00:00<?, ?it/s]"
      ]
     },
     "metadata": {},
     "output_type": "display_data"
    }
   ],
   "source": [
    "X['lemm'] = X['title'].progress_apply(clear_text)"
   ]
  },
  {
   "cell_type": "code",
   "execution_count": 163,
   "id": "b788cd8b",
   "metadata": {},
   "outputs": [],
   "source": [
    "#X['lemm'] = X['lemm'].progress_apply(lemmatize)"
   ]
  },
  {
   "attachments": {
    "image.png": {
     "image/png": "[encoded data removed]"
    }
   },
   "cell_type": "markdown",
   "id": "c7334456",
   "metadata": {},
   "source": [
    "![image.png](attachment:image.png)"
   ]
  },
  {
   "cell_type": "markdown",
   "id": "9ab8de77",
   "metadata": {},
   "source": [
    "Ожидается очень долгая обработка данных, но при этом отдельные предложения PyMystem3 лемматизирует мгновенно. Поиск информации показал, что \"PyMystem3 использует для обработки внешний исполняемый файл mystem.exe. Видимо, такая архитектура на частых маленьких вызовах обходится очень дорого.\" поэтому объединим наши названия в список крупных текстов. Разделителем укажем какое-нибудь необычное слово, например \" оранжеваяобезьяна \""
   ]
  },
  {
   "cell_type": "code",
   "execution_count": 178,
   "id": "efda4c28",
   "metadata": {},
   "outputs": [],
   "source": [
    "def lemmatize_3(list):\n",
    "    \n",
    "    # блок объединения\n",
    "    join_lemm = []\n",
    "\n",
    "    for i in tqdm(range(0, len(list), 1000)):\n",
    "        end = min(i + 1000, len(list)) #позволяет не выйти за пределы списка\n",
    "        join_lemm.append(' оранжеваяобезьяна '.join(list[i:end])) \n",
    "    \n",
    "    # блок лемматизации\n",
    "    lemmatized = []\n",
    "        \n",
    "    for i in tqdm(range(len(join_lemm))):\n",
    "        element = lemmatize(join_lemm[i])\n",
    "        element = element.split(' оранжеваяобезьяна ')\n",
    "        \n",
    "        for g in element:\n",
    "            lemmatized.append(g)\n",
    "                   \n",
    "    return lemmatized"
   ]
  },
  {
   "cell_type": "code",
   "execution_count": 168,
   "id": "99a93f6f",
   "metadata": {},
   "outputs": [
    {
     "data": {
      "application/vnd.jupyter.widget-view+json": {
       "model_id": "6f5114a73cbd478ea79e82b089a0a9fe",
       "version_major": 2,
       "version_minor": 0
      },
      "text/plain": [
       "  0%|          | 0/92 [00:00<?, ?it/s]"
      ]
     },
     "metadata": {},
     "output_type": "display_data"
    },
    {
     "data": {
      "application/vnd.jupyter.widget-view+json": {
       "model_id": "fa9f439718884facb0a29d0dc9d08bdd",
       "version_major": 2,
       "version_minor": 0
      },
      "text/plain": [
       "  0%|          | 0/92 [00:00<?, ?it/s]"
      ]
     },
     "metadata": {},
     "output_type": "display_data"
    }
   ],
   "source": [
    "X['lemm'] = lemmatize_3(X['lemm'].to_list())"
   ]
  },
  {
   "cell_type": "markdown",
   "id": "fad8ae21",
   "metadata": {},
   "source": [
    "Таким образом, мы сократили время обработки тексты с 14 часов до 1 минуты. Это очень радует."
   ]
  },
  {
   "cell_type": "code",
   "execution_count": 173,
   "id": "81d64a64",
   "metadata": {},
   "outputs": [
    {
     "data": {
      "text/html": [
       "<div>\n",
       "<style scoped>\n",
       "    .dataframe tbody tr th:only-of-type {\n",
       "        vertical-align: middle;\n",
       "    }\n",
       "\n",
       "    .dataframe tbody tr th {\n",
       "        vertical-align: top;\n",
       "    }\n",
       "\n",
       "    .dataframe thead th {\n",
       "        text-align: right;\n",
       "    }\n",
       "</style>\n",
       "<table border=\"1\" class=\"dataframe\">\n",
       "  <thead>\n",
       "    <tr style=\"text-align: right;\">\n",
       "      <th></th>\n",
       "      <th>title</th>\n",
       "      <th>level_1</th>\n",
       "      <th>level_2</th>\n",
       "      <th>level_3</th>\n",
       "      <th>level_4</th>\n",
       "      <th>level_5</th>\n",
       "      <th>lemm</th>\n",
       "    </tr>\n",
       "  </thead>\n",
       "  <tbody>\n",
       "    <tr>\n",
       "      <th>91115</th>\n",
       "      <td>Прочное стекло 2D на Samsung Galaxy J5 Prime</td>\n",
       "      <td>Электроника</td>\n",
       "      <td>Смартфоны и телефоны</td>\n",
       "      <td>Аксессуары и запчасти</td>\n",
       "      <td>Защитные стекла и пленки</td>\n",
       "      <td>Защитные стекла</td>\n",
       "      <td>прочный стекло samsung galaxy prime</td>\n",
       "    </tr>\n",
       "    <tr>\n",
       "      <th>91116</th>\n",
       "      <td>Алмазная мозаика \"Ромашки\" 40*50см на подрамнике</td>\n",
       "      <td>Хобби и творчество</td>\n",
       "      <td>Пазлы, мозаика и фреска</td>\n",
       "      <td>Алмазные мозаики</td>\n",
       "      <td>Алмазные мозаики</td>\n",
       "      <td>Алмазные мозаики</td>\n",
       "      <td>алмазный мозаика ромашка подрамник</td>\n",
       "    </tr>\n",
       "    <tr>\n",
       "      <th>91117</th>\n",
       "      <td>Открытка \"Вместе навсегда\" в крафтовом конверт...</td>\n",
       "      <td>Товары для дома</td>\n",
       "      <td>Товары для праздников</td>\n",
       "      <td>Открытки и конверты</td>\n",
       "      <td>Открытки</td>\n",
       "      <td>Открытки</td>\n",
       "      <td>открытка вместе навсегда крафтовый конверт фев...</td>\n",
       "    </tr>\n",
       "    <tr>\n",
       "      <th>91118</th>\n",
       "      <td>Пульт K10B-C1 для Rolsen</td>\n",
       "      <td>Электроника</td>\n",
       "      <td>Телевизоры и видеотехника</td>\n",
       "      <td>Оборудование для телевизоров</td>\n",
       "      <td>Пульты ДУ</td>\n",
       "      <td>Пульты ДУ</td>\n",
       "      <td>пульт rolsen</td>\n",
       "    </tr>\n",
       "    <tr>\n",
       "      <th>91119</th>\n",
       "      <td>Пульт DS300A/DC300A/DN300 для цифровой пристав...</td>\n",
       "      <td>Электроника</td>\n",
       "      <td>Телевизоры и видеотехника</td>\n",
       "      <td>Оборудование для телевизоров</td>\n",
       "      <td>Пульты ДУ</td>\n",
       "      <td>Пульты ДУ</td>\n",
       "      <td>пульт цифровой приставка\\n</td>\n",
       "    </tr>\n",
       "  </tbody>\n",
       "</table>\n",
       "</div>"
      ],
      "text/plain": [
       "                                                   title             level_1  \\\n",
       "91115       Прочное стекло 2D на Samsung Galaxy J5 Prime         Электроника   \n",
       "91116   Алмазная мозаика \"Ромашки\" 40*50см на подрамнике  Хобби и творчество   \n",
       "91117  Открытка \"Вместе навсегда\" в крафтовом конверт...     Товары для дома   \n",
       "91118                           Пульт K10B-C1 для Rolsen         Электроника   \n",
       "91119  Пульт DS300A/DC300A/DN300 для цифровой пристав...         Электроника   \n",
       "\n",
       "                         level_2                       level_3  \\\n",
       "91115       Смартфоны и телефоны         Аксессуары и запчасти   \n",
       "91116    Пазлы, мозаика и фреска              Алмазные мозаики   \n",
       "91117      Товары для праздников           Открытки и конверты   \n",
       "91118  Телевизоры и видеотехника  Оборудование для телевизоров   \n",
       "91119  Телевизоры и видеотехника  Оборудование для телевизоров   \n",
       "\n",
       "                        level_4           level_5  \\\n",
       "91115  Защитные стекла и пленки   Защитные стекла   \n",
       "91116          Алмазные мозаики  Алмазные мозаики   \n",
       "91117                  Открытки          Открытки   \n",
       "91118                 Пульты ДУ         Пульты ДУ   \n",
       "91119                 Пульты ДУ         Пульты ДУ   \n",
       "\n",
       "                                                    lemm  \n",
       "91115                прочный стекло samsung galaxy prime  \n",
       "91116                 алмазный мозаика ромашка подрамник  \n",
       "91117  открытка вместе навсегда крафтовый конверт фев...  \n",
       "91118                                       пульт rolsen  \n",
       "91119                         пульт цифровой приставка\\n  "
      ]
     },
     "execution_count": 173,
     "metadata": {},
     "output_type": "execute_result"
    }
   ],
   "source": [
    "X.tail()"
   ]
  },
  {
   "cell_type": "code",
   "execution_count": 174,
   "id": "91b89f9a",
   "metadata": {},
   "outputs": [
    {
     "name": "stdout",
     "output_type": "stream",
     "text": [
      "<class 'pandas.core.frame.DataFrame'>\n",
      "RangeIndex: 91120 entries, 0 to 91119\n",
      "Data columns (total 7 columns):\n",
      " #   Column   Non-Null Count  Dtype \n",
      "---  ------   --------------  ----- \n",
      " 0   title    91120 non-null  object\n",
      " 1   level_1  91120 non-null  object\n",
      " 2   level_2  91120 non-null  object\n",
      " 3   level_3  91120 non-null  object\n",
      " 4   level_4  91120 non-null  object\n",
      " 5   level_5  91120 non-null  object\n",
      " 6   lemm     91120 non-null  object\n",
      "dtypes: object(7)\n",
      "memory usage: 4.9+ MB\n"
     ]
    }
   ],
   "source": [
    "X.info()"
   ]
  },
  {
   "cell_type": "markdown",
   "id": "ac72734c",
   "metadata": {},
   "source": [
    "Далее разберемся с тестовой выборкой"
   ]
  },
  {
   "cell_type": "code",
   "execution_count": 180,
   "id": "2a48a1d6",
   "metadata": {},
   "outputs": [
    {
     "data": {
      "application/vnd.jupyter.widget-view+json": {
       "model_id": "",
       "version_major": 2,
       "version_minor": 0
      },
      "text/plain": [
       "  0%|          | 0/17 [00:00<?, ?it/s]"
      ]
     },
     "metadata": {},
     "output_type": "display_data"
    },
    {
     "data": {
      "application/vnd.jupyter.widget-view+json": {
       "model_id": "",
       "version_major": 2,
       "version_minor": 0
      },
      "text/plain": [
       "  0%|          | 0/17 [00:00<?, ?it/s]"
      ]
     },
     "metadata": {},
     "output_type": "display_data"
    }
   ],
   "source": [
    "X_test['lemm'] = lemmatize_3(X_test['lemm'].to_list())"
   ]
  },
  {
   "cell_type": "code",
   "execution_count": 180,
   "id": "5796bf8b",
   "metadata": {},
   "outputs": [
    {
     "data": {
      "application/vnd.jupyter.widget-view+json": {
       "model_id": "",
       "version_major": 2,
       "version_minor": 0
      },
      "text/plain": [
       "  0%|          | 0/17 [00:00<?, ?it/s]"
      ]
     },
     "metadata": {},
     "output_type": "display_data"
    },
    {
     "data": {
      "application/vnd.jupyter.widget-view+json": {
       "model_id": "",
       "version_major": 2,
       "version_minor": 0
      },
      "text/plain": [
       "  0%|          | 0/17 [00:00<?, ?it/s]"
      ]
     },
     "metadata": {},
     "output_type": "display_data"
    }
   ],
   "source": [
    "X_test['lemm'] = lemmatize_3(X_test['lemm'].to_list())"
   ]
  },
  {
   "cell_type": "code",
   "execution_count": 176,
   "id": "8372e548",
   "metadata": {
    "scrolled": true
   },
   "outputs": [
    {
     "data": {
      "application/vnd.jupyter.widget-view+json": {
       "model_id": "bbb514fca43248048e237802226f3994",
       "version_major": 2,
       "version_minor": 0
      },
      "text/plain": [
       "  0%|          | 0/16860 [00:00<?, ?it/s]"
      ]
     },
     "metadata": {},
     "output_type": "display_data"
    }
   ],
   "source": [
    "X_test['lemm'] = X_test['title'].progress_apply(clear_text)"
   ]
  },
  {
   "cell_type": "code",
   "execution_count": 181,
   "id": "70e4770a",
   "metadata": {},
   "outputs": [
    {
     "data": {
      "text/html": [
       "<div>\n",
       "<style scoped>\n",
       "    .dataframe tbody tr th:only-of-type {\n",
       "        vertical-align: middle;\n",
       "    }\n",
       "\n",
       "    .dataframe tbody tr th {\n",
       "        vertical-align: top;\n",
       "    }\n",
       "\n",
       "    .dataframe thead th {\n",
       "        text-align: right;\n",
       "    }\n",
       "</style>\n",
       "<table border=\"1\" class=\"dataframe\">\n",
       "  <thead>\n",
       "    <tr style=\"text-align: right;\">\n",
       "      <th></th>\n",
       "      <th>title</th>\n",
       "      <th>lemm</th>\n",
       "    </tr>\n",
       "  </thead>\n",
       "  <tbody>\n",
       "    <tr>\n",
       "      <th>0</th>\n",
       "      <td>Светодиодная лента Smart led Strip Light, с пу...</td>\n",
       "      <td>светодиодный лента smart strip light пульт мет...</td>\n",
       "    </tr>\n",
       "    <tr>\n",
       "      <th>1</th>\n",
       "      <td>Стекло ПЛЕНКА керамик матовое Honor 50 lite 10...</td>\n",
       "      <td>стекло пленка керамика матовый honor lite psma...</td>\n",
       "    </tr>\n",
       "    <tr>\n",
       "      <th>2</th>\n",
       "      <td>Проводные наушники с микрофоном jack 3.5, IOS,...</td>\n",
       "      <td>проводной наушник микрофон jack android</td>\n",
       "    </tr>\n",
       "    <tr>\n",
       "      <th>3</th>\n",
       "      <td>Декоративная табличка \"Правила кухни\", подстав...</td>\n",
       "      <td>декоративный табличка правило кухня подставка ...</td>\n",
       "    </tr>\n",
       "    <tr>\n",
       "      <th>4</th>\n",
       "      <td>Подставка под ложку керамическая, подложка \"Кл...</td>\n",
       "      <td>подставка ложка керамический подложка клубника...</td>\n",
       "    </tr>\n",
       "  </tbody>\n",
       "</table>\n",
       "</div>"
      ],
      "text/plain": [
       "                                               title  \\\n",
       "0  Светодиодная лента Smart led Strip Light, с пу...   \n",
       "1  Стекло ПЛЕНКА керамик матовое Honor 50 lite 10...   \n",
       "2  Проводные наушники с микрофоном jack 3.5, IOS,...   \n",
       "3  Декоративная табличка \"Правила кухни\", подстав...   \n",
       "4  Подставка под ложку керамическая, подложка \"Кл...   \n",
       "\n",
       "                                                lemm  \n",
       "0  светодиодный лента smart strip light пульт мет...  \n",
       "1  стекло пленка керамика матовый honor lite psma...  \n",
       "2            проводной наушник микрофон jack android  \n",
       "3  декоративный табличка правило кухня подставка ...  \n",
       "4  подставка ложка керамический подложка клубника...  "
      ]
     },
     "execution_count": 181,
     "metadata": {},
     "output_type": "execute_result"
    }
   ],
   "source": [
    "X_test.head()"
   ]
  },
  {
   "cell_type": "code",
   "execution_count": 182,
   "id": "044cb3ea",
   "metadata": {},
   "outputs": [],
   "source": [
    "X.to_csv('train_lemm.csv')"
   ]
  },
  {
   "cell_type": "code",
   "execution_count": 183,
   "id": "7583af2f",
   "metadata": {},
   "outputs": [],
   "source": [
    "X_test.to_csv('test_lemm.csv')"
   ]
  },
  {
   "cell_type": "markdown",
   "id": "98c0a19f",
   "metadata": {},
   "source": [
    "По итогу, нами сформировано 2 таблицы, которые содержат лемматизированные названия товаров, в следующей части, будет проведена работа \n"
   ]
  }
 ],
 "metadata": {
  "ExecuteTimeLog": [
   {
    "duration": 437,
    "start_time": "2023-04-12T14:43:53.554Z"
   },
   {
    "duration": 269,
    "start_time": "2023-04-12T14:43:59.186Z"
   },
   {
    "duration": 2340,
    "start_time": "2023-04-12T14:46:45.016Z"
   },
   {
    "duration": 18,
    "start_time": "2023-04-12T14:46:55.403Z"
   },
   {
    "duration": 10,
    "start_time": "2023-04-12T14:47:38.959Z"
   },
   {
    "duration": 3,
    "start_time": "2023-04-12T14:48:33.915Z"
   },
   {
    "duration": 4,
    "start_time": "2023-04-12T14:48:46.249Z"
   },
   {
    "duration": 4,
    "start_time": "2023-04-12T14:48:56.578Z"
   },
   {
    "duration": 14,
    "start_time": "2023-04-12T14:49:12.802Z"
   },
   {
    "duration": 13,
    "start_time": "2023-04-12T14:50:09.705Z"
   },
   {
    "duration": 11,
    "start_time": "2023-04-12T14:51:35.881Z"
   },
   {
    "duration": 3,
    "start_time": "2023-04-12T15:45:25.488Z"
   },
   {
    "duration": 365861,
    "start_time": "2023-04-12T15:45:40.758Z"
   },
   {
    "duration": 16,
    "start_time": "2023-04-12T15:51:52.455Z"
   },
   {
    "duration": 30,
    "start_time": "2023-04-12T15:52:18.736Z"
   },
   {
    "duration": 10228,
    "start_time": "2023-04-12T15:53:17.354Z"
   },
   {
    "duration": 11370,
    "start_time": "2023-04-12T15:55:01.450Z"
   },
   {
    "duration": 27,
    "start_time": "2023-04-12T15:55:12.822Z"
   },
   {
    "duration": 10,
    "start_time": "2023-04-12T16:01:21.010Z"
   },
   {
    "duration": 8,
    "start_time": "2023-04-12T16:02:13.147Z"
   },
   {
    "duration": 9,
    "start_time": "2023-04-12T16:02:18.413Z"
   },
   {
    "duration": 271,
    "start_time": "2023-04-12T16:07:20.692Z"
   },
   {
    "duration": 3798,
    "start_time": "2023-04-12T16:07:24.569Z"
   },
   {
    "duration": 34,
    "start_time": "2023-04-12T16:07:53.558Z"
   },
   {
    "duration": 18,
    "start_time": "2023-04-12T16:10:07.803Z"
   },
   {
    "duration": 2,
    "start_time": "2023-04-12T16:10:16.118Z"
   },
   {
    "duration": 43,
    "start_time": "2023-04-12T16:10:50.648Z"
   },
   {
    "duration": 52,
    "start_time": "2023-04-12T16:10:54.240Z"
   },
   {
    "duration": 40,
    "start_time": "2023-04-12T16:11:10.656Z"
   },
   {
    "duration": 28,
    "start_time": "2023-04-12T16:11:16.867Z"
   },
   {
    "duration": 44,
    "start_time": "2023-04-12T16:11:37.910Z"
   },
   {
    "duration": 49,
    "start_time": "2023-04-12T16:11:52.712Z"
   },
   {
    "duration": 49,
    "start_time": "2023-04-12T16:11:57.506Z"
   },
   {
    "duration": 24,
    "start_time": "2023-04-12T16:12:22.661Z"
   },
   {
    "duration": 2,
    "start_time": "2023-04-12T16:13:19.164Z"
   },
   {
    "duration": 24,
    "start_time": "2023-04-12T16:13:20.512Z"
   },
   {
    "duration": 25,
    "start_time": "2023-04-12T16:13:29.636Z"
   },
   {
    "duration": 46,
    "start_time": "2023-04-12T16:16:24.285Z"
   },
   {
    "duration": 3,
    "start_time": "2023-04-12T16:16:28.007Z"
   },
   {
    "duration": 16,
    "start_time": "2023-04-12T16:16:33.453Z"
   },
   {
    "duration": 3,
    "start_time": "2023-04-12T16:17:10.651Z"
   },
   {
    "duration": 5,
    "start_time": "2023-04-12T16:17:14.109Z"
   },
   {
    "duration": 3,
    "start_time": "2023-04-12T16:17:55.608Z"
   },
   {
    "duration": 27,
    "start_time": "2023-04-12T16:17:57.407Z"
   },
   {
    "duration": 15,
    "start_time": "2023-04-12T16:20:59.380Z"
   },
   {
    "duration": 14,
    "start_time": "2023-04-12T16:21:05.557Z"
   },
   {
    "duration": 16,
    "start_time": "2023-04-12T16:21:12.458Z"
   },
   {
    "duration": 14,
    "start_time": "2023-04-12T16:21:35.607Z"
   },
   {
    "duration": 46,
    "start_time": "2023-04-12T16:23:17.769Z"
   },
   {
    "duration": 45,
    "start_time": "2023-04-12T16:23:49.304Z"
   },
   {
    "duration": 4,
    "start_time": "2023-04-12T16:23:54.964Z"
   },
   {
    "duration": 35,
    "start_time": "2023-04-12T16:24:04.006Z"
   },
   {
    "duration": 11,
    "start_time": "2023-04-12T16:24:10.806Z"
   },
   {
    "duration": 3,
    "start_time": "2023-04-12T16:25:58.260Z"
   },
   {
    "duration": 24,
    "start_time": "2023-04-12T16:25:59.952Z"
   },
   {
    "duration": 4,
    "start_time": "2023-04-12T16:27:35.901Z"
   },
   {
    "duration": 738,
    "start_time": "2023-04-12T16:27:36.912Z"
   },
   {
    "duration": 3,
    "start_time": "2023-04-12T16:28:29.263Z"
   },
   {
    "duration": 50,
    "start_time": "2023-04-12T16:28:30.526Z"
   },
   {
    "duration": 14404,
    "start_time": "2023-04-12T16:28:49.063Z"
   },
   {
    "duration": 13421,
    "start_time": "2023-04-12T16:29:31.826Z"
   },
   {
    "duration": 3,
    "start_time": "2023-04-12T16:30:09.659Z"
   },
   {
    "duration": 4246,
    "start_time": "2023-04-12T16:30:13.762Z"
   },
   {
    "duration": 4113,
    "start_time": "2023-04-12T16:30:22.703Z"
   },
   {
    "duration": 352272,
    "start_time": "2023-04-12T16:30:51.146Z"
   },
   {
    "duration": 0,
    "start_time": "2023-04-12T16:36:43.420Z"
   },
   {
    "duration": 55,
    "start_time": "2023-04-12T16:37:00.853Z"
   },
   {
    "duration": 215728,
    "start_time": "2023-04-12T16:37:46.522Z"
   },
   {
    "duration": 9,
    "start_time": "2023-04-12T16:42:46.324Z"
   },
   {
    "duration": 4,
    "start_time": "2023-04-12T16:42:53.590Z"
   },
   {
    "duration": 11,
    "start_time": "2023-04-12T16:43:05.968Z"
   },
   {
    "duration": 10,
    "start_time": "2023-04-12T16:55:34.903Z"
   },
   {
    "duration": 5,
    "start_time": "2023-04-12T16:56:24.847Z"
   },
   {
    "duration": 228641,
    "start_time": "2023-04-12T16:56:27.568Z"
   },
   {
    "duration": 0,
    "start_time": "2023-04-12T17:00:16.211Z"
   },
   {
    "duration": 17,
    "start_time": "2023-04-12T17:00:25.230Z"
   },
   {
    "duration": 8,
    "start_time": "2023-04-12T17:00:32.373Z"
   },
   {
    "duration": 6,
    "start_time": "2023-04-12T17:01:29.912Z"
   },
   {
    "duration": 4,
    "start_time": "2023-04-12T17:02:11.752Z"
   },
   {
    "duration": 4,
    "start_time": "2023-04-12T17:02:21.834Z"
   },
   {
    "duration": 8,
    "start_time": "2023-04-12T17:09:06.839Z"
   },
   {
    "duration": 5,
    "start_time": "2023-04-12T17:09:11.935Z"
   },
   {
    "duration": 5,
    "start_time": "2023-04-12T17:09:26.422Z"
   },
   {
    "duration": 13,
    "start_time": "2023-04-12T17:10:16.052Z"
   },
   {
    "duration": 8,
    "start_time": "2023-04-12T17:10:31.633Z"
   },
   {
    "duration": 4,
    "start_time": "2023-04-12T17:11:40.851Z"
   },
   {
    "duration": 8,
    "start_time": "2023-04-12T17:11:45.063Z"
   },
   {
    "duration": 7,
    "start_time": "2023-04-12T17:11:47.936Z"
   },
   {
    "duration": 4,
    "start_time": "2023-04-12T17:11:53.705Z"
   },
   {
    "duration": 9,
    "start_time": "2023-04-12T17:12:01.938Z"
   },
   {
    "duration": 5,
    "start_time": "2023-04-12T17:12:08.207Z"
   },
   {
    "duration": 5,
    "start_time": "2023-04-12T17:12:20.335Z"
   },
   {
    "duration": 5,
    "start_time": "2023-04-12T17:12:28.436Z"
   },
   {
    "duration": 5,
    "start_time": "2023-04-12T17:12:35.742Z"
   },
   {
    "duration": 13,
    "start_time": "2023-04-12T18:35:02.060Z"
   },
   {
    "duration": 5,
    "start_time": "2023-04-12T18:35:12.360Z"
   },
   {
    "duration": 62,
    "start_time": "2023-04-12T18:38:56.110Z"
   },
   {
    "duration": 3,
    "start_time": "2023-04-12T18:39:24.321Z"
   },
   {
    "duration": 9,
    "start_time": "2023-04-12T18:39:42.259Z"
   },
   {
    "duration": 5,
    "start_time": "2023-04-12T18:39:54.024Z"
   },
   {
    "duration": 5,
    "start_time": "2023-04-12T18:43:47.616Z"
   },
   {
    "duration": 3,
    "start_time": "2023-04-12T18:43:53.671Z"
   },
   {
    "duration": 10,
    "start_time": "2023-04-12T18:44:11.168Z"
   },
   {
    "duration": 3,
    "start_time": "2023-04-12T18:44:38.995Z"
   },
   {
    "duration": 3,
    "start_time": "2023-04-12T18:44:39.385Z"
   },
   {
    "duration": 10,
    "start_time": "2023-04-12T18:44:40.071Z"
   },
   {
    "duration": 3,
    "start_time": "2023-04-12T18:44:57.504Z"
   },
   {
    "duration": 4,
    "start_time": "2023-04-12T18:44:58.173Z"
   },
   {
    "duration": 3,
    "start_time": "2023-04-12T18:44:58.635Z"
   },
   {
    "duration": 15,
    "start_time": "2023-04-12T18:44:59.114Z"
   },
   {
    "duration": 3,
    "start_time": "2023-04-12T18:45:43.680Z"
   },
   {
    "duration": 3,
    "start_time": "2023-04-12T18:45:44.276Z"
   },
   {
    "duration": 12,
    "start_time": "2023-04-12T18:45:44.698Z"
   },
   {
    "duration": 4,
    "start_time": "2023-04-12T18:48:11.176Z"
   },
   {
    "duration": 3,
    "start_time": "2023-04-12T18:48:16.681Z"
   },
   {
    "duration": 3,
    "start_time": "2023-04-12T18:48:46.272Z"
   },
   {
    "duration": 6,
    "start_time": "2023-04-12T18:48:50.001Z"
   },
   {
    "duration": 10,
    "start_time": "2023-04-12T18:49:19.499Z"
   },
   {
    "duration": 2203,
    "start_time": "2023-04-12T18:49:25.573Z"
   },
   {
    "duration": 12,
    "start_time": "2023-04-12T18:49:28.912Z"
   },
   {
    "duration": 5,
    "start_time": "2023-04-12T18:49:34.775Z"
   },
   {
    "duration": 5,
    "start_time": "2023-04-12T18:49:36.082Z"
   },
   {
    "duration": 3,
    "start_time": "2023-04-12T18:49:40.578Z"
   },
   {
    "duration": 5,
    "start_time": "2023-04-12T18:49:41.071Z"
   },
   {
    "duration": 8,
    "start_time": "2023-04-12T18:49:44.077Z"
   },
   {
    "duration": 6,
    "start_time": "2023-04-12T18:49:46.573Z"
   },
   {
    "duration": 3,
    "start_time": "2023-04-12T18:51:25.409Z"
   },
   {
    "duration": 2,
    "start_time": "2023-04-12T18:51:28.775Z"
   },
   {
    "duration": 3,
    "start_time": "2023-04-12T18:52:06.200Z"
   },
   {
    "duration": 4,
    "start_time": "2023-04-12T18:52:13.279Z"
   },
   {
    "duration": 14,
    "start_time": "2023-04-12T18:52:32.779Z"
   },
   {
    "duration": 8,
    "start_time": "2023-04-12T18:56:13.995Z"
   },
   {
    "duration": 17,
    "start_time": "2023-04-12T18:56:20.537Z"
   },
   {
    "duration": 5,
    "start_time": "2023-04-12T18:59:24.706Z"
   },
   {
    "duration": 12,
    "start_time": "2023-04-12T18:59:26.022Z"
   },
   {
    "duration": 4,
    "start_time": "2023-04-12T18:59:51.332Z"
   },
   {
    "duration": 5,
    "start_time": "2023-04-12T18:59:51.616Z"
   },
   {
    "duration": 4,
    "start_time": "2023-04-12T18:59:52.032Z"
   },
   {
    "duration": 4,
    "start_time": "2023-04-12T19:00:14.217Z"
   },
   {
    "duration": 4,
    "start_time": "2023-04-12T19:00:21.627Z"
   },
   {
    "duration": 4,
    "start_time": "2023-04-12T19:00:22.328Z"
   },
   {
    "duration": 5,
    "start_time": "2023-04-12T19:03:51.278Z"
   },
   {
    "duration": 6,
    "start_time": "2023-04-12T19:03:51.824Z"
   },
   {
    "duration": 7,
    "start_time": "2023-04-12T19:03:54.478Z"
   },
   {
    "duration": 4,
    "start_time": "2023-04-12T19:04:02.017Z"
   },
   {
    "duration": 3,
    "start_time": "2023-04-12T19:06:47.732Z"
   },
   {
    "duration": 6,
    "start_time": "2023-04-12T19:06:48.366Z"
   },
   {
    "duration": 4,
    "start_time": "2023-04-12T19:07:51.837Z"
   },
   {
    "duration": 6,
    "start_time": "2023-04-12T19:09:47.373Z"
   },
   {
    "duration": 5,
    "start_time": "2023-04-12T19:09:52.802Z"
   },
   {
    "duration": 5,
    "start_time": "2023-04-12T19:10:03.961Z"
   },
   {
    "duration": 5,
    "start_time": "2023-04-12T19:12:17.293Z"
   },
   {
    "duration": 9,
    "start_time": "2023-04-12T19:13:46.324Z"
   },
   {
    "duration": 5,
    "start_time": "2023-04-12T19:13:55.672Z"
   },
   {
    "duration": 4,
    "start_time": "2023-04-12T19:14:36.434Z"
   },
   {
    "duration": 6,
    "start_time": "2023-04-12T19:15:22.926Z"
   },
   {
    "duration": 6,
    "start_time": "2023-04-12T19:16:00.771Z"
   },
   {
    "duration": 47,
    "start_time": "2023-04-12T19:16:51.105Z"
   },
   {
    "duration": 8,
    "start_time": "2023-04-12T19:16:54.993Z"
   },
   {
    "duration": 4,
    "start_time": "2023-04-12T19:18:43.280Z"
   },
   {
    "duration": 9,
    "start_time": "2023-04-12T19:18:54.197Z"
   },
   {
    "duration": 6,
    "start_time": "2023-04-12T19:19:02.064Z"
   },
   {
    "duration": 5,
    "start_time": "2023-04-12T19:19:21.301Z"
   },
   {
    "duration": 11,
    "start_time": "2023-04-12T19:22:31.270Z"
   },
   {
    "duration": 15,
    "start_time": "2023-04-12T19:23:13.699Z"
   },
   {
    "duration": 99,
    "start_time": "2023-04-12T19:23:31.195Z"
   },
   {
    "duration": 44,
    "start_time": "2023-04-12T19:23:36.604Z"
   },
   {
    "duration": 11,
    "start_time": "2023-04-12T19:26:59.686Z"
   },
   {
    "duration": 13,
    "start_time": "2023-04-12T19:27:38.159Z"
   },
   {
    "duration": 89,
    "start_time": "2023-04-12T19:28:03.450Z"
   },
   {
    "duration": 96,
    "start_time": "2023-04-12T19:28:28.297Z"
   },
   {
    "duration": 45,
    "start_time": "2023-04-12T19:28:30.274Z"
   },
   {
    "duration": 89,
    "start_time": "2023-04-12T19:29:55.078Z"
   },
   {
    "duration": 66,
    "start_time": "2023-04-12T19:29:55.418Z"
   },
   {
    "duration": 5,
    "start_time": "2023-04-12T19:29:57.329Z"
   },
   {
    "duration": 124,
    "start_time": "2023-04-12T19:30:23.707Z"
   },
   {
    "duration": 21,
    "start_time": "2023-04-12T19:30:24.878Z"
   },
   {
    "duration": 3,
    "start_time": "2023-04-12T19:31:15.628Z"
   },
   {
    "duration": 135,
    "start_time": "2023-04-12T19:31:54.811Z"
   },
   {
    "duration": 24,
    "start_time": "2023-04-12T19:31:56.571Z"
   },
   {
    "duration": 5,
    "start_time": "2023-04-12T19:32:01.630Z"
   },
   {
    "duration": 8,
    "start_time": "2023-04-12T19:32:28.132Z"
   },
   {
    "duration": 774,
    "start_time": "2023-04-12T19:32:53.106Z"
   },
   {
    "duration": 4,
    "start_time": "2023-04-12T19:34:24.691Z"
   },
   {
    "duration": 165,
    "start_time": "2023-04-12T19:35:15.018Z"
   },
   {
    "duration": 169,
    "start_time": "2023-04-12T19:35:44.277Z"
   },
   {
    "duration": 3,
    "start_time": "2023-04-12T19:35:54.923Z"
   },
   {
    "duration": 23,
    "start_time": "2023-04-12T19:36:01.271Z"
   },
   {
    "duration": 60,
    "start_time": "2023-04-12T19:41:23.914Z"
   },
   {
    "duration": 11,
    "start_time": "2023-04-12T19:41:31.860Z"
   },
   {
    "duration": 7,
    "start_time": "2023-04-12T19:41:54.987Z"
   },
   {
    "duration": 42,
    "start_time": "2023-04-12T19:42:06.870Z"
   },
   {
    "duration": 7,
    "start_time": "2023-04-12T19:42:26.829Z"
   },
   {
    "duration": 1658,
    "start_time": "2023-04-12T19:42:27.578Z"
   },
   {
    "duration": 37,
    "start_time": "2023-04-12T19:42:31.540Z"
   },
   {
    "duration": 4,
    "start_time": "2023-04-12T19:42:57.341Z"
   },
   {
    "duration": 6,
    "start_time": "2023-04-12T19:43:53.640Z"
   },
   {
    "duration": 190,
    "start_time": "2023-04-12T19:43:54.239Z"
   },
   {
    "duration": 29,
    "start_time": "2023-04-12T19:44:16.860Z"
   },
   {
    "duration": 1526133,
    "start_time": "2023-04-12T19:45:09.426Z"
   },
   {
    "duration": 7,
    "start_time": "2023-04-12T20:11:00.628Z"
   },
   {
    "duration": 6,
    "start_time": "2023-04-12T20:11:12.384Z"
   },
   {
    "duration": 16,
    "start_time": "2023-04-12T20:11:57.841Z"
   },
   {
    "duration": 101,
    "start_time": "2023-04-12T20:12:03.371Z"
   },
   {
    "duration": 7921,
    "start_time": "2023-04-12T20:15:11.784Z"
   },
   {
    "duration": 373,
    "start_time": "2023-04-13T11:32:11.329Z"
   },
   {
    "duration": 2844,
    "start_time": "2023-04-13T11:32:13.753Z"
   },
   {
    "duration": 23,
    "start_time": "2023-04-13T11:32:16.599Z"
   },
   {
    "duration": 15,
    "start_time": "2023-04-13T11:32:18.978Z"
   },
   {
    "duration": 2379,
    "start_time": "2023-04-13T11:33:43.812Z"
   },
   {
    "duration": 2182,
    "start_time": "2023-04-13T11:33:50.722Z"
   },
   {
    "duration": 5051,
    "start_time": "2023-04-13T11:34:30.489Z"
   },
   {
    "duration": 11,
    "start_time": "2023-04-13T11:36:17.571Z"
   },
   {
    "duration": 11,
    "start_time": "2023-04-13T11:36:23.402Z"
   },
   {
    "duration": 11,
    "start_time": "2023-04-13T11:36:43.965Z"
   },
   {
    "duration": 36,
    "start_time": "2023-04-13T11:37:29.435Z"
   },
   {
    "duration": 2,
    "start_time": "2023-04-13T11:37:53.611Z"
   },
   {
    "duration": 21,
    "start_time": "2023-04-13T11:43:53.547Z"
   },
   {
    "duration": 13,
    "start_time": "2023-04-13T11:43:59.420Z"
   },
   {
    "duration": 52,
    "start_time": "2023-04-13T11:52:40.807Z"
   },
   {
    "duration": 5,
    "start_time": "2023-04-13T11:52:44.524Z"
   },
   {
    "duration": 8,
    "start_time": "2023-04-13T11:53:20.423Z"
   },
   {
    "duration": 66,
    "start_time": "2023-04-13T11:53:26.059Z"
   },
   {
    "duration": 68,
    "start_time": "2023-04-13T11:53:36.157Z"
   },
   {
    "duration": 5,
    "start_time": "2023-04-13T12:17:35.787Z"
   },
   {
    "duration": 4,
    "start_time": "2023-04-13T12:17:53.953Z"
   },
   {
    "duration": 4,
    "start_time": "2023-04-13T12:18:04.945Z"
   },
   {
    "duration": 5,
    "start_time": "2023-04-13T12:18:10.021Z"
   },
   {
    "duration": 5,
    "start_time": "2023-04-13T12:26:10.053Z"
   },
   {
    "duration": 3,
    "start_time": "2023-04-13T12:32:06.340Z"
   },
   {
    "duration": 3,
    "start_time": "2023-04-13T12:33:00.692Z"
   },
   {
    "duration": 2,
    "start_time": "2023-04-13T12:33:57.349Z"
   },
   {
    "duration": 10,
    "start_time": "2023-04-13T12:34:57.276Z"
   },
   {
    "duration": 3,
    "start_time": "2023-04-13T12:35:01.229Z"
   },
   {
    "duration": 4,
    "start_time": "2023-04-13T12:35:02.214Z"
   },
   {
    "duration": 762,
    "start_time": "2023-04-13T12:35:03.284Z"
   },
   {
    "duration": 773,
    "start_time": "2023-04-13T12:35:14.820Z"
   },
   {
    "duration": 768,
    "start_time": "2023-04-13T12:37:14.765Z"
   },
   {
    "duration": 50,
    "start_time": "2023-04-13T13:01:13.683Z"
   },
   {
    "duration": 12,
    "start_time": "2023-04-13T13:01:39.059Z"
   },
   {
    "duration": 45,
    "start_time": "2023-04-13T13:02:18.561Z"
   },
   {
    "duration": 75,
    "start_time": "2023-04-13T13:03:00.146Z"
   },
   {
    "duration": 776,
    "start_time": "2023-04-13T13:03:10.538Z"
   },
   {
    "duration": 2,
    "start_time": "2023-04-13T13:03:57.738Z"
   },
   {
    "duration": 28,
    "start_time": "2023-04-13T13:04:13.623Z"
   },
   {
    "duration": 11,
    "start_time": "2023-04-13T13:05:48.090Z"
   },
   {
    "duration": 4,
    "start_time": "2023-04-13T13:07:17.139Z"
   },
   {
    "duration": 24,
    "start_time": "2023-04-13T13:07:23.490Z"
   },
   {
    "duration": 7477,
    "start_time": "2023-04-13T13:07:57.883Z"
   },
   {
    "duration": 14,
    "start_time": "2023-04-13T13:08:06.810Z"
   },
   {
    "duration": 472,
    "start_time": "2023-04-14T07:22:46.742Z"
   },
   {
    "duration": 3964,
    "start_time": "2023-04-14T07:23:35.078Z"
   },
   {
    "duration": 5179,
    "start_time": "2023-04-14T07:23:39.045Z"
   },
   {
    "duration": 19,
    "start_time": "2023-04-14T07:23:47.933Z"
   },
   {
    "duration": 10,
    "start_time": "2023-04-14T07:23:48.789Z"
   },
   {
    "duration": 35,
    "start_time": "2023-04-14T07:23:52.445Z"
   },
   {
    "duration": 3,
    "start_time": "2023-04-14T07:23:52.717Z"
   },
   {
    "duration": 5,
    "start_time": "2023-04-14T07:23:52.986Z"
   },
   {
    "duration": 5,
    "start_time": "2023-04-14T07:23:55.837Z"
   },
   {
    "duration": 3,
    "start_time": "2023-04-14T07:24:17.797Z"
   },
   {
    "duration": 3,
    "start_time": "2023-04-14T07:24:19.629Z"
   },
   {
    "duration": 873,
    "start_time": "2023-04-14T07:24:24.013Z"
   },
   {
    "duration": 87,
    "start_time": "2023-04-14T07:24:40.101Z"
   },
   {
    "duration": 8322,
    "start_time": "2023-04-14T07:24:41.197Z"
   },
   {
    "duration": 15,
    "start_time": "2023-04-14T07:24:49.919Z"
   },
   {
    "duration": 27,
    "start_time": "2023-04-14T07:33:06.441Z"
   },
   {
    "duration": 8713,
    "start_time": "2023-04-14T07:33:22.097Z"
   },
   {
    "duration": 15,
    "start_time": "2023-04-14T07:33:31.985Z"
   },
   {
    "duration": 12,
    "start_time": "2023-04-14T07:36:51.493Z"
   },
   {
    "duration": 3,
    "start_time": "2023-04-14T07:39:44.557Z"
   },
   {
    "duration": 7,
    "start_time": "2023-04-14T07:40:43.790Z"
   },
   {
    "duration": 13,
    "start_time": "2023-04-14T07:40:54.386Z"
   },
   {
    "duration": 6,
    "start_time": "2023-04-14T07:41:06.389Z"
   },
   {
    "duration": 4,
    "start_time": "2023-04-14T07:41:12.660Z"
   },
   {
    "duration": 4,
    "start_time": "2023-04-14T07:43:33.557Z"
   },
   {
    "duration": 5,
    "start_time": "2023-04-14T07:43:51.020Z"
   },
   {
    "duration": 6,
    "start_time": "2023-04-14T07:43:54.797Z"
   },
   {
    "duration": 6,
    "start_time": "2023-04-14T07:44:01.597Z"
   },
   {
    "duration": 9,
    "start_time": "2023-04-14T07:44:39.901Z"
   },
   {
    "duration": 99,
    "start_time": "2023-04-14T07:45:57.151Z"
   },
   {
    "duration": 17,
    "start_time": "2023-04-14T07:45:59.607Z"
   },
   {
    "duration": 12,
    "start_time": "2023-04-14T07:46:39.288Z"
   },
   {
    "duration": 18,
    "start_time": "2023-04-14T07:46:51.088Z"
   },
   {
    "duration": 10,
    "start_time": "2023-04-14T07:47:18.022Z"
   },
   {
    "duration": 8,
    "start_time": "2023-04-14T07:47:41.846Z"
   },
   {
    "duration": 4,
    "start_time": "2023-04-14T07:47:54.886Z"
   },
   {
    "duration": 5,
    "start_time": "2023-04-14T07:48:09.710Z"
   },
   {
    "duration": 4,
    "start_time": "2023-04-14T07:48:36.326Z"
   },
   {
    "duration": 8,
    "start_time": "2023-04-14T07:48:39.542Z"
   },
   {
    "duration": 107,
    "start_time": "2023-04-14T07:49:06.692Z"
   },
   {
    "duration": 20,
    "start_time": "2023-04-14T07:49:33.359Z"
   },
   {
    "duration": 7,
    "start_time": "2023-04-14T07:49:36.087Z"
   },
   {
    "duration": 4,
    "start_time": "2023-04-14T07:49:46.959Z"
   },
   {
    "duration": 5,
    "start_time": "2023-04-14T07:50:03.791Z"
   },
   {
    "duration": 5,
    "start_time": "2023-04-14T07:50:04.043Z"
   },
   {
    "duration": 833,
    "start_time": "2023-04-14T07:50:06.342Z"
   },
   {
    "duration": 30,
    "start_time": "2023-04-14T07:50:55.322Z"
   },
   {
    "duration": 8516,
    "start_time": "2023-04-14T07:50:58.328Z"
   },
   {
    "duration": 11,
    "start_time": "2023-04-14T07:51:13.558Z"
   },
   {
    "duration": 11,
    "start_time": "2023-04-14T07:51:48.527Z"
   },
   {
    "duration": 1331,
    "start_time": "2023-04-14T08:01:27.315Z"
   },
   {
    "duration": 5,
    "start_time": "2023-04-14T08:01:30.401Z"
   },
   {
    "duration": 3,
    "start_time": "2023-04-14T08:01:52.000Z"
   },
   {
    "duration": 4,
    "start_time": "2023-04-14T08:04:23.114Z"
   },
   {
    "duration": 5,
    "start_time": "2023-04-14T08:06:00.604Z"
   },
   {
    "duration": 5,
    "start_time": "2023-04-14T08:06:08.305Z"
   },
   {
    "duration": 4,
    "start_time": "2023-04-14T08:06:13.250Z"
   },
   {
    "duration": 4,
    "start_time": "2023-04-14T08:08:55.138Z"
   },
   {
    "duration": 155,
    "start_time": "2023-04-14T08:08:58.491Z"
   },
   {
    "duration": 3,
    "start_time": "2023-04-14T08:09:32.856Z"
   },
   {
    "duration": 25,
    "start_time": "2023-04-14T08:09:41.139Z"
   },
   {
    "duration": 15,
    "start_time": "2023-04-14T08:11:07.596Z"
   },
   {
    "duration": 3,
    "start_time": "2023-04-14T08:11:18.090Z"
   },
   {
    "duration": 9,
    "start_time": "2023-04-14T08:11:19.364Z"
   },
   {
    "duration": 6,
    "start_time": "2023-04-14T08:11:30.564Z"
   },
   {
    "duration": 6,
    "start_time": "2023-04-14T08:11:36.963Z"
   },
   {
    "duration": 13,
    "start_time": "2023-04-14T08:12:16.707Z"
   },
   {
    "duration": 134,
    "start_time": "2023-04-14T08:13:04.101Z"
   },
   {
    "duration": 3,
    "start_time": "2023-04-14T08:13:09.989Z"
   },
   {
    "duration": 22,
    "start_time": "2023-04-14T08:14:00.845Z"
   },
   {
    "duration": 458,
    "start_time": "2023-04-18T12:54:07.868Z"
   },
   {
    "duration": 945,
    "start_time": "2023-04-18T12:54:08.974Z"
   },
   {
    "duration": 2903,
    "start_time": "2023-04-18T12:54:16.221Z"
   },
   {
    "duration": 5117,
    "start_time": "2023-04-18T12:54:19.127Z"
   },
   {
    "duration": 72,
    "start_time": "2023-04-18T12:54:24.245Z"
   },
   {
    "duration": 11,
    "start_time": "2023-04-18T12:54:24.319Z"
   },
   {
    "duration": 53,
    "start_time": "2023-04-18T12:54:24.331Z"
   },
   {
    "duration": 3,
    "start_time": "2023-04-18T12:54:27.014Z"
   },
   {
    "duration": 65,
    "start_time": "2023-04-18T12:54:36.221Z"
   },
   {
    "duration": 12,
    "start_time": "2023-04-18T12:54:44.070Z"
   },
   {
    "duration": 3,
    "start_time": "2023-04-18T12:54:46.917Z"
   },
   {
    "duration": 5,
    "start_time": "2023-04-18T12:54:47.220Z"
   },
   {
    "duration": 4,
    "start_time": "2023-04-18T12:54:47.527Z"
   },
   {
    "duration": 6,
    "start_time": "2023-04-18T12:54:47.969Z"
   },
   {
    "duration": 8,
    "start_time": "2023-04-18T12:54:48.409Z"
   },
   {
    "duration": 17,
    "start_time": "2023-04-18T12:54:52.135Z"
   },
   {
    "duration": 6,
    "start_time": "2023-04-18T12:54:53.220Z"
   },
   {
    "duration": 4,
    "start_time": "2023-04-18T12:54:53.571Z"
   },
   {
    "duration": 3,
    "start_time": "2023-04-18T12:54:53.824Z"
   },
   {
    "duration": 729,
    "start_time": "2023-04-18T12:54:55.047Z"
   },
   {
    "duration": 53,
    "start_time": "2023-04-18T12:55:00.218Z"
   },
   {
    "duration": 7381,
    "start_time": "2023-04-18T12:55:01.223Z"
   },
   {
    "duration": 16,
    "start_time": "2023-04-18T12:55:09.775Z"
   },
   {
    "duration": 9,
    "start_time": "2023-04-18T13:06:23.738Z"
   },
   {
    "duration": 3,
    "start_time": "2023-04-18T13:06:25.385Z"
   },
   {
    "duration": 518,
    "start_time": "2023-04-18T13:06:33.470Z"
   },
   {
    "duration": 7,
    "start_time": "2023-04-18T13:07:08.717Z"
   },
   {
    "duration": 3,
    "start_time": "2023-04-18T13:07:10.475Z"
   },
   {
    "duration": 14,
    "start_time": "2023-04-18T13:07:36.345Z"
   },
   {
    "duration": 6,
    "start_time": "2023-04-18T13:09:55.882Z"
   },
   {
    "duration": 3,
    "start_time": "2023-04-18T13:10:05.642Z"
   },
   {
    "duration": 7,
    "start_time": "2023-04-18T13:10:06.110Z"
   },
   {
    "duration": 6,
    "start_time": "2023-04-18T13:10:07.274Z"
   },
   {
    "duration": 405,
    "start_time": "2023-04-19T12:19:18.739Z"
   },
   {
    "duration": 975,
    "start_time": "2023-04-19T12:19:19.145Z"
   },
   {
    "duration": 3042,
    "start_time": "2023-04-19T12:19:22.499Z"
   },
   {
    "duration": 4861,
    "start_time": "2023-04-19T12:19:25.544Z"
   },
   {
    "duration": 61,
    "start_time": "2023-04-19T12:19:30.407Z"
   },
   {
    "duration": 58,
    "start_time": "2023-04-19T12:19:30.470Z"
   },
   {
    "duration": 31,
    "start_time": "2023-04-19T12:19:30.529Z"
   },
   {
    "duration": 2,
    "start_time": "2023-04-19T12:19:32.914Z"
   },
   {
    "duration": 4,
    "start_time": "2023-04-19T12:19:33.099Z"
   },
   {
    "duration": 2,
    "start_time": "2023-04-19T12:19:33.425Z"
   },
   {
    "duration": 15,
    "start_time": "2023-04-19T12:19:34.666Z"
   },
   {
    "duration": 3,
    "start_time": "2023-04-19T12:19:36.106Z"
   },
   {
    "duration": 6,
    "start_time": "2023-04-19T12:19:36.361Z"
   },
   {
    "duration": 3,
    "start_time": "2023-04-19T12:19:36.632Z"
   },
   {
    "duration": 4,
    "start_time": "2023-04-19T12:19:36.900Z"
   },
   {
    "duration": 14,
    "start_time": "2023-04-19T12:19:37.186Z"
   },
   {
    "duration": 20,
    "start_time": "2023-04-19T12:19:39.665Z"
   },
   {
    "duration": 5,
    "start_time": "2023-04-19T12:19:40.518Z"
   },
   {
    "duration": 2197,
    "start_time": "2023-04-19T12:20:56.346Z"
   },
   {
    "duration": 14,
    "start_time": "2023-04-19T12:21:11.467Z"
   },
   {
    "duration": 8,
    "start_time": "2023-04-19T12:21:28.095Z"
   },
   {
    "duration": 7,
    "start_time": "2023-04-19T12:21:40.354Z"
   },
   {
    "duration": 9,
    "start_time": "2023-04-19T12:21:46.026Z"
   },
   {
    "duration": 5,
    "start_time": "2023-04-19T12:22:03.735Z"
   },
   {
    "duration": 5,
    "start_time": "2023-04-19T12:22:19.258Z"
   },
   {
    "duration": 2,
    "start_time": "2023-04-19T12:24:09.243Z"
   },
   {
    "duration": 6,
    "start_time": "2023-04-19T12:24:10.771Z"
   },
   {
    "duration": 3,
    "start_time": "2023-04-19T12:24:19.732Z"
   },
   {
    "duration": 4,
    "start_time": "2023-04-19T12:24:27.250Z"
   },
   {
    "duration": 6,
    "start_time": "2023-04-19T12:28:50.763Z"
   },
   {
    "duration": 8,
    "start_time": "2023-04-19T13:03:57.200Z"
   },
   {
    "duration": 6,
    "start_time": "2023-04-19T13:04:00.457Z"
   },
   {
    "duration": 3,
    "start_time": "2023-04-19T13:04:01.425Z"
   },
   {
    "duration": 2,
    "start_time": "2023-04-19T13:04:02.225Z"
   },
   {
    "duration": 3,
    "start_time": "2023-04-19T13:04:02.499Z"
   },
   {
    "duration": 12,
    "start_time": "2023-04-19T13:04:02.903Z"
   },
   {
    "duration": 3,
    "start_time": "2023-04-19T13:04:09.312Z"
   },
   {
    "duration": 10,
    "start_time": "2023-04-19T13:04:09.568Z"
   },
   {
    "duration": 3,
    "start_time": "2023-04-19T13:04:09.798Z"
   },
   {
    "duration": 4,
    "start_time": "2023-04-19T13:04:10.024Z"
   },
   {
    "duration": 8,
    "start_time": "2023-04-19T13:04:10.248Z"
   },
   {
    "duration": 12,
    "start_time": "2023-04-19T13:04:17.624Z"
   },
   {
    "duration": 2,
    "start_time": "2023-04-19T13:04:18.300Z"
   },
   {
    "duration": 4,
    "start_time": "2023-04-19T13:04:19.198Z"
   },
   {
    "duration": 3,
    "start_time": "2023-04-19T13:04:19.432Z"
   },
   {
    "duration": 729,
    "start_time": "2023-04-19T13:04:19.664Z"
   },
   {
    "duration": 25,
    "start_time": "2023-04-19T13:04:21.409Z"
   },
   {
    "duration": 6808,
    "start_time": "2023-04-19T13:04:22.169Z"
   },
   {
    "duration": 11,
    "start_time": "2023-04-19T13:04:31.600Z"
   },
   {
    "duration": 9,
    "start_time": "2023-04-19T13:04:44.699Z"
   },
   {
    "duration": 7,
    "start_time": "2023-04-19T13:04:52.723Z"
   },
   {
    "duration": 2,
    "start_time": "2023-04-19T13:04:53.320Z"
   },
   {
    "duration": 410,
    "start_time": "2023-04-19T13:04:54.448Z"
   },
   {
    "duration": 5,
    "start_time": "2023-04-19T13:04:55.760Z"
   },
   {
    "duration": 2,
    "start_time": "2023-04-19T13:04:59.544Z"
   },
   {
    "duration": 6,
    "start_time": "2023-04-19T13:05:01.712Z"
   },
   {
    "duration": 4,
    "start_time": "2023-04-19T13:05:03.120Z"
   },
   {
    "duration": 3,
    "start_time": "2023-04-19T13:05:03.720Z"
   },
   {
    "duration": 7,
    "start_time": "2023-04-19T13:05:10.600Z"
   },
   {
    "duration": 3,
    "start_time": "2023-04-19T13:05:11.128Z"
   },
   {
    "duration": 4,
    "start_time": "2023-04-19T13:11:06.362Z"
   },
   {
    "duration": 4,
    "start_time": "2023-04-19T13:11:54.694Z"
   },
   {
    "duration": 26,
    "start_time": "2023-04-19T13:12:09.107Z"
   },
   {
    "duration": 4,
    "start_time": "2023-04-19T13:18:23.160Z"
   },
   {
    "duration": 8,
    "start_time": "2023-04-19T13:18:27.106Z"
   },
   {
    "duration": 3,
    "start_time": "2023-04-19T13:24:08.214Z"
   },
   {
    "duration": 4,
    "start_time": "2023-04-19T13:24:24.448Z"
   },
   {
    "duration": 32,
    "start_time": "2023-04-19T13:24:43.057Z"
   },
   {
    "duration": 6,
    "start_time": "2023-04-19T13:24:45.856Z"
   },
   {
    "duration": 9,
    "start_time": "2023-04-19T13:25:13.256Z"
   },
   {
    "duration": 13,
    "start_time": "2023-04-19T13:25:23.056Z"
   },
   {
    "duration": 11,
    "start_time": "2023-04-19T13:25:29.492Z"
   },
   {
    "duration": 9,
    "start_time": "2023-04-19T13:25:34.736Z"
   },
   {
    "duration": 8,
    "start_time": "2023-04-19T13:27:39.856Z"
   },
   {
    "duration": 9,
    "start_time": "2023-04-19T13:27:49.694Z"
   },
   {
    "duration": 7,
    "start_time": "2023-04-19T13:34:19.313Z"
   },
   {
    "duration": 488,
    "start_time": "2023-04-19T13:35:51.113Z"
   },
   {
    "duration": 3,
    "start_time": "2023-04-19T13:39:07.514Z"
   },
   {
    "duration": 5,
    "start_time": "2023-04-19T13:44:56.048Z"
   },
   {
    "duration": 4,
    "start_time": "2023-04-19T13:45:36.083Z"
   },
   {
    "duration": 5,
    "start_time": "2023-04-19T13:45:37.585Z"
   },
   {
    "duration": 23,
    "start_time": "2023-04-19T13:46:39.583Z"
   },
   {
    "duration": 16,
    "start_time": "2023-04-19T13:46:50.547Z"
   },
   {
    "duration": 37,
    "start_time": "2023-04-19T13:47:29.763Z"
   },
   {
    "duration": 11,
    "start_time": "2023-04-19T13:47:36.930Z"
   },
   {
    "duration": 443,
    "start_time": "2023-04-19T13:57:14.961Z"
   },
   {
    "duration": 13,
    "start_time": "2023-04-19T13:59:24.195Z"
   },
   {
    "duration": 12,
    "start_time": "2023-04-19T13:59:45.991Z"
   },
   {
    "duration": 2865,
    "start_time": "2023-04-19T14:00:03.842Z"
   },
   {
    "duration": 12,
    "start_time": "2023-04-19T14:00:09.235Z"
   },
   {
    "duration": 11,
    "start_time": "2023-04-19T14:00:18.277Z"
   },
   {
    "duration": 411,
    "start_time": "2023-04-19T14:00:25.985Z"
   },
   {
    "duration": 20,
    "start_time": "2023-04-19T14:00:28.983Z"
   },
   {
    "duration": 51,
    "start_time": "2023-04-19T14:00:35.186Z"
   },
   {
    "duration": 23,
    "start_time": "2023-04-19T14:01:57.988Z"
   },
   {
    "duration": 12,
    "start_time": "2023-04-19T14:02:03.347Z"
   },
   {
    "duration": 10,
    "start_time": "2023-04-19T14:02:20.099Z"
   },
   {
    "duration": 31,
    "start_time": "2023-04-19T14:02:27.211Z"
   },
   {
    "duration": 12,
    "start_time": "2023-04-19T14:03:14.131Z"
   },
   {
    "duration": 24,
    "start_time": "2023-04-19T14:03:19.524Z"
   },
   {
    "duration": 19,
    "start_time": "2023-04-19T14:03:35.131Z"
   },
   {
    "duration": 14,
    "start_time": "2023-04-19T14:03:56.141Z"
   },
   {
    "duration": 19,
    "start_time": "2023-04-19T14:06:30.644Z"
   },
   {
    "duration": 18,
    "start_time": "2023-04-19T14:06:31.091Z"
   },
   {
    "duration": 5,
    "start_time": "2023-04-19T14:25:55.216Z"
   },
   {
    "duration": 4,
    "start_time": "2023-04-19T14:26:07.552Z"
   },
   {
    "duration": 5,
    "start_time": "2023-04-19T14:26:15.091Z"
   },
   {
    "duration": 85,
    "start_time": "2023-04-19T14:27:41.063Z"
   },
   {
    "duration": 28,
    "start_time": "2023-04-19T14:28:26.884Z"
   },
   {
    "duration": 401,
    "start_time": "2023-04-19T14:29:15.725Z"
   },
   {
    "duration": 9,
    "start_time": "2023-04-19T14:29:17.216Z"
   },
   {
    "duration": 54,
    "start_time": "2023-04-19T14:29:18.711Z"
   },
   {
    "duration": 22,
    "start_time": "2023-04-19T14:29:20.743Z"
   },
   {
    "duration": 16,
    "start_time": "2023-04-19T14:29:21.999Z"
   },
   {
    "duration": 16,
    "start_time": "2023-04-19T14:29:22.989Z"
   },
   {
    "duration": 11,
    "start_time": "2023-04-19T14:30:07.600Z"
   },
   {
    "duration": 6,
    "start_time": "2023-04-19T14:30:10.599Z"
   },
   {
    "duration": 74,
    "start_time": "2023-04-19T14:31:36.655Z"
   },
   {
    "duration": 21,
    "start_time": "2023-04-19T14:31:38.922Z"
   },
   {
    "duration": 21,
    "start_time": "2023-04-19T14:32:06.248Z"
   },
   {
    "duration": 22,
    "start_time": "2023-04-19T14:32:26.283Z"
   },
   {
    "duration": 35,
    "start_time": "2023-04-19T14:32:35.559Z"
   },
   {
    "duration": 14,
    "start_time": "2023-04-19T14:32:51.752Z"
   },
   {
    "duration": 27,
    "start_time": "2023-04-19T14:33:29.816Z"
   },
   {
    "duration": 45,
    "start_time": "2023-04-19T14:33:35.255Z"
   },
   {
    "duration": 388,
    "start_time": "2023-04-19T14:36:33.255Z"
   },
   {
    "duration": 11,
    "start_time": "2023-04-19T14:36:33.691Z"
   },
   {
    "duration": 57,
    "start_time": "2023-04-19T14:36:36.928Z"
   },
   {
    "duration": 22,
    "start_time": "2023-04-19T14:36:38.823Z"
   },
   {
    "duration": 16,
    "start_time": "2023-04-19T14:36:42.511Z"
   },
   {
    "duration": 12,
    "start_time": "2023-04-19T14:38:14.896Z"
   },
   {
    "duration": 101,
    "start_time": "2023-04-19T14:38:21.967Z"
   },
   {
    "duration": 11,
    "start_time": "2023-04-19T14:38:29.763Z"
   },
   {
    "duration": 11,
    "start_time": "2023-04-19T14:38:34.895Z"
   },
   {
    "duration": 9,
    "start_time": "2023-04-19T14:41:00.484Z"
   },
   {
    "duration": 10,
    "start_time": "2023-04-19T14:45:44.240Z"
   },
   {
    "duration": 28,
    "start_time": "2023-04-19T14:46:03.294Z"
   },
   {
    "duration": 30,
    "start_time": "2023-04-19T14:46:34.529Z"
   },
   {
    "duration": 28,
    "start_time": "2023-04-19T14:47:10.489Z"
   },
   {
    "duration": 3,
    "start_time": "2023-04-19T14:48:28.298Z"
   },
   {
    "duration": 84,
    "start_time": "2023-04-19T14:48:32.848Z"
   },
   {
    "duration": 17,
    "start_time": "2023-04-19T14:48:38.209Z"
   },
   {
    "duration": 124,
    "start_time": "2023-04-19T14:51:54.092Z"
   },
   {
    "duration": 21,
    "start_time": "2023-04-19T14:51:55.969Z"
   },
   {
    "duration": 15,
    "start_time": "2023-04-19T14:52:05.953Z"
   },
   {
    "duration": 413,
    "start_time": "2023-04-19T14:52:26.436Z"
   },
   {
    "duration": 10,
    "start_time": "2023-04-19T14:52:28.058Z"
   },
   {
    "duration": 62,
    "start_time": "2023-04-19T14:52:31.004Z"
   },
   {
    "duration": 15,
    "start_time": "2023-04-19T14:52:54.147Z"
   },
   {
    "duration": 26,
    "start_time": "2023-04-19T14:53:01.908Z"
   },
   {
    "duration": 22,
    "start_time": "2023-04-19T14:53:02.417Z"
   },
   {
    "duration": 108,
    "start_time": "2023-04-19T14:54:07.722Z"
   },
   {
    "duration": 10,
    "start_time": "2023-04-19T14:54:08.725Z"
   },
   {
    "duration": 38,
    "start_time": "2023-04-19T14:54:21.569Z"
   },
   {
    "duration": 43,
    "start_time": "2023-04-19T14:54:24.745Z"
   },
   {
    "duration": 44,
    "start_time": "2023-04-19T14:55:02.259Z"
   },
   {
    "duration": 12,
    "start_time": "2023-04-19T14:55:11.825Z"
   },
   {
    "duration": 31,
    "start_time": "2023-04-19T14:55:26.322Z"
   },
   {
    "duration": 41,
    "start_time": "2023-04-19T14:55:50.146Z"
   },
   {
    "duration": 36,
    "start_time": "2023-04-19T15:01:03.496Z"
   },
   {
    "duration": 31,
    "start_time": "2023-04-19T15:01:10.130Z"
   },
   {
    "duration": 29,
    "start_time": "2023-04-19T15:01:24.004Z"
   },
   {
    "duration": 170,
    "start_time": "2023-04-19T15:03:03.355Z"
   },
   {
    "duration": 5,
    "start_time": "2023-04-19T15:04:10.363Z"
   },
   {
    "duration": 467,
    "start_time": "2023-04-20T11:15:08.655Z"
   },
   {
    "duration": 825,
    "start_time": "2023-04-20T11:15:11.004Z"
   },
   {
    "duration": 2746,
    "start_time": "2023-04-20T11:15:17.406Z"
   },
   {
    "duration": 5112,
    "start_time": "2023-04-20T11:15:20.155Z"
   },
   {
    "duration": 78,
    "start_time": "2023-04-20T11:15:26.463Z"
   },
   {
    "duration": 12,
    "start_time": "2023-04-20T11:15:34.871Z"
   },
   {
    "duration": 7,
    "start_time": "2023-04-20T11:15:42.807Z"
   },
   {
    "duration": 8,
    "start_time": "2023-04-20T11:15:44.351Z"
   },
   {
    "duration": 3,
    "start_time": "2023-04-20T11:15:56.414Z"
   },
   {
    "duration": 4,
    "start_time": "2023-04-20T11:15:58.085Z"
   },
   {
    "duration": 336,
    "start_time": "2023-04-20T11:16:05.319Z"
   },
   {
    "duration": 13,
    "start_time": "2023-04-20T11:16:07.101Z"
   },
   {
    "duration": 509,
    "start_time": "2023-04-20T11:16:40.995Z"
   },
   {
    "duration": 40,
    "start_time": "2023-04-20T11:16:54.603Z"
   },
   {
    "duration": 20,
    "start_time": "2023-04-20T11:16:55.727Z"
   },
   {
    "duration": 128,
    "start_time": "2023-04-20T11:16:59.630Z"
   },
   {
    "duration": 42,
    "start_time": "2023-04-20T11:17:00.611Z"
   },
   {
    "duration": 9,
    "start_time": "2023-04-20T11:17:27.712Z"
   },
   {
    "duration": 13,
    "start_time": "2023-04-20T11:17:36.503Z"
   },
   {
    "duration": 81,
    "start_time": "2023-04-20T11:18:52.831Z"
   },
   {
    "duration": 74,
    "start_time": "2023-04-20T11:18:59.459Z"
   },
   {
    "duration": 15,
    "start_time": "2023-04-20T11:23:23.424Z"
   },
   {
    "duration": 63,
    "start_time": "2023-04-20T11:24:07.745Z"
   },
   {
    "duration": 131,
    "start_time": "2023-04-20T11:24:11.537Z"
   },
   {
    "duration": 2286,
    "start_time": "2023-04-20T11:25:42.477Z"
   },
   {
    "duration": 63,
    "start_time": "2023-04-20T11:26:04.494Z"
   },
   {
    "duration": 125,
    "start_time": "2023-04-20T11:26:05.390Z"
   },
   {
    "duration": 69,
    "start_time": "2023-04-20T11:26:29.691Z"
   },
   {
    "duration": 15,
    "start_time": "2023-04-20T11:26:43.161Z"
   },
   {
    "duration": 4,
    "start_time": "2023-04-20T11:26:57.298Z"
   },
   {
    "duration": 4,
    "start_time": "2023-04-20T11:26:57.697Z"
   },
   {
    "duration": 2428,
    "start_time": "2023-04-20T11:27:00.344Z"
   },
   {
    "duration": 4152,
    "start_time": "2023-04-20T11:27:07.609Z"
   },
   {
    "duration": 11,
    "start_time": "2023-04-20T11:27:11.763Z"
   },
   {
    "duration": 8,
    "start_time": "2023-04-20T11:27:13.891Z"
   },
   {
    "duration": 4,
    "start_time": "2023-04-20T11:27:14.910Z"
   },
   {
    "duration": 7,
    "start_time": "2023-04-20T11:27:15.787Z"
   },
   {
    "duration": 2008,
    "start_time": "2023-04-20T11:27:19.809Z"
   },
   {
    "duration": 11,
    "start_time": "2023-04-20T11:27:25.130Z"
   },
   {
    "duration": 7,
    "start_time": "2023-04-20T11:27:27.537Z"
   },
   {
    "duration": 7,
    "start_time": "2023-04-20T11:27:34.033Z"
   },
   {
    "duration": 6,
    "start_time": "2023-04-20T11:27:35.305Z"
   },
   {
    "duration": 4,
    "start_time": "2023-04-20T11:27:37.201Z"
   },
   {
    "duration": 5,
    "start_time": "2023-04-20T11:27:38.291Z"
   },
   {
    "duration": 460,
    "start_time": "2023-04-20T11:27:38.653Z"
   },
   {
    "duration": 12,
    "start_time": "2023-04-20T11:27:40.122Z"
   },
   {
    "duration": 73,
    "start_time": "2023-04-20T11:27:42.993Z"
   },
   {
    "duration": 3,
    "start_time": "2023-04-20T11:28:59.546Z"
   },
   {
    "duration": 74,
    "start_time": "2023-04-20T11:28:59.650Z"
   },
   {
    "duration": 915,
    "start_time": "2023-04-20T11:29:04.130Z"
   },
   {
    "duration": 26,
    "start_time": "2023-04-20T11:29:21.354Z"
   },
   {
    "duration": 21,
    "start_time": "2023-04-20T11:29:53.298Z"
   },
   {
    "duration": 1535,
    "start_time": "2023-04-20T11:30:01.506Z"
   },
   {
    "duration": 442,
    "start_time": "2023-04-20T11:30:43.213Z"
   },
   {
    "duration": 13,
    "start_time": "2023-04-20T11:30:44.402Z"
   },
   {
    "duration": 72,
    "start_time": "2023-04-20T11:30:45.985Z"
   },
   {
    "duration": 26,
    "start_time": "2023-04-20T11:30:47.754Z"
   },
   {
    "duration": 20,
    "start_time": "2023-04-20T11:30:49.200Z"
   },
   {
    "duration": 150,
    "start_time": "2023-04-20T11:30:52.993Z"
   },
   {
    "duration": 3,
    "start_time": "2023-04-20T11:30:55.954Z"
   },
   {
    "duration": 13,
    "start_time": "2023-04-20T11:30:56.571Z"
   },
   {
    "duration": 176,
    "start_time": "2023-04-20T11:30:59.730Z"
   },
   {
    "duration": 6,
    "start_time": "2023-04-20T11:31:04.087Z"
   },
   {
    "duration": 16,
    "start_time": "2023-04-20T11:31:26.490Z"
   },
   {
    "duration": 49,
    "start_time": "2023-04-20T11:31:42.057Z"
   },
   {
    "duration": 122,
    "start_time": "2023-04-20T11:31:43.058Z"
   },
   {
    "duration": 17,
    "start_time": "2023-04-20T11:32:00.218Z"
   },
   {
    "duration": 25,
    "start_time": "2023-04-20T11:33:52.906Z"
   },
   {
    "duration": 95,
    "start_time": "2023-04-20T11:33:53.714Z"
   },
   {
    "duration": 14,
    "start_time": "2023-04-20T11:33:56.436Z"
   },
   {
    "duration": 506,
    "start_time": "2023-04-25T13:17:30.167Z"
   },
   {
    "duration": 1020,
    "start_time": "2023-04-25T13:17:31.235Z"
   },
   {
    "duration": 2666,
    "start_time": "2023-04-25T13:17:32.703Z"
   },
   {
    "duration": 5809,
    "start_time": "2023-04-25T13:17:35.373Z"
   },
   {
    "duration": 105,
    "start_time": "2023-04-25T13:17:41.185Z"
   },
   {
    "duration": 10,
    "start_time": "2023-04-25T13:17:42.811Z"
   },
   {
    "duration": 2,
    "start_time": "2023-04-25T13:17:43.038Z"
   },
   {
    "duration": 9,
    "start_time": "2023-04-25T13:17:43.414Z"
   },
   {
    "duration": 8,
    "start_time": "2023-04-25T13:17:44.297Z"
   },
   {
    "duration": 4,
    "start_time": "2023-04-25T13:17:45.815Z"
   },
   {
    "duration": 5,
    "start_time": "2023-04-25T13:17:46.844Z"
   },
   {
    "duration": 372,
    "start_time": "2023-04-25T13:17:47.216Z"
   },
   {
    "duration": 13,
    "start_time": "2023-04-25T13:17:48.246Z"
   },
   {
    "duration": 538,
    "start_time": "2023-04-25T13:17:49.220Z"
   },
   {
    "duration": 45,
    "start_time": "2023-04-25T13:17:53.015Z"
   },
   {
    "duration": 24,
    "start_time": "2023-04-25T13:17:54.342Z"
   },
   {
    "duration": 139,
    "start_time": "2023-04-25T13:17:55.859Z"
   },
   {
    "duration": 5,
    "start_time": "2023-04-25T13:17:57.547Z"
   },
   {
    "duration": 16,
    "start_time": "2023-04-25T13:18:24.451Z"
   },
   {
    "duration": 173,
    "start_time": "2023-04-25T13:18:30.436Z"
   },
   {
    "duration": 7,
    "start_time": "2023-04-25T13:18:33.371Z"
   },
   {
    "duration": 15,
    "start_time": "2023-04-25T13:18:48.515Z"
   },
   {
    "duration": 98,
    "start_time": "2023-04-25T13:18:51.795Z"
   },
   {
    "duration": 114,
    "start_time": "2023-04-25T13:18:52.603Z"
   },
   {
    "duration": 15,
    "start_time": "2023-04-25T13:18:53.563Z"
   },
   {
    "duration": 97,
    "start_time": "2023-04-25T13:21:20.715Z"
   },
   {
    "duration": 101,
    "start_time": "2023-04-25T13:23:24.800Z"
   },
   {
    "duration": 101,
    "start_time": "2023-04-25T13:24:23.839Z"
   },
   {
    "duration": 82,
    "start_time": "2023-04-25T13:27:57.290Z"
   },
   {
    "duration": 85,
    "start_time": "2023-04-25T13:28:08.382Z"
   },
   {
    "duration": 190,
    "start_time": "2023-04-25T13:28:38.302Z"
   },
   {
    "duration": 87,
    "start_time": "2023-04-25T13:28:41.990Z"
   },
   {
    "duration": 94,
    "start_time": "2023-04-25T13:28:45.834Z"
   },
   {
    "duration": 11,
    "start_time": "2023-04-25T13:28:49.802Z"
   },
   {
    "duration": 12,
    "start_time": "2023-04-25T13:28:59.894Z"
   },
   {
    "duration": 13,
    "start_time": "2023-04-25T13:29:02.622Z"
   },
   {
    "duration": 488,
    "start_time": "2023-04-25T13:29:31.864Z"
   },
   {
    "duration": 711,
    "start_time": "2023-04-25T13:29:40.360Z"
   },
   {
    "duration": 546,
    "start_time": "2023-04-25T13:29:49.090Z"
   },
   {
    "duration": 86,
    "start_time": "2023-04-25T13:29:54.585Z"
   },
   {
    "duration": 12,
    "start_time": "2023-04-25T13:29:58.809Z"
   },
   {
    "duration": 8,
    "start_time": "2023-04-25T13:30:03.931Z"
   },
   {
    "duration": 5,
    "start_time": "2023-04-25T13:30:16.797Z"
   },
   {
    "duration": 6,
    "start_time": "2023-04-25T13:30:35.945Z"
   },
   {
    "duration": 14,
    "start_time": "2023-04-25T13:30:54.434Z"
   },
   {
    "duration": 7,
    "start_time": "2023-04-25T13:31:05.744Z"
   },
   {
    "duration": 26,
    "start_time": "2023-04-25T13:31:36.454Z"
   },
   {
    "duration": 96,
    "start_time": "2023-04-25T13:32:26.962Z"
   },
   {
    "duration": 443,
    "start_time": "2023-04-25T13:32:45.389Z"
   },
   {
    "duration": 7,
    "start_time": "2023-04-25T13:32:48.105Z"
   },
   {
    "duration": 9,
    "start_time": "2023-04-25T13:32:51.011Z"
   },
   {
    "duration": 275,
    "start_time": "2023-04-25T13:34:22.817Z"
   },
   {
    "duration": 9,
    "start_time": "2023-04-25T13:34:24.064Z"
   },
   {
    "duration": 11,
    "start_time": "2023-04-25T13:35:04.448Z"
   },
   {
    "duration": 11,
    "start_time": "2023-04-25T13:35:22.041Z"
   },
   {
    "duration": 471,
    "start_time": "2023-04-25T13:37:23.025Z"
   },
   {
    "duration": 10,
    "start_time": "2023-04-25T13:37:30.807Z"
   },
   {
    "duration": 9,
    "start_time": "2023-04-25T13:37:45.448Z"
   },
   {
    "duration": 16,
    "start_time": "2023-04-25T13:37:50.856Z"
   },
   {
    "duration": 22,
    "start_time": "2023-04-25T13:40:20.223Z"
   },
   {
    "duration": 4,
    "start_time": "2023-04-25T13:41:02.723Z"
   },
   {
    "duration": 10,
    "start_time": "2023-04-25T13:45:51.321Z"
   },
   {
    "duration": 177,
    "start_time": "2023-04-25T13:46:47.486Z"
   },
   {
    "duration": 2608,
    "start_time": "2023-04-25T13:46:51.487Z"
   },
   {
    "duration": 2,
    "start_time": "2023-04-25T13:49:30.433Z"
   },
   {
    "duration": 10,
    "start_time": "2023-04-25T13:50:25.536Z"
   },
   {
    "duration": 3,
    "start_time": "2023-04-25T13:50:42.507Z"
   },
   {
    "duration": 11,
    "start_time": "2023-04-25T13:50:44.832Z"
   },
   {
    "duration": 11,
    "start_time": "2023-04-25T13:51:28.681Z"
   },
   {
    "duration": 18,
    "start_time": "2023-04-25T13:53:56.789Z"
   },
   {
    "duration": 11,
    "start_time": "2023-04-25T13:54:45.980Z"
   },
   {
    "duration": 4,
    "start_time": "2023-04-25T13:55:02.248Z"
   },
   {
    "duration": 389,
    "start_time": "2023-04-26T06:28:43.346Z"
   },
   {
    "duration": 749,
    "start_time": "2023-04-26T06:28:45.424Z"
   },
   {
    "duration": 2204,
    "start_time": "2023-04-26T06:28:46.846Z"
   },
   {
    "duration": 4445,
    "start_time": "2023-04-26T06:28:49.052Z"
   },
   {
    "duration": 81,
    "start_time": "2023-04-26T06:28:53.499Z"
   },
   {
    "duration": 19,
    "start_time": "2023-04-26T06:28:53.582Z"
   },
   {
    "duration": 2,
    "start_time": "2023-04-26T06:28:53.607Z"
   },
   {
    "duration": 9,
    "start_time": "2023-04-26T06:28:53.610Z"
   },
   {
    "duration": 8,
    "start_time": "2023-04-26T06:29:00.880Z"
   },
   {
    "duration": 9,
    "start_time": "2023-04-26T06:29:01.429Z"
   },
   {
    "duration": 5,
    "start_time": "2023-04-26T06:29:01.663Z"
   },
   {
    "duration": 342,
    "start_time": "2023-04-26T06:29:02.247Z"
   },
   {
    "duration": 10,
    "start_time": "2023-04-26T06:29:03.869Z"
   },
   {
    "duration": 541,
    "start_time": "2023-04-26T06:29:04.912Z"
   },
   {
    "duration": 45,
    "start_time": "2023-04-26T06:29:21.272Z"
   },
   {
    "duration": 23,
    "start_time": "2023-04-26T06:29:22.025Z"
   },
   {
    "duration": 146,
    "start_time": "2023-04-26T06:29:36.368Z"
   },
   {
    "duration": 3,
    "start_time": "2023-04-26T06:29:37.535Z"
   },
   {
    "duration": 24,
    "start_time": "2023-04-26T06:29:42.192Z"
   },
   {
    "duration": 167,
    "start_time": "2023-04-26T06:29:47.596Z"
   },
   {
    "duration": 6,
    "start_time": "2023-04-26T06:29:48.287Z"
   },
   {
    "duration": 76,
    "start_time": "2023-04-26T06:30:22.774Z"
   },
   {
    "duration": 101,
    "start_time": "2023-04-26T06:30:28.074Z"
   },
   {
    "duration": 19,
    "start_time": "2023-04-26T06:30:37.273Z"
   },
   {
    "duration": 318,
    "start_time": "2023-04-26T06:31:24.929Z"
   },
   {
    "duration": 121,
    "start_time": "2023-04-26T06:31:25.983Z"
   },
   {
    "duration": 11,
    "start_time": "2023-04-26T06:31:34.575Z"
   },
   {
    "duration": 6,
    "start_time": "2023-04-26T06:32:18.576Z"
   },
   {
    "duration": 430,
    "start_time": "2023-04-26T06:33:24.688Z"
   },
   {
    "duration": 574,
    "start_time": "2023-04-26T06:33:57.144Z"
   },
   {
    "duration": 19,
    "start_time": "2023-04-26T06:34:10.353Z"
   },
   {
    "duration": 3,
    "start_time": "2023-04-26T06:35:44.970Z"
   },
   {
    "duration": 7,
    "start_time": "2023-04-26T06:35:45.393Z"
   },
   {
    "duration": 3,
    "start_time": "2023-04-26T06:35:47.266Z"
   },
   {
    "duration": 14,
    "start_time": "2023-04-26T06:35:58.994Z"
   },
   {
    "duration": 7,
    "start_time": "2023-04-26T06:38:34.142Z"
   },
   {
    "duration": 16,
    "start_time": "2023-04-26T06:38:49.801Z"
   },
   {
    "duration": 22,
    "start_time": "2023-04-26T06:38:54.561Z"
   },
   {
    "duration": 3,
    "start_time": "2023-04-26T06:39:14.593Z"
   },
   {
    "duration": 7,
    "start_time": "2023-04-26T06:39:16.121Z"
   },
   {
    "duration": 3,
    "start_time": "2023-04-26T06:39:19.577Z"
   },
   {
    "duration": 4,
    "start_time": "2023-04-26T06:39:34.546Z"
   },
   {
    "duration": 12,
    "start_time": "2023-04-26T06:39:36.634Z"
   },
   {
    "duration": 9,
    "start_time": "2023-04-26T06:46:55.595Z"
   },
   {
    "duration": 17,
    "start_time": "2023-04-26T06:46:56.818Z"
   },
   {
    "duration": 6,
    "start_time": "2023-04-26T06:49:19.539Z"
   },
   {
    "duration": 3,
    "start_time": "2023-04-26T06:49:20.186Z"
   },
   {
    "duration": 5,
    "start_time": "2023-04-26T06:49:20.611Z"
   },
   {
    "duration": 13,
    "start_time": "2023-04-26T06:49:21.035Z"
   },
   {
    "duration": 51,
    "start_time": "2023-04-26T06:49:42.587Z"
   },
   {
    "duration": 5,
    "start_time": "2023-04-26T06:49:46.307Z"
   },
   {
    "duration": 4,
    "start_time": "2023-04-26T06:49:47.630Z"
   },
   {
    "duration": 4,
    "start_time": "2023-04-26T06:49:49.243Z"
   },
   {
    "duration": 751,
    "start_time": "2023-04-26T06:49:54.077Z"
   },
   {
    "duration": 117,
    "start_time": "2023-04-26T06:50:18.957Z"
   },
   {
    "duration": 653357,
    "start_time": "2023-04-26T06:50:26.139Z"
   },
   {
    "duration": 12,
    "start_time": "2023-04-26T07:07:31.621Z"
   },
   {
    "duration": 7,
    "start_time": "2023-04-26T07:13:39.254Z"
   },
   {
    "duration": 3,
    "start_time": "2023-04-26T07:13:39.582Z"
   },
   {
    "duration": 431,
    "start_time": "2023-04-26T07:13:41.646Z"
   },
   {
    "duration": 9,
    "start_time": "2023-04-26T07:32:08.764Z"
   },
   {
    "duration": 4,
    "start_time": "2023-04-26T07:32:25.050Z"
   },
   {
    "duration": 173,
    "start_time": "2023-04-26T07:32:32.857Z"
   },
   {
    "duration": 4,
    "start_time": "2023-04-26T07:32:33.963Z"
   },
   {
    "duration": 2,
    "start_time": "2023-04-26T07:32:55.883Z"
   },
   {
    "duration": 187,
    "start_time": "2023-04-26T07:32:59.395Z"
   },
   {
    "duration": 4,
    "start_time": "2023-04-26T07:33:00.362Z"
   },
   {
    "duration": 33,
    "start_time": "2023-04-26T08:13:40.884Z"
   },
   {
    "duration": 8,
    "start_time": "2023-04-26T08:14:22.243Z"
   },
   {
    "duration": 8,
    "start_time": "2023-04-26T08:14:31.754Z"
   },
   {
    "duration": 9,
    "start_time": "2023-04-26T08:14:42.049Z"
   },
   {
    "duration": 5,
    "start_time": "2023-04-26T08:14:48.986Z"
   },
   {
    "duration": 7,
    "start_time": "2023-04-26T08:14:57.715Z"
   },
   {
    "duration": 5,
    "start_time": "2023-04-26T08:15:50.199Z"
   },
   {
    "duration": 26,
    "start_time": "2023-04-26T08:16:47.027Z"
   },
   {
    "duration": 9,
    "start_time": "2023-04-26T08:17:12.300Z"
   },
   {
    "duration": 8,
    "start_time": "2023-04-26T08:17:36.914Z"
   },
   {
    "duration": 9,
    "start_time": "2023-04-26T08:17:39.738Z"
   },
   {
    "duration": 15,
    "start_time": "2023-04-26T08:17:41.945Z"
   },
   {
    "duration": 5,
    "start_time": "2023-04-26T08:18:22.163Z"
   },
   {
    "duration": 5,
    "start_time": "2023-04-26T08:18:27.258Z"
   },
   {
    "duration": 5,
    "start_time": "2023-04-26T08:18:37.215Z"
   },
   {
    "duration": 6,
    "start_time": "2023-04-26T08:21:57.939Z"
   },
   {
    "duration": 4,
    "start_time": "2023-04-26T08:22:19.011Z"
   },
   {
    "duration": 628,
    "start_time": "2023-04-26T08:23:44.836Z"
   },
   {
    "duration": 187,
    "start_time": "2023-04-26T08:28:57.460Z"
   },
   {
    "duration": 1120,
    "start_time": "2023-04-26T08:29:12.580Z"
   },
   {
    "duration": 221,
    "start_time": "2023-04-26T08:39:54.654Z"
   },
   {
    "duration": 1261,
    "start_time": "2023-04-26T08:40:11.159Z"
   },
   {
    "duration": 355,
    "start_time": "2023-04-26T08:40:33.151Z"
   },
   {
    "duration": 2062,
    "start_time": "2023-04-26T08:40:38.713Z"
   },
   {
    "duration": 147,
    "start_time": "2023-04-26T08:41:18.209Z"
   },
   {
    "duration": 1000,
    "start_time": "2023-04-26T08:41:20.631Z"
   },
   {
    "duration": 148,
    "start_time": "2023-04-26T08:42:32.727Z"
   },
   {
    "duration": 1421,
    "start_time": "2023-04-26T08:42:35.507Z"
   },
   {
    "duration": 1112,
    "start_time": "2023-04-26T08:42:41.521Z"
   },
   {
    "duration": 334,
    "start_time": "2023-04-26T08:43:11.647Z"
   },
   {
    "duration": 2157,
    "start_time": "2023-04-26T08:43:14.960Z"
   },
   {
    "duration": 407,
    "start_time": "2023-04-26T08:43:42.419Z"
   },
   {
    "duration": 2343,
    "start_time": "2023-04-26T08:43:46.759Z"
   },
   {
    "duration": 162,
    "start_time": "2023-04-26T08:44:15.528Z"
   },
   {
    "duration": 1169,
    "start_time": "2023-04-26T08:44:17.463Z"
   },
   {
    "duration": 110,
    "start_time": "2023-04-26T08:50:50.989Z"
   },
   {
    "duration": 1113,
    "start_time": "2023-04-26T08:50:53.224Z"
   },
   {
    "duration": 1132,
    "start_time": "2023-04-26T08:51:00.502Z"
   },
   {
    "duration": 2620,
    "start_time": "2023-04-26T08:51:41.841Z"
   },
   {
    "duration": 4505,
    "start_time": "2023-04-26T08:51:44.463Z"
   },
   {
    "duration": 11,
    "start_time": "2023-04-26T08:52:06.344Z"
   },
   {
    "duration": 10,
    "start_time": "2023-04-26T08:52:07.321Z"
   },
   {
    "duration": 3,
    "start_time": "2023-04-26T08:52:07.721Z"
   },
   {
    "duration": 7,
    "start_time": "2023-04-26T08:52:08.177Z"
   },
   {
    "duration": 5,
    "start_time": "2023-04-26T08:52:11.265Z"
   },
   {
    "duration": 3,
    "start_time": "2023-04-26T08:52:11.968Z"
   },
   {
    "duration": 5,
    "start_time": "2023-04-26T08:52:13.560Z"
   },
   {
    "duration": 35,
    "start_time": "2023-04-26T08:52:13.822Z"
   },
   {
    "duration": 17,
    "start_time": "2023-04-26T08:52:15.021Z"
   },
   {
    "duration": 16,
    "start_time": "2023-04-26T08:52:15.233Z"
   },
   {
    "duration": 11,
    "start_time": "2023-04-26T08:52:18.449Z"
   },
   {
    "duration": 7,
    "start_time": "2023-04-26T08:52:19.282Z"
   },
   {
    "duration": 10,
    "start_time": "2023-04-26T08:52:24.027Z"
   },
   {
    "duration": 3,
    "start_time": "2023-04-26T08:52:25.840Z"
   },
   {
    "duration": 17,
    "start_time": "2023-04-26T08:52:26.216Z"
   },
   {
    "duration": 12,
    "start_time": "2023-04-26T08:52:27.657Z"
   },
   {
    "duration": 10,
    "start_time": "2023-04-26T08:52:28.209Z"
   },
   {
    "duration": 5,
    "start_time": "2023-04-26T08:52:42.813Z"
   },
   {
    "duration": 8,
    "start_time": "2023-04-26T08:52:43.030Z"
   },
   {
    "duration": 14,
    "start_time": "2023-04-26T08:52:43.369Z"
   },
   {
    "duration": 14,
    "start_time": "2023-04-26T08:52:44.740Z"
   },
   {
    "duration": 124,
    "start_time": "2023-04-26T08:52:45.311Z"
   },
   {
    "duration": 14,
    "start_time": "2023-04-26T08:52:47.014Z"
   },
   {
    "duration": 7,
    "start_time": "2023-04-26T08:52:54.797Z"
   },
   {
    "duration": 108,
    "start_time": "2023-04-26T08:52:56.368Z"
   },
   {
    "duration": 14,
    "start_time": "2023-04-26T08:52:56.628Z"
   },
   {
    "duration": 16,
    "start_time": "2023-04-26T08:53:07.495Z"
   },
   {
    "duration": 8,
    "start_time": "2023-04-26T08:53:20.921Z"
   },
   {
    "duration": 4,
    "start_time": "2023-04-26T08:54:03.882Z"
   },
   {
    "duration": 2,
    "start_time": "2023-04-26T08:54:05.872Z"
   },
   {
    "duration": 5,
    "start_time": "2023-04-26T08:54:07.640Z"
   },
   {
    "duration": 17,
    "start_time": "2023-04-26T08:54:08.849Z"
   },
   {
    "duration": 13,
    "start_time": "2023-04-26T08:54:14.930Z"
   },
   {
    "duration": 7,
    "start_time": "2023-04-26T08:54:16.807Z"
   },
   {
    "duration": 6,
    "start_time": "2023-04-26T08:54:17.420Z"
   },
   {
    "duration": 3,
    "start_time": "2023-04-26T08:54:18.577Z"
   },
   {
    "duration": 908,
    "start_time": "2023-04-26T08:54:18.923Z"
   },
   {
    "duration": 844,
    "start_time": "2023-04-26T08:54:30.529Z"
   },
   {
    "duration": 4,
    "start_time": "2023-04-26T08:55:46.432Z"
   },
   {
    "duration": 5,
    "start_time": "2023-04-26T08:55:58.822Z"
   },
   {
    "duration": 10,
    "start_time": "2023-04-26T08:55:59.219Z"
   },
   {
    "duration": 18,
    "start_time": "2023-04-26T08:56:03.933Z"
   },
   {
    "duration": 14,
    "start_time": "2023-04-26T08:56:56.819Z"
   },
   {
    "duration": 20,
    "start_time": "2023-04-26T08:57:45.902Z"
   },
   {
    "duration": 4,
    "start_time": "2023-04-26T08:57:54.721Z"
   },
   {
    "duration": 7,
    "start_time": "2023-04-26T08:57:56.139Z"
   },
   {
    "duration": 5,
    "start_time": "2023-04-26T08:58:19.761Z"
   },
   {
    "duration": 10,
    "start_time": "2023-04-26T08:58:22.250Z"
   },
   {
    "duration": 19,
    "start_time": "2023-04-26T08:58:22.613Z"
   },
   {
    "duration": 66,
    "start_time": "2023-04-26T08:58:28.649Z"
   },
   {
    "duration": 4,
    "start_time": "2023-04-26T08:58:39.049Z"
   },
   {
    "duration": 5,
    "start_time": "2023-04-26T08:58:39.990Z"
   },
   {
    "duration": 4,
    "start_time": "2023-04-26T08:58:40.234Z"
   },
   {
    "duration": 695,
    "start_time": "2023-04-26T08:58:40.569Z"
   },
   {
    "duration": 15,
    "start_time": "2023-04-26T08:58:47.339Z"
   },
   {
    "duration": 58,
    "start_time": "2023-04-26T08:58:51.033Z"
   },
   {
    "duration": 6,
    "start_time": "2023-04-26T09:01:12.611Z"
   },
   {
    "duration": 8,
    "start_time": "2023-04-26T09:01:15.223Z"
   },
   {
    "duration": 898,
    "start_time": "2023-04-26T09:01:15.958Z"
   },
   {
    "duration": 4,
    "start_time": "2023-04-26T09:01:26.314Z"
   },
   {
    "duration": 4,
    "start_time": "2023-04-26T09:01:32.415Z"
   },
   {
    "duration": 857,
    "start_time": "2023-04-26T09:01:50.158Z"
   },
   {
    "duration": 760,
    "start_time": "2023-04-26T09:02:00.243Z"
   },
   {
    "duration": 35,
    "start_time": "2023-04-26T09:02:14.863Z"
   },
   {
    "duration": 806838,
    "start_time": "2023-04-26T09:02:20.219Z"
   },
   {
    "duration": 13,
    "start_time": "2023-04-26T09:16:18.631Z"
   },
   {
    "duration": 6,
    "start_time": "2023-04-26T09:16:27.333Z"
   },
   {
    "duration": 2,
    "start_time": "2023-04-26T09:16:28.381Z"
   },
   {
    "duration": 279,
    "start_time": "2023-04-26T09:16:28.572Z"
   },
   {
    "duration": 12,
    "start_time": "2023-04-26T09:16:30.614Z"
   },
   {
    "duration": 5,
    "start_time": "2023-04-26T09:16:50.542Z"
   },
   {
    "duration": 24,
    "start_time": "2023-04-26T09:16:55.819Z"
   },
   {
    "duration": 4,
    "start_time": "2023-04-26T09:16:56.719Z"
   },
   {
    "duration": 14,
    "start_time": "2023-04-26T09:17:00.215Z"
   },
   {
    "duration": 20,
    "start_time": "2023-04-26T09:17:00.445Z"
   },
   {
    "duration": 4,
    "start_time": "2023-04-26T09:17:00.921Z"
   },
   {
    "duration": 26,
    "start_time": "2023-04-26T09:17:07.417Z"
   },
   {
    "duration": 2,
    "start_time": "2023-04-26T09:17:31.432Z"
   },
   {
    "duration": 6,
    "start_time": "2023-04-26T09:18:03.216Z"
   },
   {
    "duration": 7,
    "start_time": "2023-04-26T09:18:07.477Z"
   },
   {
    "duration": 4,
    "start_time": "2023-04-26T09:18:08.549Z"
   },
   {
    "duration": 4,
    "start_time": "2023-04-26T09:18:09.357Z"
   },
   {
    "duration": 413,
    "start_time": "2023-04-26T09:18:28.321Z"
   },
   {
    "duration": 33,
    "start_time": "2023-04-26T09:20:31.800Z"
   },
   {
    "duration": 326,
    "start_time": "2023-04-26T09:20:39.078Z"
   },
   {
    "duration": 119,
    "start_time": "2023-04-26T09:21:14.415Z"
   },
   {
    "duration": 168,
    "start_time": "2023-04-26T09:21:55.847Z"
   },
   {
    "duration": 3,
    "start_time": "2023-04-26T09:24:17.678Z"
   },
   {
    "duration": 59,
    "start_time": "2023-04-26T09:24:19.809Z"
   },
   {
    "duration": 15,
    "start_time": "2023-04-26T09:25:02.308Z"
   },
   {
    "duration": 17,
    "start_time": "2023-04-26T09:25:19.055Z"
   },
   {
    "duration": 6,
    "start_time": "2023-04-26T09:25:19.504Z"
   },
   {
    "duration": 63,
    "start_time": "2023-04-26T09:25:32.847Z"
   },
   {
    "duration": 73,
    "start_time": "2023-04-26T09:25:36.231Z"
   },
   {
    "duration": 20,
    "start_time": "2023-04-26T09:28:57.613Z"
   },
   {
    "duration": 17,
    "start_time": "2023-04-26T09:29:03.232Z"
   },
   {
    "duration": 17,
    "start_time": "2023-04-26T09:29:41.743Z"
   },
   {
    "duration": 18,
    "start_time": "2023-04-26T09:29:43.607Z"
   },
   {
    "duration": 22,
    "start_time": "2023-04-26T09:30:15.512Z"
   },
   {
    "duration": 17,
    "start_time": "2023-04-26T09:30:21.776Z"
   },
   {
    "duration": 47,
    "start_time": "2023-04-26T09:30:40.394Z"
   },
   {
    "duration": 788,
    "start_time": "2023-04-26T09:30:46.009Z"
   },
   {
    "duration": 13,
    "start_time": "2023-04-26T09:31:09.128Z"
   },
   {
    "duration": 15,
    "start_time": "2023-04-26T09:31:39.985Z"
   },
   {
    "duration": 20,
    "start_time": "2023-04-26T09:32:33.208Z"
   },
   {
    "duration": 65,
    "start_time": "2023-04-26T09:41:38.484Z"
   },
   {
    "duration": 4,
    "start_time": "2023-04-26T09:41:43.530Z"
   },
   {
    "duration": 273,
    "start_time": "2023-04-26T09:42:01.086Z"
   },
   {
    "duration": 17,
    "start_time": "2023-04-26T09:42:17.707Z"
   },
   {
    "duration": 3,
    "start_time": "2023-04-26T09:44:04.870Z"
   },
   {
    "duration": 264,
    "start_time": "2023-04-26T09:44:34.075Z"
   },
   {
    "duration": 5,
    "start_time": "2023-04-26T09:45:45.519Z"
   },
   {
    "duration": 267,
    "start_time": "2023-04-26T09:45:50.119Z"
   },
   {
    "duration": 3,
    "start_time": "2023-04-26T09:47:19.155Z"
   },
   {
    "duration": 277,
    "start_time": "2023-04-26T09:47:22.283Z"
   },
   {
    "duration": 4,
    "start_time": "2023-04-26T09:48:03.416Z"
   },
   {
    "duration": 249,
    "start_time": "2023-04-26T09:48:06.060Z"
   },
   {
    "duration": 2,
    "start_time": "2023-04-26T09:48:53.212Z"
   },
   {
    "duration": 4,
    "start_time": "2023-04-26T09:49:25.674Z"
   },
   {
    "duration": 30,
    "start_time": "2023-04-26T09:49:27.311Z"
   },
   {
    "duration": 5,
    "start_time": "2023-04-26T09:50:10.075Z"
   },
   {
    "duration": 25,
    "start_time": "2023-04-26T09:50:31.694Z"
   },
   {
    "duration": 18,
    "start_time": "2023-04-26T09:53:01.749Z"
   },
   {
    "duration": 4,
    "start_time": "2023-04-26T09:53:25.147Z"
   },
   {
    "duration": 3,
    "start_time": "2023-04-26T09:53:25.379Z"
   },
   {
    "duration": 23,
    "start_time": "2023-04-26T09:53:25.797Z"
   },
   {
    "duration": 4,
    "start_time": "2023-04-26T09:53:26.810Z"
   },
   {
    "duration": 3,
    "start_time": "2023-04-26T09:53:27.876Z"
   },
   {
    "duration": 18,
    "start_time": "2023-04-26T09:53:28.221Z"
   },
   {
    "duration": 4,
    "start_time": "2023-04-26T09:53:32.474Z"
   },
   {
    "duration": 2,
    "start_time": "2023-04-26T09:53:35.660Z"
   },
   {
    "duration": 3,
    "start_time": "2023-04-26T09:53:39.180Z"
   },
   {
    "duration": 7,
    "start_time": "2023-04-26T09:53:40.123Z"
   },
   {
    "duration": 6,
    "start_time": "2023-04-26T09:53:40.379Z"
   },
   {
    "duration": 4,
    "start_time": "2023-04-26T09:53:42.052Z"
   },
   {
    "duration": 34,
    "start_time": "2023-04-26T09:53:48.020Z"
   },
   {
    "duration": 3,
    "start_time": "2023-04-26T09:53:50.612Z"
   },
   {
    "duration": 64,
    "start_time": "2023-04-26T09:54:02.051Z"
   },
   {
    "duration": 693,
    "start_time": "2023-04-26T09:54:21.908Z"
   },
   {
    "duration": 4,
    "start_time": "2023-04-26T09:56:32.220Z"
   },
   {
    "duration": 30,
    "start_time": "2023-04-26T09:56:33.518Z"
   },
   {
    "duration": 3,
    "start_time": "2023-04-26T09:56:47.556Z"
   },
   {
    "duration": 3,
    "start_time": "2023-04-26T09:56:47.817Z"
   },
   {
    "duration": 8,
    "start_time": "2023-04-26T09:56:49.118Z"
   },
   {
    "duration": 3,
    "start_time": "2023-04-26T09:56:49.320Z"
   },
   {
    "duration": 4,
    "start_time": "2023-04-26T09:56:49.516Z"
   },
   {
    "duration": 16,
    "start_time": "2023-04-26T09:56:49.652Z"
   },
   {
    "duration": 4,
    "start_time": "2023-04-26T09:56:49.836Z"
   },
   {
    "duration": 2,
    "start_time": "2023-04-26T09:56:50.036Z"
   },
   {
    "duration": 17,
    "start_time": "2023-04-26T09:56:50.955Z"
   },
   {
    "duration": 5,
    "start_time": "2023-04-26T09:56:51.218Z"
   },
   {
    "duration": 3,
    "start_time": "2023-04-26T09:56:51.627Z"
   },
   {
    "duration": 7,
    "start_time": "2023-04-26T09:56:51.914Z"
   },
   {
    "duration": 9,
    "start_time": "2023-04-26T09:56:52.117Z"
   },
   {
    "duration": 10,
    "start_time": "2023-04-26T09:56:52.313Z"
   },
   {
    "duration": 4,
    "start_time": "2023-04-26T09:56:52.468Z"
   },
   {
    "duration": 18,
    "start_time": "2023-04-26T09:57:06.556Z"
   },
   {
    "duration": 2,
    "start_time": "2023-04-26T09:57:07.468Z"
   },
   {
    "duration": 67,
    "start_time": "2023-04-26T09:57:08.644Z"
   },
   {
    "duration": 147,
    "start_time": "2023-04-26T09:57:36.466Z"
   },
   {
    "duration": 4,
    "start_time": "2023-04-26T10:10:55.256Z"
   },
   {
    "duration": 4,
    "start_time": "2023-04-26T10:10:57.567Z"
   },
   {
    "duration": 2348,
    "start_time": "2023-04-26T10:10:58.870Z"
   },
   {
    "duration": 4781,
    "start_time": "2023-04-26T10:11:01.220Z"
   },
   {
    "duration": 10,
    "start_time": "2023-04-26T10:11:10.566Z"
   },
   {
    "duration": 14,
    "start_time": "2023-04-26T10:11:13.497Z"
   },
   {
    "duration": 7,
    "start_time": "2023-04-26T10:11:22.618Z"
   },
   {
    "duration": 5,
    "start_time": "2023-04-26T10:11:23.871Z"
   },
   {
    "duration": 3,
    "start_time": "2023-04-26T10:11:36.818Z"
   },
   {
    "duration": 5,
    "start_time": "2023-04-26T10:11:37.223Z"
   },
   {
    "duration": 463,
    "start_time": "2023-04-26T10:11:41.619Z"
   },
   {
    "duration": 13,
    "start_time": "2023-04-26T10:11:43.517Z"
   },
   {
    "duration": 70,
    "start_time": "2023-04-26T10:11:45.219Z"
   },
   {
    "duration": 32,
    "start_time": "2023-04-26T10:11:47.070Z"
   },
   {
    "duration": 20,
    "start_time": "2023-04-26T10:11:48.062Z"
   },
   {
    "duration": 151,
    "start_time": "2023-04-26T10:11:49.784Z"
   },
   {
    "duration": 4,
    "start_time": "2023-04-26T10:11:52.415Z"
   },
   {
    "duration": 12,
    "start_time": "2023-04-26T10:11:53.062Z"
   },
   {
    "duration": 193,
    "start_time": "2023-04-26T10:11:55.751Z"
   },
   {
    "duration": 7,
    "start_time": "2023-04-26T10:11:56.918Z"
   },
   {
    "duration": 22,
    "start_time": "2023-04-26T10:11:57.613Z"
   },
   {
    "duration": 30,
    "start_time": "2023-04-26T10:11:57.846Z"
   },
   {
    "duration": 106,
    "start_time": "2023-04-26T10:11:58.775Z"
   },
   {
    "duration": 21,
    "start_time": "2023-04-26T10:11:59.018Z"
   },
   {
    "duration": 330,
    "start_time": "2023-04-26T10:11:59.936Z"
   },
   {
    "duration": 9,
    "start_time": "2023-04-26T10:12:00.268Z"
   },
   {
    "duration": 5,
    "start_time": "2023-04-26T10:12:02.035Z"
   },
   {
    "duration": 460,
    "start_time": "2023-04-26T10:12:03.366Z"
   },
   {
    "duration": 11,
    "start_time": "2023-04-26T10:12:03.828Z"
   },
   {
    "duration": 17,
    "start_time": "2023-04-26T10:12:07.890Z"
   },
   {
    "duration": 3,
    "start_time": "2023-04-26T10:12:10.312Z"
   },
   {
    "duration": 17,
    "start_time": "2023-04-26T10:12:10.519Z"
   },
   {
    "duration": 12,
    "start_time": "2023-04-26T10:13:55.010Z"
   },
   {
    "duration": 6,
    "start_time": "2023-04-26T10:13:55.614Z"
   },
   {
    "duration": 62,
    "start_time": "2023-04-26T10:13:59.887Z"
   },
   {
    "duration": 16,
    "start_time": "2023-04-26T10:14:01.583Z"
   },
   {
    "duration": 6,
    "start_time": "2023-04-26T10:14:35.336Z"
   },
   {
    "duration": 14,
    "start_time": "2023-04-26T10:14:42.151Z"
   },
   {
    "duration": 2,
    "start_time": "2023-04-26T10:15:10.431Z"
   },
   {
    "duration": 5,
    "start_time": "2023-04-26T10:15:11.423Z"
   },
   {
    "duration": 34,
    "start_time": "2023-04-26T10:15:39.619Z"
   },
   {
    "duration": 3,
    "start_time": "2023-04-26T10:15:40.735Z"
   },
   {
    "duration": 792,
    "start_time": "2023-04-26T10:15:44.367Z"
   },
   {
    "duration": 4,
    "start_time": "2023-04-26T10:15:56.943Z"
   },
   {
    "duration": 684,
    "start_time": "2023-04-26T10:16:08.520Z"
   },
   {
    "duration": 47157,
    "start_time": "2023-04-26T10:16:27.567Z"
   },
   {
    "duration": 4,
    "start_time": "2023-04-26T13:50:17.688Z"
   },
   {
    "duration": 6,
    "start_time": "2023-04-26T13:50:18.446Z"
   },
   {
    "duration": 2686,
    "start_time": "2023-04-26T13:50:22.099Z"
   },
   {
    "duration": 3824,
    "start_time": "2023-04-26T13:50:24.787Z"
   },
   {
    "duration": 14,
    "start_time": "2023-04-26T13:50:30.678Z"
   },
   {
    "duration": 14,
    "start_time": "2023-04-26T13:50:34.784Z"
   },
   {
    "duration": 4,
    "start_time": "2023-04-26T13:50:39.974Z"
   },
   {
    "duration": 7,
    "start_time": "2023-04-26T13:50:40.319Z"
   },
   {
    "duration": 6,
    "start_time": "2023-04-26T13:50:44.811Z"
   },
   {
    "duration": 5,
    "start_time": "2023-04-26T13:50:47.222Z"
   },
   {
    "duration": 4,
    "start_time": "2023-04-26T13:53:17.720Z"
   },
   {
    "duration": 55,
    "start_time": "2023-04-26T13:53:19.676Z"
   },
   {
    "duration": 14,
    "start_time": "2023-04-26T13:53:20.441Z"
   },
   {
    "duration": 12,
    "start_time": "2023-04-26T13:53:20.663Z"
   },
   {
    "duration": 26,
    "start_time": "2023-04-26T13:53:21.887Z"
   },
   {
    "duration": 8,
    "start_time": "2023-04-26T13:53:24.053Z"
   },
   {
    "duration": 11,
    "start_time": "2023-04-26T13:53:24.679Z"
   },
   {
    "duration": 3,
    "start_time": "2023-04-26T13:53:25.113Z"
   },
   {
    "duration": 16,
    "start_time": "2023-04-26T13:53:25.410Z"
   },
   {
    "duration": 21,
    "start_time": "2023-04-26T13:53:27.288Z"
   },
   {
    "duration": 7,
    "start_time": "2023-04-26T13:53:28.360Z"
   },
   {
    "duration": 4,
    "start_time": "2023-04-26T13:53:29.815Z"
   },
   {
    "duration": 11,
    "start_time": "2023-04-26T13:53:29.888Z"
   },
   {
    "duration": 15,
    "start_time": "2023-04-26T13:53:30.263Z"
   },
   {
    "duration": 16,
    "start_time": "2023-04-26T13:53:31.368Z"
   },
   {
    "duration": 97,
    "start_time": "2023-04-26T13:53:31.679Z"
   },
   {
    "duration": 9,
    "start_time": "2023-04-26T13:53:34.018Z"
   },
   {
    "duration": 5,
    "start_time": "2023-04-26T13:53:50.527Z"
   },
   {
    "duration": 121,
    "start_time": "2023-04-26T13:53:51.184Z"
   },
   {
    "duration": 14,
    "start_time": "2023-04-26T13:53:51.440Z"
   },
   {
    "duration": 4,
    "start_time": "2023-04-26T13:53:54.440Z"
   },
   {
    "duration": 2,
    "start_time": "2023-04-26T13:53:54.716Z"
   },
   {
    "duration": 3,
    "start_time": "2023-04-26T13:53:55.088Z"
   },
   {
    "duration": 10,
    "start_time": "2023-04-26T13:53:55.709Z"
   },
   {
    "duration": 2,
    "start_time": "2023-04-26T13:53:57.079Z"
   },
   {
    "duration": 2,
    "start_time": "2023-04-26T13:53:57.384Z"
   },
   {
    "duration": 4,
    "start_time": "2023-04-26T13:53:58.359Z"
   },
   {
    "duration": 460,
    "start_time": "2023-04-27T08:30:56.564Z"
   },
   {
    "duration": 787,
    "start_time": "2023-04-27T08:30:57.215Z"
   },
   {
    "duration": 2589,
    "start_time": "2023-04-27T08:31:01.812Z"
   },
   {
    "duration": 4298,
    "start_time": "2023-04-27T08:31:04.403Z"
   },
   {
    "duration": 74,
    "start_time": "2023-04-27T08:32:17.260Z"
   },
   {
    "duration": 11,
    "start_time": "2023-04-27T08:32:18.491Z"
   },
   {
    "duration": 3,
    "start_time": "2023-04-27T08:32:18.867Z"
   },
   {
    "duration": 6,
    "start_time": "2023-04-27T08:32:19.164Z"
   },
   {
    "duration": 7,
    "start_time": "2023-04-27T08:32:23.851Z"
   },
   {
    "duration": 3,
    "start_time": "2023-04-27T08:32:24.371Z"
   },
   {
    "duration": 4,
    "start_time": "2023-04-27T08:32:24.587Z"
   },
   {
    "duration": 29,
    "start_time": "2023-04-27T08:32:25.499Z"
   },
   {
    "duration": 11,
    "start_time": "2023-04-27T08:32:25.779Z"
   },
   {
    "duration": 451,
    "start_time": "2023-04-27T08:32:27.387Z"
   },
   {
    "duration": 11,
    "start_time": "2023-04-27T08:32:28.116Z"
   },
   {
    "duration": 7,
    "start_time": "2023-04-27T08:32:28.339Z"
   },
   {
    "duration": 10,
    "start_time": "2023-04-27T08:32:29.251Z"
   },
   {
    "duration": 3,
    "start_time": "2023-04-27T08:32:29.524Z"
   },
   {
    "duration": 12,
    "start_time": "2023-04-27T08:32:29.740Z"
   },
   {
    "duration": 18,
    "start_time": "2023-04-27T08:32:30.706Z"
   },
   {
    "duration": 6,
    "start_time": "2023-04-27T08:32:31.091Z"
   },
   {
    "duration": 5,
    "start_time": "2023-04-27T08:32:31.754Z"
   },
   {
    "duration": 61,
    "start_time": "2023-04-27T08:32:32.058Z"
   },
   {
    "duration": 15,
    "start_time": "2023-04-27T08:32:32.556Z"
   },
   {
    "duration": 14,
    "start_time": "2023-04-27T08:32:33.475Z"
   },
   {
    "duration": 97,
    "start_time": "2023-04-27T08:32:33.923Z"
   },
   {
    "duration": 10,
    "start_time": "2023-04-27T08:32:34.900Z"
   },
   {
    "duration": 4,
    "start_time": "2023-04-27T08:32:36.404Z"
   },
   {
    "duration": 200,
    "start_time": "2023-04-27T08:32:37.698Z"
   },
   {
    "duration": 12,
    "start_time": "2023-04-27T08:32:38.019Z"
   },
   {
    "duration": 3,
    "start_time": "2023-04-27T08:33:26.131Z"
   },
   {
    "duration": 3,
    "start_time": "2023-04-27T08:33:26.628Z"
   },
   {
    "duration": 3,
    "start_time": "2023-04-27T08:33:26.835Z"
   },
   {
    "duration": 11,
    "start_time": "2023-04-27T08:33:27.987Z"
   },
   {
    "duration": 3,
    "start_time": "2023-04-27T08:34:01.363Z"
   },
   {
    "duration": 3,
    "start_time": "2023-04-27T08:34:17.188Z"
   },
   {
    "duration": 4,
    "start_time": "2023-04-27T08:34:20.267Z"
   },
   {
    "duration": 7,
    "start_time": "2023-04-27T08:34:21.843Z"
   },
   {
    "duration": 4,
    "start_time": "2023-04-27T08:34:22.236Z"
   },
   {
    "duration": 19,
    "start_time": "2023-04-27T08:34:23.900Z"
   },
   {
    "duration": 14,
    "start_time": "2023-04-27T08:49:57.214Z"
   },
   {
    "duration": 4,
    "start_time": "2023-04-27T08:50:02.719Z"
   },
   {
    "duration": 3,
    "start_time": "2023-04-27T08:50:04.022Z"
   },
   {
    "duration": 729,
    "start_time": "2023-04-27T08:50:12.280Z"
   },
   {
    "duration": 3,
    "start_time": "2023-04-27T08:55:03.839Z"
   },
   {
    "duration": 32,
    "start_time": "2023-04-27T08:55:17.127Z"
   },
   {
    "duration": 714964,
    "start_time": "2023-04-27T08:55:24.106Z"
   },
   {
    "duration": 130,
    "start_time": "2023-04-27T09:47:55.177Z"
   },
   {
    "duration": 704165,
    "start_time": "2023-04-27T09:47:57.568Z"
   },
   {
    "duration": 6,
    "start_time": "2023-04-27T10:00:33.420Z"
   },
   {
    "duration": 12,
    "start_time": "2023-04-27T10:00:36.180Z"
   },
   {
    "duration": 8,
    "start_time": "2023-04-27T10:59:36.605Z"
   },
   {
    "duration": 4,
    "start_time": "2023-04-27T10:59:37.244Z"
   },
   {
    "duration": 432,
    "start_time": "2023-04-27T10:59:40.685Z"
   },
   {
    "duration": 5,
    "start_time": "2023-04-27T10:59:43.117Z"
   },
   {
    "duration": 3,
    "start_time": "2023-04-27T11:00:44.070Z"
   },
   {
    "duration": 2,
    "start_time": "2023-04-27T11:29:50.373Z"
   },
   {
    "duration": 46,
    "start_time": "2023-04-27T11:33:42.964Z"
   },
   {
    "duration": 52,
    "start_time": "2023-04-27T11:33:49.812Z"
   },
   {
    "duration": 3,
    "start_time": "2023-04-27T11:33:59.060Z"
   },
   {
    "duration": 128,
    "start_time": "2023-04-27T11:34:05.835Z"
   },
   {
    "duration": 3,
    "start_time": "2023-04-27T11:35:23.284Z"
   },
   {
    "duration": 21,
    "start_time": "2023-04-27T11:35:24.206Z"
   },
   {
    "duration": 3,
    "start_time": "2023-04-27T11:35:35.884Z"
   },
   {
    "duration": 5,
    "start_time": "2023-04-27T11:35:45.780Z"
   },
   {
    "duration": 8,
    "start_time": "2023-04-27T11:35:52.787Z"
   },
   {
    "duration": 4,
    "start_time": "2023-04-27T11:35:53.203Z"
   },
   {
    "duration": 4,
    "start_time": "2023-04-27T11:35:53.740Z"
   },
   {
    "duration": 2,
    "start_time": "2023-04-27T11:37:10.805Z"
   },
   {
    "duration": 46,
    "start_time": "2023-04-27T11:37:11.940Z"
   },
   {
    "duration": 21,
    "start_time": "2023-04-27T11:37:18.516Z"
   },
   {
    "duration": 3,
    "start_time": "2023-04-27T11:37:20.284Z"
   },
   {
    "duration": 20,
    "start_time": "2023-04-27T11:37:21.876Z"
   },
   {
    "duration": 34,
    "start_time": "2023-04-27T11:37:44.776Z"
   },
   {
    "duration": 23,
    "start_time": "2023-04-27T11:38:01.014Z"
   },
   {
    "duration": 22,
    "start_time": "2023-04-27T11:38:18.020Z"
   },
   {
    "duration": 27,
    "start_time": "2023-04-27T11:38:24.517Z"
   },
   {
    "duration": 25,
    "start_time": "2023-04-27T11:41:19.255Z"
   },
   {
    "duration": 3,
    "start_time": "2023-04-27T12:21:38.305Z"
   },
   {
    "duration": 3,
    "start_time": "2023-04-27T12:26:34.222Z"
   },
   {
    "duration": 3,
    "start_time": "2023-04-27T12:27:01.306Z"
   },
   {
    "duration": 72,
    "start_time": "2023-04-27T12:27:03.061Z"
   },
   {
    "duration": 12,
    "start_time": "2023-04-27T12:27:11.552Z"
   },
   {
    "duration": 3,
    "start_time": "2023-04-27T12:47:27.929Z"
   },
   {
    "duration": 18,
    "start_time": "2023-04-27T12:47:31.429Z"
   },
   {
    "duration": 4,
    "start_time": "2023-04-27T12:47:37.544Z"
   },
   {
    "duration": 42,
    "start_time": "2023-04-27T12:47:38.905Z"
   },
   {
    "duration": 12,
    "start_time": "2023-04-27T12:47:41.657Z"
   },
   {
    "duration": 3,
    "start_time": "2023-04-27T12:48:30.506Z"
   },
   {
    "duration": 13,
    "start_time": "2023-04-27T12:48:32.161Z"
   },
   {
    "duration": 49,
    "start_time": "2023-04-27T12:49:36.602Z"
   },
   {
    "duration": 3,
    "start_time": "2023-04-27T12:49:58.724Z"
   },
   {
    "duration": 276,
    "start_time": "2023-04-27T12:50:00.503Z"
   },
   {
    "duration": 3,
    "start_time": "2023-04-27T12:50:25.922Z"
   },
   {
    "duration": 41,
    "start_time": "2023-04-27T12:50:26.586Z"
   },
   {
    "duration": 12,
    "start_time": "2023-04-27T12:50:28.137Z"
   },
   {
    "duration": 3,
    "start_time": "2023-04-27T12:50:41.280Z"
   },
   {
    "duration": 3,
    "start_time": "2023-04-27T12:50:43.369Z"
   },
   {
    "duration": 14,
    "start_time": "2023-04-27T12:50:45.675Z"
   },
   {
    "duration": 3,
    "start_time": "2023-04-27T12:50:48.478Z"
   },
   {
    "duration": 28,
    "start_time": "2023-04-27T12:50:51.307Z"
   },
   {
    "duration": 25,
    "start_time": "2023-04-27T12:50:52.784Z"
   },
   {
    "duration": 3,
    "start_time": "2023-04-27T12:52:38.307Z"
   },
   {
    "duration": 3,
    "start_time": "2023-04-27T12:52:40.850Z"
   },
   {
    "duration": 11,
    "start_time": "2023-04-27T12:52:42.243Z"
   },
   {
    "duration": 70,
    "start_time": "2023-04-27T12:52:47.282Z"
   },
   {
    "duration": 23,
    "start_time": "2023-04-27T12:52:49.684Z"
   },
   {
    "duration": 3,
    "start_time": "2023-04-27T12:53:43.612Z"
   },
   {
    "duration": 3,
    "start_time": "2023-04-27T12:54:29.705Z"
   },
   {
    "duration": 4,
    "start_time": "2023-04-27T12:55:00.634Z"
   },
   {
    "duration": 21,
    "start_time": "2023-04-27T12:55:05.227Z"
   },
   {
    "duration": 4,
    "start_time": "2023-04-27T12:55:06.634Z"
   },
   {
    "duration": 3,
    "start_time": "2023-04-27T12:55:11.307Z"
   },
   {
    "duration": 4,
    "start_time": "2023-04-27T12:55:11.643Z"
   },
   {
    "duration": 7,
    "start_time": "2023-04-27T12:55:13.009Z"
   },
   {
    "duration": 7,
    "start_time": "2023-04-27T12:55:13.400Z"
   },
   {
    "duration": 4,
    "start_time": "2023-04-27T12:55:14.180Z"
   },
   {
    "duration": 5,
    "start_time": "2023-04-27T12:55:15.598Z"
   },
   {
    "duration": 3,
    "start_time": "2023-04-27T12:55:29.287Z"
   },
   {
    "duration": 19,
    "start_time": "2023-04-27T12:55:32.762Z"
   },
   {
    "duration": 4,
    "start_time": "2023-04-27T12:55:33.805Z"
   },
   {
    "duration": 28,
    "start_time": "2023-04-27T12:55:34.835Z"
   },
   {
    "duration": 6,
    "start_time": "2023-04-27T12:57:52.502Z"
   },
   {
    "duration": 59,
    "start_time": "2023-04-27T12:57:54.523Z"
   },
   {
    "duration": 13,
    "start_time": "2023-04-27T12:57:56.611Z"
   },
   {
    "duration": 6,
    "start_time": "2023-04-27T12:58:08.591Z"
   },
   {
    "duration": 4,
    "start_time": "2023-04-27T12:58:11.101Z"
   },
   {
    "duration": 4,
    "start_time": "2023-04-27T12:58:18.059Z"
   },
   {
    "duration": 16,
    "start_time": "2023-04-27T12:58:19.859Z"
   },
   {
    "duration": 6,
    "start_time": "2023-04-27T12:58:20.808Z"
   },
   {
    "duration": 4,
    "start_time": "2023-04-27T12:58:32.250Z"
   },
   {
    "duration": 3,
    "start_time": "2023-04-27T12:58:49.980Z"
   },
   {
    "duration": 28,
    "start_time": "2023-04-27T12:58:52.409Z"
   },
   {
    "duration": 4,
    "start_time": "2023-04-27T12:59:47.210Z"
   },
   {
    "duration": 14,
    "start_time": "2023-04-27T12:59:49.947Z"
   },
   {
    "duration": 4,
    "start_time": "2023-04-27T12:59:50.207Z"
   },
   {
    "duration": 3,
    "start_time": "2023-04-27T12:59:54.785Z"
   },
   {
    "duration": 19,
    "start_time": "2023-04-27T13:00:14.013Z"
   },
   {
    "duration": 14,
    "start_time": "2023-04-27T13:01:24.444Z"
   },
   {
    "duration": 12,
    "start_time": "2023-04-27T13:02:30.777Z"
   },
   {
    "duration": 18,
    "start_time": "2023-04-27T13:02:35.252Z"
   },
   {
    "duration": 20,
    "start_time": "2023-04-27T13:05:11.705Z"
   },
   {
    "duration": 30,
    "start_time": "2023-04-27T13:05:38.581Z"
   },
   {
    "duration": 4,
    "start_time": "2023-04-27T13:19:47.024Z"
   },
   {
    "duration": 6,
    "start_time": "2023-04-27T13:19:47.609Z"
   },
   {
    "duration": 2332,
    "start_time": "2023-04-27T13:19:51.772Z"
   },
   {
    "duration": 3998,
    "start_time": "2023-04-27T13:19:54.106Z"
   },
   {
    "duration": 11,
    "start_time": "2023-04-27T13:19:58.106Z"
   },
   {
    "duration": 31,
    "start_time": "2023-04-27T13:20:09.912Z"
   },
   {
    "duration": 13,
    "start_time": "2023-04-27T13:20:27.114Z"
   },
   {
    "duration": 55,
    "start_time": "2023-04-27T13:20:57.112Z"
   },
   {
    "duration": 10,
    "start_time": "2023-04-27T13:22:57.368Z"
   },
   {
    "duration": 16,
    "start_time": "2023-04-27T13:26:19.073Z"
   },
   {
    "duration": 54,
    "start_time": "2023-04-27T13:26:25.576Z"
   },
   {
    "duration": 63,
    "start_time": "2023-04-27T13:35:24.242Z"
   },
   {
    "duration": 6,
    "start_time": "2023-04-27T13:36:10.444Z"
   },
   {
    "duration": 3,
    "start_time": "2023-04-27T13:37:00.210Z"
   },
   {
    "duration": 5,
    "start_time": "2023-04-27T13:37:02.938Z"
   },
   {
    "duration": 2,
    "start_time": "2023-04-27T13:37:05.602Z"
   },
   {
    "duration": 1439,
    "start_time": "2023-04-27T13:37:08.921Z"
   },
   {
    "duration": 22,
    "start_time": "2023-04-27T13:37:22.502Z"
   },
   {
    "duration": 4,
    "start_time": "2023-04-27T13:37:53.531Z"
   },
   {
    "duration": 1532,
    "start_time": "2023-04-27T13:38:06.080Z"
   },
   {
    "duration": 22,
    "start_time": "2023-04-27T13:38:11.227Z"
   },
   {
    "duration": 4,
    "start_time": "2023-04-27T13:38:55.399Z"
   },
   {
    "duration": 3,
    "start_time": "2023-04-27T13:38:55.722Z"
   },
   {
    "duration": 1485,
    "start_time": "2023-04-27T13:38:56.590Z"
   },
   {
    "duration": 21,
    "start_time": "2023-04-27T13:38:58.803Z"
   },
   {
    "duration": 6,
    "start_time": "2023-04-27T13:39:04.483Z"
   },
   {
    "duration": 5,
    "start_time": "2023-04-27T13:39:14.922Z"
   },
   {
    "duration": 6,
    "start_time": "2023-04-27T13:39:15.330Z"
   },
   {
    "duration": 4514,
    "start_time": "2023-04-27T13:39:17.206Z"
   },
   {
    "duration": 3903,
    "start_time": "2023-04-27T13:39:21.722Z"
   },
   {
    "duration": 11,
    "start_time": "2023-04-27T13:39:36.041Z"
   },
   {
    "duration": 33,
    "start_time": "2023-04-27T13:39:37.201Z"
   },
   {
    "duration": 22,
    "start_time": "2023-04-27T13:39:40.802Z"
   },
   {
    "duration": 54,
    "start_time": "2023-04-27T13:39:41.049Z"
   },
   {
    "duration": 7,
    "start_time": "2023-04-27T13:39:47.154Z"
   },
   {
    "duration": 3,
    "start_time": "2023-04-27T13:39:49.010Z"
   },
   {
    "duration": 5,
    "start_time": "2023-04-27T13:39:52.762Z"
   },
   {
    "duration": 2,
    "start_time": "2023-04-27T13:39:53.702Z"
   },
   {
    "duration": 1516,
    "start_time": "2023-04-27T13:39:54.723Z"
   },
   {
    "duration": 26,
    "start_time": "2023-04-27T13:39:56.998Z"
   },
   {
    "duration": 6,
    "start_time": "2023-04-27T13:40:00.978Z"
   },
   {
    "duration": 4,
    "start_time": "2023-04-27T13:40:03.514Z"
   },
   {
    "duration": 3,
    "start_time": "2023-04-27T13:40:18.387Z"
   },
   {
    "duration": 4,
    "start_time": "2023-04-27T13:40:18.697Z"
   },
   {
    "duration": 35,
    "start_time": "2023-04-27T13:40:20.923Z"
   },
   {
    "duration": 28,
    "start_time": "2023-04-27T13:42:07.435Z"
   },
   {
    "duration": 12,
    "start_time": "2023-04-27T13:42:09.684Z"
   },
   {
    "duration": 12,
    "start_time": "2023-04-27T13:42:14.130Z"
   },
   {
    "duration": 10,
    "start_time": "2023-04-27T13:42:25.179Z"
   },
   {
    "duration": 6,
    "start_time": "2023-04-27T13:42:30.627Z"
   },
   {
    "duration": 10,
    "start_time": "2023-04-27T13:42:53.538Z"
   },
   {
    "duration": 3,
    "start_time": "2023-04-27T13:42:54.730Z"
   },
   {
    "duration": 11,
    "start_time": "2023-04-27T13:42:58.379Z"
   },
   {
    "duration": 12,
    "start_time": "2023-04-27T13:43:03.930Z"
   },
   {
    "duration": 13,
    "start_time": "2023-04-27T13:43:07.811Z"
   },
   {
    "duration": 6,
    "start_time": "2023-04-27T13:43:11.410Z"
   },
   {
    "duration": 5,
    "start_time": "2023-04-27T13:43:50.501Z"
   },
   {
    "duration": 4,
    "start_time": "2023-04-27T13:44:00.867Z"
   },
   {
    "duration": 6,
    "start_time": "2023-04-27T13:44:02.226Z"
   },
   {
    "duration": 14,
    "start_time": "2023-04-27T13:44:03.243Z"
   },
   {
    "duration": 14,
    "start_time": "2023-04-27T13:44:34.639Z"
   },
   {
    "duration": 12,
    "start_time": "2023-04-27T13:44:54.340Z"
   },
   {
    "duration": 22,
    "start_time": "2023-04-27T13:45:16.779Z"
   },
   {
    "duration": 8,
    "start_time": "2023-04-27T13:46:16.779Z"
   },
   {
    "duration": 14,
    "start_time": "2023-04-27T13:46:20.060Z"
   },
   {
    "duration": 16,
    "start_time": "2023-04-27T13:46:24.539Z"
   },
   {
    "duration": 128,
    "start_time": "2023-04-27T13:47:31.666Z"
   },
   {
    "duration": 9,
    "start_time": "2023-04-27T13:47:32.172Z"
   },
   {
    "duration": 5,
    "start_time": "2023-04-27T13:47:35.515Z"
   },
   {
    "duration": 117,
    "start_time": "2023-04-27T13:47:42.555Z"
   },
   {
    "duration": 11,
    "start_time": "2023-04-27T13:47:44.347Z"
   },
   {
    "duration": 14,
    "start_time": "2023-04-27T13:48:05.868Z"
   },
   {
    "duration": 12,
    "start_time": "2023-04-27T13:48:34.399Z"
   },
   {
    "duration": 480,
    "start_time": "2023-05-31T14:35:19.439Z"
   },
   {
    "duration": 743,
    "start_time": "2023-05-31T14:35:21.055Z"
   },
   {
    "duration": 2126,
    "start_time": "2023-05-31T14:35:26.022Z"
   },
   {
    "duration": 5881,
    "start_time": "2023-05-31T14:35:29.784Z"
   },
   {
    "duration": 85,
    "start_time": "2023-05-31T14:36:00.824Z"
   },
   {
    "duration": 32,
    "start_time": "2023-05-31T14:36:15.141Z"
   },
   {
    "duration": 25,
    "start_time": "2023-05-31T14:36:15.846Z"
   },
   {
    "duration": 55,
    "start_time": "2023-05-31T14:36:17.175Z"
   },
   {
    "duration": 12,
    "start_time": "2023-05-31T14:36:18.487Z"
   },
   {
    "duration": 3,
    "start_time": "2023-05-31T14:36:18.774Z"
   },
   {
    "duration": 5217,
    "start_time": "2023-05-31T14:37:51.311Z"
   },
   {
    "duration": 16,
    "start_time": "2023-05-31T14:38:01.670Z"
   },
   {
    "duration": 466,
    "start_time": "2023-06-19T12:40:00.852Z"
   },
   {
    "duration": 971,
    "start_time": "2023-06-19T12:40:03.411Z"
   },
   {
    "duration": 11,
    "start_time": "2023-06-19T12:43:10.376Z"
   },
   {
    "duration": 4,
    "start_time": "2023-06-19T12:43:11.130Z"
   },
   {
    "duration": 4822,
    "start_time": "2023-06-19T13:11:46.011Z"
   },
   {
    "duration": 24,
    "start_time": "2023-06-19T13:11:54.537Z"
   },
   {
    "duration": 56,
    "start_time": "2023-06-19T13:12:37.091Z"
   },
   {
    "duration": 2999,
    "start_time": "2023-06-19T13:12:56.883Z"
   },
   {
    "duration": 12,
    "start_time": "2023-06-19T13:13:39.686Z"
   },
   {
    "duration": 4904,
    "start_time": "2023-06-19T13:14:21.640Z"
   },
   {
    "duration": 11,
    "start_time": "2023-06-19T13:14:29.986Z"
   },
   {
    "duration": 11,
    "start_time": "2023-06-19T13:14:46.393Z"
   },
   {
    "duration": 21,
    "start_time": "2023-06-19T13:14:47.788Z"
   },
   {
    "duration": 27,
    "start_time": "2023-06-19T13:16:13.660Z"
   },
   {
    "duration": 5,
    "start_time": "2023-06-19T13:16:38.210Z"
   },
   {
    "duration": 5,
    "start_time": "2023-06-19T13:16:44.633Z"
   },
   {
    "duration": 9,
    "start_time": "2023-06-19T13:17:02.283Z"
   },
   {
    "duration": 64,
    "start_time": "2023-06-19T13:17:16.537Z"
   },
   {
    "duration": 10,
    "start_time": "2023-06-19T13:19:17.390Z"
   },
   {
    "duration": 4099,
    "start_time": "2023-06-19T13:19:39.923Z"
   },
   {
    "duration": 16,
    "start_time": "2023-06-19T13:20:24.714Z"
   },
   {
    "duration": 11,
    "start_time": "2023-06-19T13:20:41.579Z"
   },
   {
    "duration": 152,
    "start_time": "2023-06-19T13:21:49.731Z"
   },
   {
    "duration": 20,
    "start_time": "2023-06-19T13:22:26.195Z"
   },
   {
    "duration": 14,
    "start_time": "2023-06-19T13:22:38.923Z"
   },
   {
    "duration": 11,
    "start_time": "2023-06-19T13:22:46.532Z"
   },
   {
    "duration": 24,
    "start_time": "2023-06-19T13:22:49.323Z"
   },
   {
    "duration": 27,
    "start_time": "2023-06-19T13:22:57.956Z"
   },
   {
    "duration": 1117,
    "start_time": "2023-06-19T13:23:49.197Z"
   },
   {
    "duration": 1087,
    "start_time": "2023-06-19T13:23:53.770Z"
   },
   {
    "duration": 1086,
    "start_time": "2023-06-19T13:24:04.895Z"
   },
   {
    "duration": 1059,
    "start_time": "2023-06-19T13:24:11.847Z"
   },
   {
    "duration": 1194,
    "start_time": "2023-06-19T13:24:15.794Z"
   },
   {
    "duration": 11,
    "start_time": "2023-06-19T13:26:32.151Z"
   },
   {
    "duration": 14,
    "start_time": "2023-06-19T13:26:43.568Z"
   },
   {
    "duration": 11,
    "start_time": "2023-06-19T13:26:47.839Z"
   },
   {
    "duration": 50,
    "start_time": "2023-06-19T13:29:28.886Z"
   },
   {
    "duration": 6,
    "start_time": "2023-06-19T13:29:44.456Z"
   },
   {
    "duration": 16,
    "start_time": "2023-06-19T13:30:19.530Z"
   },
   {
    "duration": 8,
    "start_time": "2023-06-19T13:30:32.685Z"
   },
   {
    "duration": 3,
    "start_time": "2023-06-19T13:32:27.988Z"
   },
   {
    "duration": 11,
    "start_time": "2023-06-19T13:32:41.758Z"
   },
   {
    "duration": 9,
    "start_time": "2023-06-19T13:33:30.784Z"
   },
   {
    "duration": 12,
    "start_time": "2023-06-19T13:33:38.583Z"
   },
   {
    "duration": 4275,
    "start_time": "2023-06-19T13:33:49.288Z"
   },
   {
    "duration": 30,
    "start_time": "2023-06-19T13:33:56.414Z"
   },
   {
    "duration": 10,
    "start_time": "2023-06-19T13:33:57.484Z"
   },
   {
    "duration": 6,
    "start_time": "2023-06-19T13:33:58.697Z"
   },
   {
    "duration": 4,
    "start_time": "2023-06-19T13:34:01.728Z"
   },
   {
    "duration": 9,
    "start_time": "2023-06-19T13:34:02.088Z"
   },
   {
    "duration": 21,
    "start_time": "2023-06-19T13:37:01.453Z"
   },
   {
    "duration": 3,
    "start_time": "2023-06-19T13:37:02.539Z"
   },
   {
    "duration": 406,
    "start_time": "2023-06-19T13:37:03.036Z"
   },
   {
    "duration": 7,
    "start_time": "2023-06-19T13:37:05.692Z"
   },
   {
    "duration": 2,
    "start_time": "2023-06-19T13:44:35.762Z"
   },
   {
    "duration": 3,
    "start_time": "2023-06-19T13:44:43.574Z"
   },
   {
    "duration": 37,
    "start_time": "2023-06-19T13:44:52.111Z"
   },
   {
    "duration": 3,
    "start_time": "2023-06-19T13:45:23.230Z"
   },
   {
    "duration": 8,
    "start_time": "2023-06-19T13:45:24.725Z"
   },
   {
    "duration": 21,
    "start_time": "2023-06-19T13:46:20.980Z"
   },
   {
    "duration": 3,
    "start_time": "2023-06-19T13:46:50.936Z"
   },
   {
    "duration": 2,
    "start_time": "2023-06-19T13:46:51.367Z"
   },
   {
    "duration": 19,
    "start_time": "2023-06-19T13:47:05.512Z"
   },
   {
    "duration": 4,
    "start_time": "2023-06-19T13:49:09.250Z"
   },
   {
    "duration": 2,
    "start_time": "2023-06-19T13:49:21.187Z"
   },
   {
    "duration": 5,
    "start_time": "2023-06-19T13:49:21.850Z"
   },
   {
    "duration": 2,
    "start_time": "2023-06-19T13:49:25.709Z"
   },
   {
    "duration": 18,
    "start_time": "2023-06-19T13:49:26.434Z"
   },
   {
    "duration": 81,
    "start_time": "2023-06-19T13:56:00.616Z"
   },
   {
    "duration": 22,
    "start_time": "2023-06-19T13:56:10.971Z"
   },
   {
    "duration": 1434,
    "start_time": "2023-06-19T13:56:13.728Z"
   },
   {
    "duration": 3,
    "start_time": "2023-06-19T13:56:18.129Z"
   },
   {
    "duration": 3,
    "start_time": "2023-06-19T13:56:30.920Z"
   },
   {
    "duration": 1237,
    "start_time": "2023-06-19T13:56:32.021Z"
   },
   {
    "duration": 3,
    "start_time": "2023-06-19T13:56:33.899Z"
   },
   {
    "duration": 2,
    "start_time": "2023-06-19T13:56:36.136Z"
   },
   {
    "duration": 8,
    "start_time": "2023-06-19T13:57:13.809Z"
   },
   {
    "duration": 10,
    "start_time": "2023-06-19T13:59:07.992Z"
   },
   {
    "duration": 8,
    "start_time": "2023-06-19T13:59:37.237Z"
   },
   {
    "duration": 15,
    "start_time": "2023-06-19T13:59:44.469Z"
   },
   {
    "duration": 14,
    "start_time": "2023-06-19T14:00:23.533Z"
   },
   {
    "duration": 4,
    "start_time": "2023-06-19T14:00:27.692Z"
   },
   {
    "duration": 4,
    "start_time": "2023-06-19T14:00:28.300Z"
   },
   {
    "duration": 21,
    "start_time": "2023-06-19T14:00:44.909Z"
   },
   {
    "duration": 10,
    "start_time": "2023-06-19T14:01:22.700Z"
   },
   {
    "duration": 3468,
    "start_time": "2023-06-19T14:01:37.468Z"
   },
   {
    "duration": 2,
    "start_time": "2023-06-19T14:01:49.088Z"
   },
   {
    "duration": 560,
    "start_time": "2023-06-19T14:02:02.723Z"
   },
   {
    "duration": 31969,
    "start_time": "2023-06-19T14:02:32.338Z"
   },
   {
    "duration": 407,
    "start_time": "2023-06-22T07:34:00.203Z"
   },
   {
    "duration": 859,
    "start_time": "2023-06-22T07:34:00.612Z"
   },
   {
    "duration": 2837,
    "start_time": "2023-06-22T07:34:15.108Z"
   },
   {
    "duration": 4600,
    "start_time": "2023-06-22T07:34:17.948Z"
   },
   {
    "duration": 3924,
    "start_time": "2023-06-22T07:36:24.899Z"
   },
   {
    "duration": 99,
    "start_time": "2023-06-22T07:36:33.710Z"
   },
   {
    "duration": 11,
    "start_time": "2023-06-22T07:36:35.719Z"
   },
   {
    "duration": 8,
    "start_time": "2023-06-22T07:36:38.605Z"
   },
   {
    "duration": 9,
    "start_time": "2023-06-22T07:36:38.894Z"
   },
   {
    "duration": 11,
    "start_time": "2023-06-22T07:36:39.662Z"
   },
   {
    "duration": 8,
    "start_time": "2023-06-22T07:36:45.350Z"
   },
   {
    "duration": 4,
    "start_time": "2023-06-22T07:36:49.014Z"
   },
   {
    "duration": 303,
    "start_time": "2023-06-22T07:37:12.222Z"
   },
   {
    "duration": 6,
    "start_time": "2023-06-22T07:38:41.734Z"
   },
   {
    "duration": 73,
    "start_time": "2023-06-22T07:38:56.334Z"
   },
   {
    "duration": 4,
    "start_time": "2023-06-22T07:39:01.109Z"
   },
   {
    "duration": 1145,
    "start_time": "2023-06-22T07:49:37.931Z"
   },
   {
    "duration": 4,
    "start_time": "2023-06-22T07:49:39.820Z"
   },
   {
    "duration": 120,
    "start_time": "2023-06-22T07:51:35.323Z"
   },
   {
    "duration": 4,
    "start_time": "2023-06-22T07:52:12.436Z"
   },
   {
    "duration": 978,
    "start_time": "2023-06-22T07:52:18.285Z"
   },
   {
    "duration": 4,
    "start_time": "2023-06-22T07:52:26.941Z"
   },
   {
    "duration": 10,
    "start_time": "2023-06-22T07:53:17.393Z"
   },
   {
    "duration": 15,
    "start_time": "2023-06-22T07:53:30.606Z"
   },
   {
    "duration": 5,
    "start_time": "2023-06-22T07:53:34.991Z"
   },
   {
    "duration": 3,
    "start_time": "2023-06-22T07:53:35.341Z"
   },
   {
    "duration": 54,
    "start_time": "2023-06-22T07:57:49.016Z"
   },
   {
    "duration": 3,
    "start_time": "2023-06-22T07:58:23.159Z"
   },
   {
    "duration": 13,
    "start_time": "2023-06-22T07:58:23.567Z"
   },
   {
    "duration": 6,
    "start_time": "2023-06-22T07:58:38.428Z"
   },
   {
    "duration": 3,
    "start_time": "2023-06-22T07:58:51.301Z"
   },
   {
    "duration": 423,
    "start_time": "2023-06-22T07:58:51.375Z"
   },
   {
    "duration": 24,
    "start_time": "2023-06-22T08:02:39.201Z"
   },
   {
    "duration": 21,
    "start_time": "2023-06-22T08:02:47.903Z"
   },
   {
    "duration": 14,
    "start_time": "2023-06-22T08:03:39.799Z"
   },
   {
    "duration": 34,
    "start_time": "2023-06-22T08:03:52.706Z"
   },
   {
    "duration": 45,
    "start_time": "2023-06-22T08:04:03.494Z"
   },
   {
    "duration": 1385,
    "start_time": "2023-06-22T08:05:41.207Z"
   },
   {
    "duration": 3,
    "start_time": "2023-06-22T08:05:43.562Z"
   },
   {
    "duration": 12,
    "start_time": "2023-06-22T08:05:44.762Z"
   },
   {
    "duration": 1181,
    "start_time": "2023-06-22T08:05:47.602Z"
   },
   {
    "duration": 4,
    "start_time": "2023-06-22T08:05:49.304Z"
   },
   {
    "duration": 3,
    "start_time": "2023-06-22T08:05:51.004Z"
   },
   {
    "duration": 15,
    "start_time": "2023-06-22T08:05:57.207Z"
   },
   {
    "duration": 22,
    "start_time": "2023-06-22T08:05:58.113Z"
   },
   {
    "duration": 5,
    "start_time": "2023-06-22T08:05:58.402Z"
   },
   {
    "duration": 5,
    "start_time": "2023-06-22T08:05:58.666Z"
   },
   {
    "duration": 3,
    "start_time": "2023-06-22T08:06:05.902Z"
   },
   {
    "duration": 4,
    "start_time": "2023-06-22T08:06:26.902Z"
   },
   {
    "duration": 565,
    "start_time": "2023-06-22T08:06:31.227Z"
   },
   {
    "duration": 70,
    "start_time": "2023-06-22T08:06:41.014Z"
   },
   {
    "duration": 2535,
    "start_time": "2023-06-22T08:07:22.210Z"
   },
   {
    "duration": 22,
    "start_time": "2023-06-22T09:05:58.542Z"
   },
   {
    "duration": 83,
    "start_time": "2023-06-22T09:33:07.249Z"
   },
   {
    "duration": 4,
    "start_time": "2023-06-22T09:34:09.027Z"
   },
   {
    "duration": 12,
    "start_time": "2023-06-22T09:36:10.242Z"
   },
   {
    "duration": 9,
    "start_time": "2023-06-22T09:36:13.006Z"
   },
   {
    "duration": 16,
    "start_time": "2023-06-22T09:36:24.495Z"
   },
   {
    "duration": 15,
    "start_time": "2023-06-22T09:37:41.913Z"
   },
   {
    "duration": 16,
    "start_time": "2023-06-22T09:38:40.732Z"
   },
   {
    "duration": 7,
    "start_time": "2023-06-22T09:46:35.620Z"
   },
   {
    "duration": 7,
    "start_time": "2023-06-22T09:46:43.722Z"
   },
   {
    "duration": 6,
    "start_time": "2023-06-22T09:47:08.445Z"
   },
   {
    "duration": 12,
    "start_time": "2023-06-22T09:50:11.801Z"
   },
   {
    "duration": 11,
    "start_time": "2023-06-22T09:50:17.421Z"
   },
   {
    "duration": 6,
    "start_time": "2023-06-22T09:50:47.014Z"
   },
   {
    "duration": 11,
    "start_time": "2023-06-22T09:50:51.741Z"
   },
   {
    "duration": 6,
    "start_time": "2023-06-22T09:51:16.509Z"
   },
   {
    "duration": 15,
    "start_time": "2023-06-22T09:51:19.810Z"
   },
   {
    "duration": 3,
    "start_time": "2023-06-22T11:14:12.304Z"
   },
   {
    "duration": 3,
    "start_time": "2023-06-22T11:14:12.660Z"
   },
   {
    "duration": 29,
    "start_time": "2023-06-22T11:14:13.346Z"
   },
   {
    "duration": 89,
    "start_time": "2023-06-22T11:26:18.618Z"
   },
   {
    "duration": 5,
    "start_time": "2023-06-22T11:26:40.741Z"
   },
   {
    "duration": 3,
    "start_time": "2023-06-22T11:28:42.244Z"
   },
   {
    "duration": 12,
    "start_time": "2023-06-22T11:34:41.326Z"
   },
   {
    "duration": 5,
    "start_time": "2023-06-22T11:35:51.302Z"
   },
   {
    "duration": 3,
    "start_time": "2023-06-22T11:35:51.914Z"
   },
   {
    "duration": 14,
    "start_time": "2023-06-22T11:35:53.337Z"
   },
   {
    "duration": 10,
    "start_time": "2023-06-22T11:36:31.670Z"
   },
   {
    "duration": 138,
    "start_time": "2023-06-22T11:36:55.514Z"
   },
   {
    "duration": 145,
    "start_time": "2023-06-22T11:37:37.043Z"
   },
   {
    "duration": 37,
    "start_time": "2023-06-22T11:37:40.750Z"
   },
   {
    "duration": 11,
    "start_time": "2023-06-22T11:38:06.765Z"
   },
   {
    "duration": 4167,
    "start_time": "2023-06-22T11:39:43.864Z"
   },
   {
    "duration": 36,
    "start_time": "2023-06-22T11:39:52.404Z"
   },
   {
    "duration": 16,
    "start_time": "2023-06-22T11:40:23.130Z"
   },
   {
    "duration": 1977,
    "start_time": "2023-06-22T11:41:00.806Z"
   },
   {
    "duration": 12,
    "start_time": "2023-06-22T11:41:08.934Z"
   },
   {
    "duration": 3746,
    "start_time": "2023-06-22T11:41:26.018Z"
   },
   {
    "duration": 14,
    "start_time": "2023-06-22T11:41:30.511Z"
   },
   {
    "duration": 16,
    "start_time": "2023-06-22T11:41:33.751Z"
   },
   {
    "duration": 21,
    "start_time": "2023-06-22T11:41:38.630Z"
   },
   {
    "duration": 9,
    "start_time": "2023-06-22T11:41:51.518Z"
   },
   {
    "duration": 4,
    "start_time": "2023-06-22T11:41:52.062Z"
   },
   {
    "duration": 10,
    "start_time": "2023-06-22T11:41:56.422Z"
   },
   {
    "duration": 11,
    "start_time": "2023-06-22T11:42:21.519Z"
   },
   {
    "duration": 13,
    "start_time": "2023-06-22T11:42:22.019Z"
   },
   {
    "duration": 3,
    "start_time": "2023-06-22T11:42:48.934Z"
   },
   {
    "duration": 73,
    "start_time": "2023-06-22T11:42:49.223Z"
   },
   {
    "duration": 4,
    "start_time": "2023-06-22T11:42:49.542Z"
   },
   {
    "duration": 12,
    "start_time": "2023-06-22T11:42:52.031Z"
   },
   {
    "duration": 1197,
    "start_time": "2023-06-22T11:42:52.301Z"
   },
   {
    "duration": 4,
    "start_time": "2023-06-22T11:42:53.501Z"
   },
   {
    "duration": 3,
    "start_time": "2023-06-22T11:42:55.132Z"
   },
   {
    "duration": 11,
    "start_time": "2023-06-22T11:42:55.702Z"
   },
   {
    "duration": 17,
    "start_time": "2023-06-22T11:42:55.913Z"
   },
   {
    "duration": 4,
    "start_time": "2023-06-22T11:42:56.127Z"
   },
   {
    "duration": 4,
    "start_time": "2023-06-22T11:42:56.355Z"
   },
   {
    "duration": 2,
    "start_time": "2023-06-22T11:42:57.823Z"
   },
   {
    "duration": 2,
    "start_time": "2023-06-22T11:42:58.114Z"
   },
   {
    "duration": 541,
    "start_time": "2023-06-22T11:42:58.721Z"
   },
   {
    "duration": 10,
    "start_time": "2023-06-22T11:43:03.010Z"
   },
   {
    "duration": 14,
    "start_time": "2023-06-22T11:43:03.217Z"
   },
   {
    "duration": 6,
    "start_time": "2023-06-22T11:43:04.618Z"
   },
   {
    "duration": 4,
    "start_time": "2023-06-22T11:43:07.149Z"
   },
   {
    "duration": 151,
    "start_time": "2023-06-22T11:43:12.125Z"
   },
   {
    "duration": 38,
    "start_time": "2023-06-22T11:43:38.951Z"
   },
   {
    "duration": 588,
    "start_time": "2023-06-22T11:48:55.607Z"
   },
   {
    "duration": 9,
    "start_time": "2023-06-22T11:49:09.312Z"
   },
   {
    "duration": 3,
    "start_time": "2023-06-22T11:56:07.021Z"
   },
   {
    "duration": 194,
    "start_time": "2023-06-22T11:56:07.236Z"
   },
   {
    "duration": 23,
    "start_time": "2023-06-22T12:00:49.728Z"
   },
   {
    "duration": 14,
    "start_time": "2023-06-22T12:00:57.060Z"
   },
   {
    "duration": 16,
    "start_time": "2023-06-22T12:01:10.119Z"
   },
   {
    "duration": 12,
    "start_time": "2023-06-22T12:01:11.110Z"
   },
   {
    "duration": 11,
    "start_time": "2023-06-22T12:01:21.625Z"
   },
   {
    "duration": 4,
    "start_time": "2023-06-22T12:01:27.729Z"
   },
   {
    "duration": 687,
    "start_time": "2023-06-22T12:03:37.206Z"
   },
   {
    "duration": 19,
    "start_time": "2023-06-22T12:03:38.421Z"
   },
   {
    "duration": 6,
    "start_time": "2023-06-22T12:03:53.831Z"
   },
   {
    "duration": 19,
    "start_time": "2023-06-22T12:04:07.534Z"
   },
   {
    "duration": 34,
    "start_time": "2023-06-22T12:05:43.938Z"
   },
   {
    "duration": 4,
    "start_time": "2023-06-22T12:05:46.240Z"
   },
   {
    "duration": 4,
    "start_time": "2023-06-22T12:06:22.966Z"
   },
   {
    "duration": 109,
    "start_time": "2023-06-22T12:06:26.617Z"
   },
   {
    "duration": 5,
    "start_time": "2023-06-22T12:06:28.839Z"
   },
   {
    "duration": 13,
    "start_time": "2023-06-22T12:06:34.017Z"
   },
   {
    "duration": 1379,
    "start_time": "2023-06-22T12:06:57.117Z"
   },
   {
    "duration": 5,
    "start_time": "2023-06-22T12:06:58.932Z"
   },
   {
    "duration": 3,
    "start_time": "2023-06-22T12:07:03.055Z"
   },
   {
    "duration": 10,
    "start_time": "2023-06-22T12:07:08.510Z"
   },
   {
    "duration": 10,
    "start_time": "2023-06-22T12:07:42.630Z"
   },
   {
    "duration": 15,
    "start_time": "2023-06-22T12:07:42.839Z"
   },
   {
    "duration": 4,
    "start_time": "2023-06-22T12:07:43.038Z"
   },
   {
    "duration": 5,
    "start_time": "2023-06-22T12:07:43.234Z"
   },
   {
    "duration": 2,
    "start_time": "2023-06-22T12:07:43.424Z"
   },
   {
    "duration": 4,
    "start_time": "2023-06-22T12:07:43.825Z"
   },
   {
    "duration": 33,
    "start_time": "2023-06-22T12:07:44.110Z"
   },
   {
    "duration": 15,
    "start_time": "2023-06-22T12:08:51.134Z"
   },
   {
    "duration": 35,
    "start_time": "2023-06-22T12:08:59.321Z"
   },
   {
    "duration": 9,
    "start_time": "2023-06-22T12:10:45.443Z"
   },
   {
    "duration": 112,
    "start_time": "2023-06-22T12:15:47.324Z"
   },
   {
    "duration": 21,
    "start_time": "2023-06-22T12:15:48.811Z"
   },
   {
    "duration": 31,
    "start_time": "2023-06-22T12:15:54.660Z"
   },
   {
    "duration": 5,
    "start_time": "2023-06-22T12:16:48.215Z"
   },
   {
    "duration": 68,
    "start_time": "2023-06-22T12:17:51.313Z"
   },
   {
    "duration": 69,
    "start_time": "2023-06-22T12:17:56.147Z"
   },
   {
    "duration": 94,
    "start_time": "2023-06-22T12:18:00.215Z"
   },
   {
    "duration": 5,
    "start_time": "2023-06-22T12:18:21.240Z"
   },
   {
    "duration": 91,
    "start_time": "2023-06-22T12:18:28.112Z"
   },
   {
    "duration": 41,
    "start_time": "2023-06-22T12:20:34.610Z"
   },
   {
    "duration": 3,
    "start_time": "2023-06-22T12:20:34.965Z"
   },
   {
    "duration": 87,
    "start_time": "2023-06-22T12:20:35.246Z"
   },
   {
    "duration": 15,
    "start_time": "2023-06-22T12:20:35.958Z"
   },
   {
    "duration": 1238,
    "start_time": "2023-06-22T12:20:37.849Z"
   },
   {
    "duration": 5,
    "start_time": "2023-06-22T12:23:41.868Z"
   },
   {
    "duration": 111,
    "start_time": "2023-06-22T12:23:46.044Z"
   },
   {
    "duration": 8,
    "start_time": "2023-06-22T12:25:24.708Z"
   },
   {
    "duration": 3,
    "start_time": "2023-06-22T12:25:24.958Z"
   },
   {
    "duration": 137,
    "start_time": "2023-06-22T12:25:25.370Z"
   },
   {
    "duration": 197,
    "start_time": "2023-06-22T12:25:26.308Z"
   },
   {
    "duration": 565,
    "start_time": "2023-06-22T12:28:19.752Z"
   },
   {
    "duration": 78,
    "start_time": "2023-06-22T12:30:42.896Z"
   },
   {
    "duration": 12,
    "start_time": "2023-06-22T12:30:45.029Z"
   },
   {
    "duration": 1255,
    "start_time": "2023-06-22T12:30:49.576Z"
   },
   {
    "duration": 4,
    "start_time": "2023-06-22T12:30:52.321Z"
   },
   {
    "duration": 3,
    "start_time": "2023-06-22T12:30:54.125Z"
   },
   {
    "duration": 11,
    "start_time": "2023-06-22T12:30:54.921Z"
   },
   {
    "duration": 16,
    "start_time": "2023-06-22T12:30:55.222Z"
   },
   {
    "duration": 4,
    "start_time": "2023-06-22T12:30:55.517Z"
   },
   {
    "duration": 5,
    "start_time": "2023-06-22T12:30:55.741Z"
   },
   {
    "duration": 6,
    "start_time": "2023-06-22T12:30:56.780Z"
   },
   {
    "duration": 3,
    "start_time": "2023-06-22T12:30:57.038Z"
   },
   {
    "duration": 626,
    "start_time": "2023-06-22T12:30:57.514Z"
   },
   {
    "duration": 8,
    "start_time": "2023-06-22T12:31:05.709Z"
   },
   {
    "duration": 3,
    "start_time": "2023-06-22T12:31:06.074Z"
   },
   {
    "duration": 159,
    "start_time": "2023-06-22T12:31:18.921Z"
   },
   {
    "duration": 10,
    "start_time": "2023-06-22T12:31:27.871Z"
   },
   {
    "duration": 21,
    "start_time": "2023-06-22T12:31:37.469Z"
   },
   {
    "duration": 87,
    "start_time": "2023-06-22T12:31:52.165Z"
   },
   {
    "duration": 135,
    "start_time": "2023-06-22T12:32:36.066Z"
   },
   {
    "duration": 11,
    "start_time": "2023-06-22T12:32:43.175Z"
   },
   {
    "duration": 86,
    "start_time": "2023-06-22T12:33:33.271Z"
   },
   {
    "duration": 18,
    "start_time": "2023-06-22T12:33:55.817Z"
   },
   {
    "duration": 84,
    "start_time": "2023-06-22T12:34:12.207Z"
   },
   {
    "duration": 152,
    "start_time": "2023-06-22T12:34:25.322Z"
   },
   {
    "duration": 147,
    "start_time": "2023-06-22T12:34:26.634Z"
   },
   {
    "duration": 7,
    "start_time": "2023-06-22T12:34:35.917Z"
   },
   {
    "duration": 17,
    "start_time": "2023-06-22T12:34:38.348Z"
   },
   {
    "duration": 4,
    "start_time": "2023-06-22T12:34:40.869Z"
   },
   {
    "duration": 3,
    "start_time": "2023-06-22T12:34:42.325Z"
   },
   {
    "duration": 40,
    "start_time": "2023-06-22T12:35:18.944Z"
   },
   {
    "duration": 64,
    "start_time": "2023-06-22T12:35:52.338Z"
   },
   {
    "duration": 14,
    "start_time": "2023-06-22T12:35:55.852Z"
   },
   {
    "duration": 5,
    "start_time": "2023-06-22T12:36:23.174Z"
   },
   {
    "duration": 4,
    "start_time": "2023-06-22T12:36:23.418Z"
   },
   {
    "duration": 15,
    "start_time": "2023-06-22T12:36:41.677Z"
   },
   {
    "duration": 3,
    "start_time": "2023-06-22T12:36:42.532Z"
   },
   {
    "duration": 2535,
    "start_time": "2023-06-22T12:36:43.344Z"
   },
   {
    "duration": 3481,
    "start_time": "2023-06-22T12:37:32.126Z"
   },
   {
    "duration": 3,
    "start_time": "2023-06-22T12:38:14.722Z"
   },
   {
    "duration": 29,
    "start_time": "2023-06-22T12:38:16.410Z"
   },
   {
    "duration": 7,
    "start_time": "2023-06-22T12:39:35.774Z"
   },
   {
    "duration": 4,
    "start_time": "2023-06-22T12:39:37.641Z"
   },
   {
    "duration": 3333,
    "start_time": "2023-06-22T12:39:38.440Z"
   },
   {
    "duration": 9,
    "start_time": "2023-06-22T12:40:39.623Z"
   },
   {
    "duration": 3,
    "start_time": "2023-06-22T12:41:03.646Z"
   },
   {
    "duration": 91,
    "start_time": "2023-06-22T12:43:30.122Z"
   },
   {
    "duration": 11,
    "start_time": "2023-06-22T12:43:34.706Z"
   },
   {
    "duration": 6,
    "start_time": "2023-06-22T12:43:54.946Z"
   },
   {
    "duration": 11,
    "start_time": "2023-06-22T12:43:56.619Z"
   },
   {
    "duration": 3,
    "start_time": "2023-06-22T12:44:06.725Z"
   },
   {
    "duration": 10,
    "start_time": "2023-06-22T12:44:07.210Z"
   },
   {
    "duration": 14,
    "start_time": "2023-06-22T12:44:29.475Z"
   },
   {
    "duration": 3,
    "start_time": "2023-06-22T12:45:00.777Z"
   },
   {
    "duration": 15,
    "start_time": "2023-06-22T12:45:01.122Z"
   },
   {
    "duration": 93,
    "start_time": "2023-06-22T12:45:59.481Z"
   },
   {
    "duration": 6,
    "start_time": "2023-06-22T12:46:02.532Z"
   },
   {
    "duration": 3,
    "start_time": "2023-06-22T12:46:06.405Z"
   },
   {
    "duration": 18,
    "start_time": "2023-06-22T12:46:07.427Z"
   },
   {
    "duration": 18,
    "start_time": "2023-06-22T12:46:18.855Z"
   },
   {
    "duration": 6,
    "start_time": "2023-06-22T12:48:56.824Z"
   },
   {
    "duration": 4070,
    "start_time": "2023-06-22T12:49:03.866Z"
   },
   {
    "duration": 16,
    "start_time": "2023-06-22T12:49:09.223Z"
   },
   {
    "duration": 30,
    "start_time": "2023-06-22T12:49:09.740Z"
   },
   {
    "duration": 13,
    "start_time": "2023-06-22T12:49:11.651Z"
   },
   {
    "duration": 7,
    "start_time": "2023-06-22T12:49:31.143Z"
   },
   {
    "duration": 3,
    "start_time": "2023-06-22T12:49:31.623Z"
   },
   {
    "duration": 11,
    "start_time": "2023-06-22T12:49:32.022Z"
   },
   {
    "duration": 3,
    "start_time": "2023-06-22T12:49:34.911Z"
   },
   {
    "duration": 5,
    "start_time": "2023-06-22T12:49:35.236Z"
   },
   {
    "duration": 3,
    "start_time": "2023-06-22T12:49:39.715Z"
   },
   {
    "duration": 82,
    "start_time": "2023-06-22T12:49:40.219Z"
   },
   {
    "duration": 18,
    "start_time": "2023-06-22T12:49:44.619Z"
   },
   {
    "duration": 1417,
    "start_time": "2023-06-22T12:49:44.952Z"
   },
   {
    "duration": 5,
    "start_time": "2023-06-22T12:49:46.371Z"
   },
   {
    "duration": 3,
    "start_time": "2023-06-22T12:49:49.343Z"
   },
   {
    "duration": 10,
    "start_time": "2023-06-22T12:49:50.323Z"
   },
   {
    "duration": 15,
    "start_time": "2023-06-22T12:49:51.470Z"
   },
   {
    "duration": 4,
    "start_time": "2023-06-22T12:49:51.820Z"
   },
   {
    "duration": 4,
    "start_time": "2023-06-22T12:49:52.345Z"
   },
   {
    "duration": 2,
    "start_time": "2023-06-22T12:49:54.972Z"
   },
   {
    "duration": 3,
    "start_time": "2023-06-22T12:49:55.425Z"
   },
   {
    "duration": 625,
    "start_time": "2023-06-22T12:49:56.469Z"
   },
   {
    "duration": 5,
    "start_time": "2023-06-22T12:50:20.998Z"
   },
   {
    "duration": 3,
    "start_time": "2023-06-22T12:50:25.411Z"
   },
   {
    "duration": 154,
    "start_time": "2023-06-22T12:50:28.771Z"
   },
   {
    "duration": 60,
    "start_time": "2023-06-22T12:50:33.651Z"
   },
   {
    "duration": 6,
    "start_time": "2023-06-22T12:50:47.571Z"
   },
   {
    "duration": 2,
    "start_time": "2023-06-22T12:50:53.368Z"
   },
   {
    "duration": 17,
    "start_time": "2023-06-22T12:51:01.556Z"
   },
   {
    "duration": 64,
    "start_time": "2023-06-22T12:51:53.409Z"
   },
   {
    "duration": 1894,
    "start_time": "2023-06-22T12:52:00.120Z"
   },
   {
    "duration": 12,
    "start_time": "2023-06-22T12:52:08.430Z"
   },
   {
    "duration": 3,
    "start_time": "2023-06-22T12:52:13.065Z"
   },
   {
    "duration": 15,
    "start_time": "2023-06-22T12:52:14.767Z"
   },
   {
    "duration": 3,
    "start_time": "2023-06-22T12:52:32.534Z"
   },
   {
    "duration": 49703,
    "start_time": "2023-06-22T12:52:33.367Z"
   },
   {
    "duration": 4,
    "start_time": "2023-06-22T12:53:56.523Z"
   },
   {
    "duration": 22,
    "start_time": "2023-06-22T12:54:16.236Z"
   },
   {
    "duration": 4,
    "start_time": "2023-06-22T12:54:39.773Z"
   },
   {
    "duration": 11,
    "start_time": "2023-06-22T12:55:07.354Z"
   },
   {
    "duration": 13,
    "start_time": "2023-06-22T12:55:54.823Z"
   },
   {
    "duration": 18,
    "start_time": "2023-06-22T13:01:19.559Z"
   },
   {
    "duration": 25,
    "start_time": "2023-06-22T13:01:30.955Z"
   },
   {
    "duration": 33,
    "start_time": "2023-06-22T13:02:51.732Z"
   },
   {
    "duration": 4,
    "start_time": "2023-06-22T13:09:18.128Z"
   },
   {
    "duration": 15,
    "start_time": "2023-06-22T13:09:33.797Z"
   },
   {
    "duration": 11,
    "start_time": "2023-06-22T13:12:28.539Z"
   },
   {
    "duration": 4,
    "start_time": "2023-06-22T13:18:00.348Z"
   },
   {
    "duration": 7,
    "start_time": "2023-06-22T13:18:00.731Z"
   },
   {
    "duration": 2702,
    "start_time": "2023-06-22T13:18:05.707Z"
   },
   {
    "duration": 593,
    "start_time": "2023-06-22T13:18:09.623Z"
   },
   {
    "duration": 4510,
    "start_time": "2023-06-22T13:18:11.720Z"
   },
   {
    "duration": 12,
    "start_time": "2023-06-22T13:18:16.232Z"
   },
   {
    "duration": 4,
    "start_time": "2023-06-22T13:18:18.871Z"
   },
   {
    "duration": 8,
    "start_time": "2023-06-22T13:18:22.314Z"
   },
   {
    "duration": 5,
    "start_time": "2023-06-22T13:18:34.916Z"
   },
   {
    "duration": 20,
    "start_time": "2023-06-22T13:18:35.370Z"
   },
   {
    "duration": 3,
    "start_time": "2023-06-22T13:18:38.348Z"
   },
   {
    "duration": 5,
    "start_time": "2023-06-22T13:19:18.636Z"
   },
   {
    "duration": 10,
    "start_time": "2023-06-22T13:20:10.268Z"
   },
   {
    "duration": 4,
    "start_time": "2023-06-22T13:20:17.515Z"
   },
   {
    "duration": 12,
    "start_time": "2023-06-22T13:20:23.052Z"
   },
   {
    "duration": 39049,
    "start_time": "2023-06-22T13:20:30.956Z"
   },
   {
    "duration": 20,
    "start_time": "2023-06-22T13:21:11.523Z"
   },
   {
    "duration": 15,
    "start_time": "2023-06-22T13:29:05.114Z"
   },
   {
    "duration": 29,
    "start_time": "2023-06-22T13:29:16.436Z"
   },
   {
    "duration": 3,
    "start_time": "2023-06-22T13:30:12.798Z"
   },
   {
    "duration": 26,
    "start_time": "2023-06-22T13:30:19.445Z"
   },
   {
    "duration": 16,
    "start_time": "2023-06-22T13:30:32.799Z"
   },
   {
    "duration": 6,
    "start_time": "2023-06-22T13:30:40.250Z"
   },
   {
    "duration": 14,
    "start_time": "2023-06-22T13:30:57.472Z"
   },
   {
    "duration": 12,
    "start_time": "2023-06-22T13:31:12.259Z"
   },
   {
    "duration": 7,
    "start_time": "2023-06-22T13:31:45.071Z"
   },
   {
    "duration": 3,
    "start_time": "2023-06-22T13:31:48.642Z"
   },
   {
    "duration": 7,
    "start_time": "2023-06-22T13:32:11.727Z"
   },
   {
    "duration": 3,
    "start_time": "2023-06-22T13:32:13.049Z"
   },
   {
    "duration": 997,
    "start_time": "2023-06-22T13:32:13.712Z"
   },
   {
    "duration": 20,
    "start_time": "2023-06-22T13:33:28.575Z"
   },
   {
    "duration": 4,
    "start_time": "2023-06-22T13:33:46.440Z"
   },
   {
    "duration": 4,
    "start_time": "2023-06-22T13:33:49.722Z"
   },
   {
    "duration": 8,
    "start_time": "2023-06-22T13:34:00.602Z"
   },
   {
    "duration": 3,
    "start_time": "2023-06-22T13:34:01.864Z"
   },
   {
    "duration": 777,
    "start_time": "2023-06-22T13:34:03.913Z"
   },
   {
    "duration": 158,
    "start_time": "2023-06-22T13:37:17.020Z"
   },
   {
    "duration": 461,
    "start_time": "2023-07-07T07:00:26.472Z"
   },
   {
    "duration": 3370,
    "start_time": "2023-07-07T07:00:45.927Z"
   },
   {
    "duration": 514,
    "start_time": "2023-07-07T07:00:49.299Z"
   },
   {
    "duration": 18,
    "start_time": "2023-07-07T07:01:06.112Z"
   },
   {
    "duration": 11,
    "start_time": "2023-07-07T07:01:44.215Z"
   },
   {
    "duration": 245,
    "start_time": "2023-07-07T07:30:40.018Z"
   },
   {
    "duration": 4938,
    "start_time": "2023-07-07T08:10:48.021Z"
   },
   {
    "duration": 154,
    "start_time": "2023-07-07T08:10:54.013Z"
   },
   {
    "duration": 16,
    "start_time": "2023-07-07T08:11:02.110Z"
   },
   {
    "duration": 12,
    "start_time": "2023-07-07T08:11:14.832Z"
   },
   {
    "duration": 76,
    "start_time": "2023-07-07T08:12:46.654Z"
   },
   {
    "duration": 8,
    "start_time": "2023-07-07T08:12:54.837Z"
   },
   {
    "duration": 2650,
    "start_time": "2023-07-07T08:13:14.383Z"
   },
   {
    "duration": 479,
    "start_time": "2023-07-07T08:13:26.590Z"
   },
   {
    "duration": 12,
    "start_time": "2023-07-07T08:13:29.518Z"
   },
   {
    "duration": 5,
    "start_time": "2023-07-07T08:13:30.526Z"
   },
   {
    "duration": 35,
    "start_time": "2023-07-07T08:13:44.094Z"
   },
   {
    "duration": 4205,
    "start_time": "2023-07-07T08:14:07.836Z"
   },
   {
    "duration": 55,
    "start_time": "2023-07-07T08:14:34.165Z"
   },
   {
    "duration": 61,
    "start_time": "2023-07-07T08:14:54.517Z"
   },
   {
    "duration": 8,
    "start_time": "2023-07-07T08:17:06.425Z"
   },
   {
    "duration": 10,
    "start_time": "2023-07-07T08:17:12.293Z"
   },
   {
    "duration": 1240,
    "start_time": "2023-07-07T08:18:03.206Z"
   },
   {
    "duration": 16,
    "start_time": "2023-07-07T08:18:13.135Z"
   },
   {
    "duration": 14,
    "start_time": "2023-07-07T08:18:36.318Z"
   },
   {
    "duration": 146,
    "start_time": "2023-07-07T08:18:46.294Z"
   },
   {
    "duration": 11,
    "start_time": "2023-07-07T08:18:48.506Z"
   },
   {
    "duration": 9,
    "start_time": "2023-07-07T08:20:01.482Z"
   },
   {
    "duration": 24,
    "start_time": "2023-07-07T08:20:12.342Z"
   },
   {
    "duration": 12,
    "start_time": "2023-07-07T08:20:20.823Z"
   },
   {
    "duration": 12,
    "start_time": "2023-07-07T08:20:26.270Z"
   },
   {
    "duration": 26,
    "start_time": "2023-07-07T08:20:36.150Z"
   },
   {
    "duration": 7,
    "start_time": "2023-07-07T08:21:46.943Z"
   },
   {
    "duration": 4526,
    "start_time": "2023-07-07T08:21:54.295Z"
   },
   {
    "duration": 19,
    "start_time": "2023-07-07T08:22:06.783Z"
   },
   {
    "duration": 63,
    "start_time": "2023-07-07T08:22:17.120Z"
   },
   {
    "duration": 17,
    "start_time": "2023-07-07T08:22:27.706Z"
   },
   {
    "duration": 5,
    "start_time": "2023-07-07T08:25:21.112Z"
   },
   {
    "duration": 12,
    "start_time": "2023-07-07T08:27:12.095Z"
   },
   {
    "duration": 4,
    "start_time": "2023-07-07T08:28:18.537Z"
   },
   {
    "duration": 6,
    "start_time": "2023-07-07T08:30:24.163Z"
   },
   {
    "duration": 5,
    "start_time": "2023-07-07T08:30:38.104Z"
   },
   {
    "duration": 8,
    "start_time": "2023-07-07T08:31:53.665Z"
   },
   {
    "duration": 5,
    "start_time": "2023-07-07T08:32:03.153Z"
   },
   {
    "duration": 5,
    "start_time": "2023-07-07T08:32:23.044Z"
   },
   {
    "duration": 5,
    "start_time": "2023-07-07T08:32:32.961Z"
   },
   {
    "duration": 4,
    "start_time": "2023-07-07T08:32:50.593Z"
   },
   {
    "duration": 5,
    "start_time": "2023-07-07T08:32:51.281Z"
   },
   {
    "duration": 2,
    "start_time": "2023-07-07T08:33:05.650Z"
   },
   {
    "duration": 5,
    "start_time": "2023-07-07T08:33:06.209Z"
   },
   {
    "duration": 492,
    "start_time": "2023-07-07T08:35:49.397Z"
   },
   {
    "duration": 6,
    "start_time": "2023-07-07T08:36:01.401Z"
   },
   {
    "duration": 534,
    "start_time": "2023-07-07T08:36:16.762Z"
   },
   {
    "duration": 6,
    "start_time": "2023-07-07T08:36:19.811Z"
   },
   {
    "duration": 523,
    "start_time": "2023-07-07T08:36:42.739Z"
   },
   {
    "duration": 6,
    "start_time": "2023-07-07T08:36:44.482Z"
   },
   {
    "duration": 5,
    "start_time": "2023-07-07T08:37:37.921Z"
   },
   {
    "duration": 408,
    "start_time": "2023-07-11T12:28:57.598Z"
   }
  ],
  "kernelspec": {
   "display_name": "Python 3 (ipykernel)",
   "language": "python",
   "name": "python3"
  },
  "language_info": {
   "codemirror_mode": {
    "name": "ipython",
    "version": 3
   },
   "file_extension": ".py",
   "mimetype": "text/x-python",
   "name": "python",
   "nbconvert_exporter": "python",
   "pygments_lexer": "ipython3",
   "version": "3.10.9"
  },
  "toc": {
   "base_numbering": 1,
   "nav_menu": {},
   "number_sections": true,
   "sideBar": true,
   "skip_h1_title": true,
   "title_cell": "Table of Contents",
   "title_sidebar": "Contents",
   "toc_cell": false,
   "toc_position": {},
   "toc_section_display": true,
   "toc_window_display": false
  }
 },
 "nbformat": 4,
 "nbformat_minor": 5
}
